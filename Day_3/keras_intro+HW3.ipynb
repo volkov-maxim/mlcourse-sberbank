{
 "cells": [
  {
   "cell_type": "markdown",
   "metadata": {
    "colab_type": "text",
    "id": "y9vA9Dhd0TbN"
   },
   "source": [
    "# Нейронные сети с Keras\n",
    "Keras -- простая библиотека для написания нейронных сетей. Keras не позволяет строить сложные модели со специфическими функциями потерь, но зато удобен в использовании. Синтаксис Keras напоминает синтаксис sklearn."
   ]
  },
  {
   "cell_type": "code",
   "execution_count": 1,
   "metadata": {
    "colab": {
     "base_uri": "https://localhost:8080/",
     "height": 35
    },
    "colab_type": "code",
    "id": "JUmzTr6I0TbQ",
    "outputId": "269180b7-e4d1-45f7-f4bb-450cd3d808b3"
   },
   "outputs": [
    {
     "name": "stderr",
     "output_type": "stream",
     "text": [
      "Using TensorFlow backend.\n"
     ]
    }
   ],
   "source": [
    "import numpy as np\n",
    "import keras, keras.layers as L\n",
    "from tensorflow.python.util import deprecation\n",
    "deprecation._PRINT_DEPRECATION_WARNINGS = False"
   ]
  },
  {
   "cell_type": "markdown",
   "metadata": {
    "colab_type": "text",
    "id": "rCb9LE5s0TbW"
   },
   "source": [
    "### Введение\n",
    "Основной класс для работы с керасом -- модель Sequential. В модель можно последовательно добавлять слои нейронной сети. \n",
    "\n",
    "После добавления всех слоёв можно вызвать model.compile, указав в аргументах функцию потерь, оптимизатор и метрику, которую необходимо считать при оптиимзации.\n",
    "\n",
    "Функция .summary выводит информацию о нейронной сети."
   ]
  },
  {
   "cell_type": "code",
   "execution_count": 2,
   "metadata": {
    "colab": {
     "base_uri": "https://localhost:8080/",
     "height": 228
    },
    "colab_type": "code",
    "id": "OSq_QCGC0TbY",
    "outputId": "ff06465d-4beb-4bad-afe5-607f84f83b97"
   },
   "outputs": [
    {
     "name": "stderr",
     "output_type": "stream",
     "text": [
      "WARNING: Logging before flag parsing goes to stderr.\n",
      "W0723 13:05:16.434127 139787691173760 deprecation_wrapper.py:119] From /usr/local/lib/python3.6/dist-packages/keras/backend/tensorflow_backend.py:74: The name tf.get_default_graph is deprecated. Please use tf.compat.v1.get_default_graph instead.\n",
      "\n",
      "W0723 13:05:16.483586 139787691173760 deprecation_wrapper.py:119] From /usr/local/lib/python3.6/dist-packages/keras/backend/tensorflow_backend.py:517: The name tf.placeholder is deprecated. Please use tf.compat.v1.placeholder instead.\n",
      "\n",
      "W0723 13:05:16.492871 139787691173760 deprecation_wrapper.py:119] From /usr/local/lib/python3.6/dist-packages/keras/backend/tensorflow_backend.py:4138: The name tf.random_uniform is deprecated. Please use tf.random.uniform instead.\n",
      "\n",
      "W0723 13:05:16.515692 139787691173760 deprecation_wrapper.py:119] From /usr/local/lib/python3.6/dist-packages/keras/optimizers.py:790: The name tf.train.Optimizer is deprecated. Please use tf.compat.v1.train.Optimizer instead.\n",
      "\n",
      "W0723 13:05:16.531099 139787691173760 deprecation_wrapper.py:119] From /usr/local/lib/python3.6/dist-packages/keras/backend/tensorflow_backend.py:3341: The name tf.log is deprecated. Please use tf.math.log instead.\n",
      "\n"
     ]
    }
   ],
   "source": [
    "model = keras.models.Sequential()\n",
    "model.add(L.InputLayer(input_shape=[64]))\n",
    "model.add(L.Dense(100, activation='relu'))\n",
    "model.add(L.Dense(10, activation='softmax'))\n",
    "\n",
    "model.compile(loss='sparse_categorical_crossentropy', optimizer='adam', metrics=['accuracy'])"
   ]
  },
  {
   "cell_type": "code",
   "execution_count": 3,
   "metadata": {
    "colab": {
     "base_uri": "https://localhost:8080/",
     "height": 208
    },
    "colab_type": "code",
    "id": "jmSFG0iM0Tbc",
    "outputId": "327a9d00-3106-4211-cb09-43efc458434f"
   },
   "outputs": [
    {
     "name": "stdout",
     "output_type": "stream",
     "text": [
      "_________________________________________________________________\n",
      "Layer (type)                 Output Shape              Param #   \n",
      "=================================================================\n",
      "dense_1 (Dense)              (None, 100)               6500      \n",
      "_________________________________________________________________\n",
      "dense_2 (Dense)              (None, 10)                1010      \n",
      "=================================================================\n",
      "Total params: 7,510\n",
      "Trainable params: 7,510\n",
      "Non-trainable params: 0\n",
      "_________________________________________________________________\n"
     ]
    }
   ],
   "source": [
    "model.summary()"
   ]
  },
  {
   "cell_type": "markdown",
   "metadata": {
    "colab_type": "text",
    "id": "uj5lyTVR0Tbg"
   },
   "source": [
    "Обучим модель на датасете digits. "
   ]
  },
  {
   "cell_type": "code",
   "execution_count": 4,
   "metadata": {
    "colab": {
     "base_uri": "https://localhost:8080/",
     "height": 287
    },
    "colab_type": "code",
    "id": "48Jcpjwf0Tbh",
    "outputId": "c7b946d1-abac-4bfc-cd0f-c698e7369b79"
   },
   "outputs": [
    {
     "data": {
      "text/plain": [
       "0"
      ]
     },
     "execution_count": 4,
     "metadata": {
      "tags": []
     },
     "output_type": "execute_result"
    },
    {
     "data": {
      "image/png": "[encoded data removed]",
      "text/plain": [
       "<Figure size 432x288 with 1 Axes>"
      ]
     },
     "metadata": {
      "tags": []
     },
     "output_type": "display_data"
    }
   ],
   "source": [
    "from sklearn.datasets import load_digits\n",
    "import matplotlib.pyplot as plt\n",
    "\n",
    "X, y = load_digits(return_X_y=True)\n",
    "\n",
    "plt.imshow(X[0].reshape((8,8)))\n",
    "\n",
    "y[0]"
   ]
  },
  {
   "cell_type": "code",
   "execution_count": 0,
   "metadata": {
    "colab": {},
    "colab_type": "code",
    "id": "pT0V4aMh0Tbl"
   },
   "outputs": [],
   "source": [
    "from sklearn.model_selection import train_test_split\n",
    "X_train, X_test, y_train, y_test = train_test_split(X, y, test_size=0.2)"
   ]
  },
  {
   "cell_type": "code",
   "execution_count": 6,
   "metadata": {
    "colab": {
     "base_uri": "https://localhost:8080/",
     "height": 1000
    },
    "colab_type": "code",
    "id": "p6_cllsK0Tbo",
    "outputId": "196fb9a8-b436-4076-8ef0-912bc264a76e"
   },
   "outputs": [
    {
     "name": "stderr",
     "output_type": "stream",
     "text": [
      "W0723 13:07:02.928800 139787691173760 deprecation_wrapper.py:119] From /usr/local/lib/python3.6/dist-packages/keras/backend/tensorflow_backend.py:986: The name tf.assign_add is deprecated. Please use tf.compat.v1.assign_add instead.\n",
      "\n"
     ]
    },
    {
     "name": "stdout",
     "output_type": "stream",
     "text": [
      "Train on 1437 samples, validate on 360 samples\n",
      "Epoch 1/100\n",
      "1437/1437 [==============================] - 5s 3ms/step - loss: 3.6858 - acc: 0.3862 - val_loss: 0.8977 - val_acc: 0.7417\n",
      "Epoch 2/100\n",
      "1437/1437 [==============================] - 0s 87us/step - loss: 0.4988 - acc: 0.8434 - val_loss: 0.3691 - val_acc: 0.8889\n",
      "Epoch 3/100\n",
      "1437/1437 [==============================] - 0s 97us/step - loss: 0.2489 - acc: 0.9332 - val_loss: 0.2583 - val_acc: 0.9278\n",
      "Epoch 4/100\n",
      "1437/1437 [==============================] - 0s 94us/step - loss: 0.1797 - acc: 0.9485 - val_loss: 0.2213 - val_acc: 0.9417\n",
      "Epoch 5/100\n",
      "1437/1437 [==============================] - 0s 95us/step - loss: 0.1408 - acc: 0.9610 - val_loss: 0.2039 - val_acc: 0.9361\n",
      "Epoch 6/100\n",
      "1437/1437 [==============================] - 0s 89us/step - loss: 0.1064 - acc: 0.9715 - val_loss: 0.1726 - val_acc: 0.9472\n",
      "Epoch 7/100\n",
      "1437/1437 [==============================] - 0s 96us/step - loss: 0.0827 - acc: 0.9777 - val_loss: 0.1713 - val_acc: 0.9472\n",
      "Epoch 8/100\n",
      "1437/1437 [==============================] - 0s 86us/step - loss: 0.0687 - acc: 0.9882 - val_loss: 0.1477 - val_acc: 0.9500\n",
      "Epoch 9/100\n",
      "1437/1437 [==============================] - 0s 82us/step - loss: 0.0607 - acc: 0.9861 - val_loss: 0.1526 - val_acc: 0.9500\n",
      "Epoch 10/100\n",
      "1437/1437 [==============================] - 0s 82us/step - loss: 0.0508 - acc: 0.9903 - val_loss: 0.1294 - val_acc: 0.9556\n",
      "Epoch 11/100\n",
      "1437/1437 [==============================] - 0s 86us/step - loss: 0.0439 - acc: 0.9930 - val_loss: 0.1225 - val_acc: 0.9583\n",
      "Epoch 12/100\n",
      "1437/1437 [==============================] - 0s 84us/step - loss: 0.0368 - acc: 0.9972 - val_loss: 0.1342 - val_acc: 0.9472\n",
      "Epoch 13/100\n",
      "1437/1437 [==============================] - 0s 92us/step - loss: 0.0327 - acc: 0.9944 - val_loss: 0.1139 - val_acc: 0.9611\n",
      "Epoch 14/100\n",
      "1437/1437 [==============================] - 0s 86us/step - loss: 0.0329 - acc: 0.9958 - val_loss: 0.1349 - val_acc: 0.9556\n",
      "Epoch 15/100\n",
      "1437/1437 [==============================] - 0s 89us/step - loss: 0.0265 - acc: 0.9965 - val_loss: 0.1052 - val_acc: 0.9667\n",
      "Epoch 16/100\n",
      "1437/1437 [==============================] - 0s 97us/step - loss: 0.0220 - acc: 0.9972 - val_loss: 0.1088 - val_acc: 0.9583\n",
      "Epoch 17/100\n",
      "1437/1437 [==============================] - 0s 86us/step - loss: 0.0184 - acc: 0.9986 - val_loss: 0.1040 - val_acc: 0.9694\n",
      "Epoch 18/100\n",
      "1437/1437 [==============================] - 0s 87us/step - loss: 0.0165 - acc: 0.9979 - val_loss: 0.1078 - val_acc: 0.9611\n",
      "Epoch 19/100\n",
      "1437/1437 [==============================] - 0s 82us/step - loss: 0.0145 - acc: 0.9993 - val_loss: 0.1022 - val_acc: 0.9667\n",
      "Epoch 20/100\n",
      "1437/1437 [==============================] - 0s 86us/step - loss: 0.0131 - acc: 1.0000 - val_loss: 0.1051 - val_acc: 0.9667\n",
      "Epoch 21/100\n",
      "1437/1437 [==============================] - 0s 87us/step - loss: 0.0119 - acc: 0.9993 - val_loss: 0.0975 - val_acc: 0.9667\n",
      "Epoch 22/100\n",
      "1437/1437 [==============================] - 0s 88us/step - loss: 0.0109 - acc: 1.0000 - val_loss: 0.0946 - val_acc: 0.9667\n",
      "Epoch 23/100\n",
      "1437/1437 [==============================] - 0s 90us/step - loss: 0.0105 - acc: 1.0000 - val_loss: 0.0977 - val_acc: 0.9639\n",
      "Epoch 24/100\n",
      "1437/1437 [==============================] - 0s 92us/step - loss: 0.0098 - acc: 1.0000 - val_loss: 0.1019 - val_acc: 0.9667\n",
      "Epoch 25/100\n",
      "1437/1437 [==============================] - 0s 87us/step - loss: 0.0090 - acc: 1.0000 - val_loss: 0.0908 - val_acc: 0.9667\n",
      "Epoch 26/100\n",
      "1437/1437 [==============================] - 0s 87us/step - loss: 0.0078 - acc: 1.0000 - val_loss: 0.0917 - val_acc: 0.9667\n",
      "Epoch 27/100\n",
      "1437/1437 [==============================] - 0s 94us/step - loss: 0.0073 - acc: 1.0000 - val_loss: 0.0932 - val_acc: 0.9667\n",
      "Epoch 28/100\n",
      "1437/1437 [==============================] - 0s 89us/step - loss: 0.0066 - acc: 1.0000 - val_loss: 0.0891 - val_acc: 0.9722\n",
      "Epoch 29/100\n",
      "1437/1437 [==============================] - 0s 81us/step - loss: 0.0063 - acc: 1.0000 - val_loss: 0.0892 - val_acc: 0.9694\n",
      "Epoch 30/100\n",
      "1437/1437 [==============================] - 0s 88us/step - loss: 0.0058 - acc: 1.0000 - val_loss: 0.0850 - val_acc: 0.9722\n",
      "Epoch 31/100\n",
      "1437/1437 [==============================] - 0s 88us/step - loss: 0.0054 - acc: 1.0000 - val_loss: 0.0895 - val_acc: 0.9694\n",
      "Epoch 32/100\n",
      "1437/1437 [==============================] - 0s 97us/step - loss: 0.0052 - acc: 1.0000 - val_loss: 0.0917 - val_acc: 0.9750\n",
      "Epoch 33/100\n",
      "1437/1437 [==============================] - 0s 90us/step - loss: 0.0051 - acc: 1.0000 - val_loss: 0.0874 - val_acc: 0.9722\n",
      "Epoch 34/100\n",
      "1437/1437 [==============================] - 0s 88us/step - loss: 0.0045 - acc: 1.0000 - val_loss: 0.0831 - val_acc: 0.9694\n",
      "Epoch 35/100\n",
      "1437/1437 [==============================] - 0s 90us/step - loss: 0.0046 - acc: 1.0000 - val_loss: 0.0829 - val_acc: 0.9694\n",
      "Epoch 36/100\n",
      "1437/1437 [==============================] - 0s 81us/step - loss: 0.0045 - acc: 1.0000 - val_loss: 0.0824 - val_acc: 0.9750\n",
      "Epoch 37/100\n",
      "1437/1437 [==============================] - 0s 87us/step - loss: 0.0042 - acc: 1.0000 - val_loss: 0.0861 - val_acc: 0.9750\n",
      "Epoch 38/100\n",
      "1437/1437 [==============================] - 0s 88us/step - loss: 0.0037 - acc: 1.0000 - val_loss: 0.0805 - val_acc: 0.9694\n",
      "Epoch 39/100\n",
      "1437/1437 [==============================] - 0s 87us/step - loss: 0.0033 - acc: 1.0000 - val_loss: 0.0863 - val_acc: 0.9778\n",
      "Epoch 40/100\n",
      "1437/1437 [==============================] - 0s 94us/step - loss: 0.0033 - acc: 1.0000 - val_loss: 0.0825 - val_acc: 0.9750\n",
      "Epoch 41/100\n",
      "1437/1437 [==============================] - 0s 84us/step - loss: 0.0031 - acc: 1.0000 - val_loss: 0.0831 - val_acc: 0.9722\n",
      "Epoch 42/100\n",
      "1437/1437 [==============================] - 0s 86us/step - loss: 0.0031 - acc: 1.0000 - val_loss: 0.0780 - val_acc: 0.9722\n",
      "Epoch 43/100\n",
      "1437/1437 [==============================] - 0s 87us/step - loss: 0.0028 - acc: 1.0000 - val_loss: 0.0807 - val_acc: 0.9778\n",
      "Epoch 44/100\n",
      "1437/1437 [==============================] - 0s 82us/step - loss: 0.0027 - acc: 1.0000 - val_loss: 0.0788 - val_acc: 0.9722\n",
      "Epoch 45/100\n",
      "1437/1437 [==============================] - 0s 89us/step - loss: 0.0026 - acc: 1.0000 - val_loss: 0.0826 - val_acc: 0.9722\n",
      "Epoch 46/100\n",
      "1437/1437 [==============================] - 0s 84us/step - loss: 0.0024 - acc: 1.0000 - val_loss: 0.0763 - val_acc: 0.9694\n",
      "Epoch 47/100\n",
      "1437/1437 [==============================] - 0s 88us/step - loss: 0.0024 - acc: 1.0000 - val_loss: 0.0755 - val_acc: 0.9722\n",
      "Epoch 48/100\n",
      "1437/1437 [==============================] - 0s 102us/step - loss: 0.0024 - acc: 1.0000 - val_loss: 0.0791 - val_acc: 0.9750\n",
      "Epoch 49/100\n",
      "1437/1437 [==============================] - 0s 85us/step - loss: 0.0022 - acc: 1.0000 - val_loss: 0.0777 - val_acc: 0.9778\n",
      "Epoch 50/100\n",
      "1437/1437 [==============================] - 0s 90us/step - loss: 0.0021 - acc: 1.0000 - val_loss: 0.0766 - val_acc: 0.9778\n",
      "Epoch 51/100\n",
      "1437/1437 [==============================] - 0s 91us/step - loss: 0.0020 - acc: 1.0000 - val_loss: 0.0773 - val_acc: 0.9778\n",
      "Epoch 52/100\n",
      "1437/1437 [==============================] - 0s 90us/step - loss: 0.0018 - acc: 1.0000 - val_loss: 0.0745 - val_acc: 0.9778\n",
      "Epoch 53/100\n",
      "1437/1437 [==============================] - 0s 88us/step - loss: 0.0018 - acc: 1.0000 - val_loss: 0.0780 - val_acc: 0.9778\n",
      "Epoch 54/100\n",
      "1437/1437 [==============================] - 0s 88us/step - loss: 0.0018 - acc: 1.0000 - val_loss: 0.0740 - val_acc: 0.9778\n",
      "Epoch 55/100\n",
      "1437/1437 [==============================] - 0s 103us/step - loss: 0.0017 - acc: 1.0000 - val_loss: 0.0747 - val_acc: 0.9750\n",
      "Epoch 56/100\n",
      "1437/1437 [==============================] - 0s 87us/step - loss: 0.0016 - acc: 1.0000 - val_loss: 0.0735 - val_acc: 0.9778\n",
      "Epoch 57/100\n",
      "1437/1437 [==============================] - 0s 80us/step - loss: 0.0015 - acc: 1.0000 - val_loss: 0.0723 - val_acc: 0.9750\n",
      "Epoch 58/100\n",
      "1437/1437 [==============================] - 0s 80us/step - loss: 0.0015 - acc: 1.0000 - val_loss: 0.0734 - val_acc: 0.9778\n",
      "Epoch 59/100\n",
      "1437/1437 [==============================] - 0s 79us/step - loss: 0.0015 - acc: 1.0000 - val_loss: 0.0693 - val_acc: 0.9750\n",
      "Epoch 60/100\n",
      "1437/1437 [==============================] - 0s 78us/step - loss: 0.0014 - acc: 1.0000 - val_loss: 0.0733 - val_acc: 0.9778\n",
      "Epoch 61/100\n",
      "1437/1437 [==============================] - 0s 79us/step - loss: 0.0014 - acc: 1.0000 - val_loss: 0.0756 - val_acc: 0.9778\n",
      "Epoch 62/100\n",
      "1437/1437 [==============================] - 0s 78us/step - loss: 0.0013 - acc: 1.0000 - val_loss: 0.0754 - val_acc: 0.9778\n",
      "Epoch 63/100\n",
      "1437/1437 [==============================] - 0s 80us/step - loss: 0.0012 - acc: 1.0000 - val_loss: 0.0744 - val_acc: 0.9778\n",
      "Epoch 64/100\n",
      "1437/1437 [==============================] - 0s 87us/step - loss: 0.0012 - acc: 1.0000 - val_loss: 0.0724 - val_acc: 0.9778\n",
      "Epoch 65/100\n",
      "1437/1437 [==============================] - 0s 80us/step - loss: 0.0012 - acc: 1.0000 - val_loss: 0.0775 - val_acc: 0.9778\n",
      "Epoch 66/100\n",
      "1437/1437 [==============================] - 0s 86us/step - loss: 0.0011 - acc: 1.0000 - val_loss: 0.0746 - val_acc: 0.9778\n",
      "Epoch 67/100\n",
      "1437/1437 [==============================] - 0s 79us/step - loss: 0.0011 - acc: 1.0000 - val_loss: 0.0731 - val_acc: 0.9778\n",
      "Epoch 68/100\n",
      "1437/1437 [==============================] - 0s 81us/step - loss: 0.0011 - acc: 1.0000 - val_loss: 0.0745 - val_acc: 0.9778\n",
      "Epoch 69/100\n",
      "1437/1437 [==============================] - 0s 79us/step - loss: 9.9885e-04 - acc: 1.0000 - val_loss: 0.0727 - val_acc: 0.9778\n",
      "Epoch 70/100\n",
      "1437/1437 [==============================] - 0s 80us/step - loss: 9.5770e-04 - acc: 1.0000 - val_loss: 0.0721 - val_acc: 0.9778\n",
      "Epoch 71/100\n",
      "1437/1437 [==============================] - 0s 81us/step - loss: 9.3577e-04 - acc: 1.0000 - val_loss: 0.0736 - val_acc: 0.9778\n",
      "Epoch 72/100\n",
      "1437/1437 [==============================] - 0s 80us/step - loss: 9.0262e-04 - acc: 1.0000 - val_loss: 0.0727 - val_acc: 0.9778\n",
      "Epoch 73/100\n",
      "1437/1437 [==============================] - 0s 90us/step - loss: 8.5880e-04 - acc: 1.0000 - val_loss: 0.0747 - val_acc: 0.9778\n",
      "Epoch 74/100\n",
      "1437/1437 [==============================] - 0s 79us/step - loss: 8.3079e-04 - acc: 1.0000 - val_loss: 0.0692 - val_acc: 0.9778\n",
      "Epoch 75/100\n",
      "1437/1437 [==============================] - 0s 80us/step - loss: 8.0667e-04 - acc: 1.0000 - val_loss: 0.0730 - val_acc: 0.9778\n",
      "Epoch 76/100\n",
      "1437/1437 [==============================] - 0s 81us/step - loss: 7.7711e-04 - acc: 1.0000 - val_loss: 0.0706 - val_acc: 0.9778\n",
      "Epoch 77/100\n",
      "1437/1437 [==============================] - 0s 81us/step - loss: 7.4371e-04 - acc: 1.0000 - val_loss: 0.0696 - val_acc: 0.9778\n",
      "Epoch 78/100\n",
      "1437/1437 [==============================] - 0s 81us/step - loss: 7.1797e-04 - acc: 1.0000 - val_loss: 0.0741 - val_acc: 0.9778\n",
      "Epoch 79/100\n",
      "1437/1437 [==============================] - 0s 79us/step - loss: 7.1985e-04 - acc: 1.0000 - val_loss: 0.0724 - val_acc: 0.9778\n",
      "Epoch 80/100\n",
      "1437/1437 [==============================] - 0s 79us/step - loss: 6.8836e-04 - acc: 1.0000 - val_loss: 0.0694 - val_acc: 0.9778\n",
      "Epoch 81/100\n",
      "1437/1437 [==============================] - 0s 91us/step - loss: 6.6911e-04 - acc: 1.0000 - val_loss: 0.0728 - val_acc: 0.9778\n",
      "Epoch 82/100\n",
      "1437/1437 [==============================] - 0s 80us/step - loss: 6.4424e-04 - acc: 1.0000 - val_loss: 0.0706 - val_acc: 0.9778\n",
      "Epoch 83/100\n",
      "1437/1437 [==============================] - 0s 80us/step - loss: 6.2384e-04 - acc: 1.0000 - val_loss: 0.0708 - val_acc: 0.9778\n",
      "Epoch 84/100\n",
      "1437/1437 [==============================] - 0s 80us/step - loss: 6.0024e-04 - acc: 1.0000 - val_loss: 0.0690 - val_acc: 0.9778\n",
      "Epoch 85/100\n",
      "1437/1437 [==============================] - 0s 80us/step - loss: 5.8980e-04 - acc: 1.0000 - val_loss: 0.0708 - val_acc: 0.9778\n",
      "Epoch 86/100\n",
      "1437/1437 [==============================] - 0s 81us/step - loss: 5.7813e-04 - acc: 1.0000 - val_loss: 0.0716 - val_acc: 0.9778\n",
      "Epoch 87/100\n",
      "1437/1437 [==============================] - 0s 81us/step - loss: 5.4658e-04 - acc: 1.0000 - val_loss: 0.0686 - val_acc: 0.9778\n",
      "Epoch 88/100\n",
      "1437/1437 [==============================] - 0s 98us/step - loss: 5.3898e-04 - acc: 1.0000 - val_loss: 0.0679 - val_acc: 0.9778\n",
      "Epoch 89/100\n",
      "1437/1437 [==============================] - 0s 86us/step - loss: 5.1275e-04 - acc: 1.0000 - val_loss: 0.0703 - val_acc: 0.9778\n",
      "Epoch 90/100\n",
      "1437/1437 [==============================] - 0s 90us/step - loss: 4.9551e-04 - acc: 1.0000 - val_loss: 0.0679 - val_acc: 0.9778\n",
      "Epoch 91/100\n",
      "1437/1437 [==============================] - 0s 81us/step - loss: 4.8290e-04 - acc: 1.0000 - val_loss: 0.0726 - val_acc: 0.9778\n",
      "Epoch 92/100\n",
      "1437/1437 [==============================] - 0s 81us/step - loss: 4.7559e-04 - acc: 1.0000 - val_loss: 0.0721 - val_acc: 0.9778\n",
      "Epoch 93/100\n",
      "1437/1437 [==============================] - 0s 78us/step - loss: 4.5791e-04 - acc: 1.0000 - val_loss: 0.0712 - val_acc: 0.9778\n",
      "Epoch 94/100\n",
      "1437/1437 [==============================] - 0s 81us/step - loss: 4.4697e-04 - acc: 1.0000 - val_loss: 0.0700 - val_acc: 0.9778\n",
      "Epoch 95/100\n",
      "1437/1437 [==============================] - 0s 80us/step - loss: 4.3438e-04 - acc: 1.0000 - val_loss: 0.0706 - val_acc: 0.9778\n",
      "Epoch 96/100\n",
      "1437/1437 [==============================] - 0s 86us/step - loss: 4.1441e-04 - acc: 1.0000 - val_loss: 0.0683 - val_acc: 0.9778\n",
      "Epoch 97/100\n",
      "1437/1437 [==============================] - 0s 78us/step - loss: 4.0343e-04 - acc: 1.0000 - val_loss: 0.0695 - val_acc: 0.9778\n",
      "Epoch 98/100\n",
      "1437/1437 [==============================] - 0s 88us/step - loss: 3.9169e-04 - acc: 1.0000 - val_loss: 0.0701 - val_acc: 0.9778\n",
      "Epoch 99/100\n",
      "1437/1437 [==============================] - 0s 82us/step - loss: 3.7447e-04 - acc: 1.0000 - val_loss: 0.0683 - val_acc: 0.9778\n",
      "Epoch 100/100\n",
      "1437/1437 [==============================] - 0s 81us/step - loss: 3.6430e-04 - acc: 1.0000 - val_loss: 0.0717 - val_acc: 0.9778\n"
     ]
    },
    {
     "data": {
      "text/plain": [
       "<keras.callbacks.History at 0x7f2288589080>"
      ]
     },
     "execution_count": 6,
     "metadata": {
      "tags": []
     },
     "output_type": "execute_result"
    }
   ],
   "source": [
    "model.fit(X_train, y_train, epochs=100, validation_data=(X_test, y_test))"
   ]
  },
  {
   "cell_type": "markdown",
   "metadata": {
    "colab_type": "text",
    "id": "_lUfMgmv0Tbr"
   },
   "source": [
    "### Обобщающая способность нейронной сети\n",
    "Визуализируем предсказания нейронной сети на простой задаче восстановления одномерной зависимости. "
   ]
  },
  {
   "cell_type": "code",
   "execution_count": 7,
   "metadata": {
    "colab": {
     "base_uri": "https://localhost:8080/",
     "height": 287
    },
    "colab_type": "code",
    "id": "GPwr4oxk0Tbs",
    "outputId": "794e6ac3-0b09-4760-e227-97c181b01c5a"
   },
   "outputs": [
    {
     "data": {
      "text/plain": [
       "[<matplotlib.lines.Line2D at 0x7f22763b5cf8>]"
      ]
     },
     "execution_count": 7,
     "metadata": {
      "tags": []
     },
     "output_type": "execute_result"
    },
    {
     "data": {
      "image/png": "[encoded data removed]",
      "text/plain": [
       "<Figure size 432x288 with 1 Axes>"
      ]
     },
     "metadata": {
      "tags": []
     },
     "output_type": "display_data"
    }
   ],
   "source": [
    "X = np.linspace(-5, 5, 1000)\n",
    "y = 0.05 * X ** 4 - 0.5 * X ** 3 + 8 * X - 3 + 4 * np.sin(X**2 / 2)\n",
    "plt.plot(X,y)"
   ]
  },
  {
   "cell_type": "markdown",
   "metadata": {
    "colab_type": "text",
    "id": "o5_ZXSwb0Tbv"
   },
   "source": [
    "Подберём нейронную сеть, хорошо приближающую нашу функцию."
   ]
  },
  {
   "cell_type": "code",
   "execution_count": 0,
   "metadata": {
    "colab": {},
    "colab_type": "code",
    "id": "0fU9TQiM0Tbw"
   },
   "outputs": [],
   "source": [
    "model = keras.models.Sequential()\n",
    "model.add(L.InputLayer([1]))\n",
    "model.add(L.Dense(50, activation='relu'))\n",
    "model.add(L.Dense(50, activation='sigmoid'))\n",
    "model.add(L.Dense(1))\n",
    "model.compile(loss='mean_squared_error', optimizer='adam')"
   ]
  },
  {
   "cell_type": "code",
   "execution_count": 11,
   "metadata": {
    "colab": {
     "base_uri": "https://localhost:8080/",
     "height": 1000
    },
    "colab_type": "code",
    "id": "bGMiGYOW0Tb0",
    "outputId": "a8766309-06bf-4d68-c1ca-7804018f8814"
   },
   "outputs": [
    {
     "name": "stdout",
     "output_type": "stream",
     "text": [
      "Train on 800 samples, validate on 200 samples\n",
      "Epoch 1/300\n",
      "800/800 [==============================] - 0s 104us/step - loss: 0.4037 - val_loss: 13.5757\n",
      "Epoch 2/300\n",
      "800/800 [==============================] - 0s 100us/step - loss: 0.3978 - val_loss: 13.5702\n",
      "Epoch 3/300\n",
      "800/800 [==============================] - 0s 93us/step - loss: 0.4288 - val_loss: 13.5877\n",
      "Epoch 4/300\n",
      "800/800 [==============================] - 0s 101us/step - loss: 0.4040 - val_loss: 13.5589\n",
      "Epoch 5/300\n",
      "800/800 [==============================] - 0s 94us/step - loss: 0.4133 - val_loss: 13.6081\n",
      "Epoch 6/300\n",
      "800/800 [==============================] - 0s 96us/step - loss: 0.3835 - val_loss: 13.6083\n",
      "Epoch 7/300\n",
      "800/800 [==============================] - 0s 90us/step - loss: 0.4131 - val_loss: 13.6188\n",
      "Epoch 8/300\n",
      "800/800 [==============================] - 0s 91us/step - loss: 0.3744 - val_loss: 13.6307\n",
      "Epoch 9/300\n",
      "800/800 [==============================] - 0s 98us/step - loss: 0.3830 - val_loss: 13.6369\n",
      "Epoch 10/300\n",
      "800/800 [==============================] - 0s 99us/step - loss: 0.3961 - val_loss: 13.6338\n",
      "Epoch 11/300\n",
      "800/800 [==============================] - 0s 98us/step - loss: 0.3703 - val_loss: 13.6363\n",
      "Epoch 12/300\n",
      "800/800 [==============================] - 0s 96us/step - loss: 0.3492 - val_loss: 13.6549\n",
      "Epoch 13/300\n",
      "800/800 [==============================] - 0s 95us/step - loss: 0.3240 - val_loss: 13.6737\n",
      "Epoch 14/300\n",
      "800/800 [==============================] - 0s 95us/step - loss: 0.3161 - val_loss: 13.6498\n",
      "Epoch 15/300\n",
      "800/800 [==============================] - 0s 97us/step - loss: 0.3465 - val_loss: 13.6596\n",
      "Epoch 16/300\n",
      "800/800 [==============================] - 0s 100us/step - loss: 0.3322 - val_loss: 13.6906\n",
      "Epoch 17/300\n",
      "800/800 [==============================] - 0s 112us/step - loss: 0.3142 - val_loss: 13.6910\n",
      "Epoch 18/300\n",
      "800/800 [==============================] - 0s 98us/step - loss: 0.3058 - val_loss: 13.6900\n",
      "Epoch 19/300\n",
      "800/800 [==============================] - 0s 103us/step - loss: 0.3813 - val_loss: 13.7052\n",
      "Epoch 20/300\n",
      "800/800 [==============================] - 0s 96us/step - loss: 0.3149 - val_loss: 13.6938\n",
      "Epoch 21/300\n",
      "800/800 [==============================] - 0s 98us/step - loss: 0.3123 - val_loss: 13.7354\n",
      "Epoch 22/300\n",
      "800/800 [==============================] - 0s 94us/step - loss: 0.3140 - val_loss: 13.7027\n",
      "Epoch 23/300\n",
      "800/800 [==============================] - 0s 99us/step - loss: 0.3469 - val_loss: 13.7286\n",
      "Epoch 24/300\n",
      "800/800 [==============================] - 0s 92us/step - loss: 0.3014 - val_loss: 13.7315\n",
      "Epoch 25/300\n",
      "800/800 [==============================] - 0s 89us/step - loss: 0.3036 - val_loss: 13.7420\n",
      "Epoch 26/300\n",
      "800/800 [==============================] - 0s 91us/step - loss: 0.2883 - val_loss: 13.7496\n",
      "Epoch 27/300\n",
      "800/800 [==============================] - 0s 97us/step - loss: 0.3071 - val_loss: 13.7568\n",
      "Epoch 28/300\n",
      "800/800 [==============================] - 0s 88us/step - loss: 0.2822 - val_loss: 13.7503\n",
      "Epoch 29/300\n",
      "800/800 [==============================] - 0s 89us/step - loss: 0.2766 - val_loss: 13.7652\n",
      "Epoch 30/300\n",
      "800/800 [==============================] - 0s 99us/step - loss: 0.3003 - val_loss: 13.7973\n",
      "Epoch 31/300\n",
      "800/800 [==============================] - 0s 97us/step - loss: 0.2900 - val_loss: 13.7462\n",
      "Epoch 32/300\n",
      "800/800 [==============================] - 0s 95us/step - loss: 0.3042 - val_loss: 13.7899\n",
      "Epoch 33/300\n",
      "800/800 [==============================] - 0s 92us/step - loss: 0.2568 - val_loss: 13.7688\n",
      "Epoch 34/300\n",
      "800/800 [==============================] - 0s 89us/step - loss: 0.2610 - val_loss: 13.7799\n",
      "Epoch 35/300\n",
      "800/800 [==============================] - 0s 88us/step - loss: 0.2896 - val_loss: 13.7625\n",
      "Epoch 36/300\n",
      "800/800 [==============================] - 0s 88us/step - loss: 0.2565 - val_loss: 13.8096\n",
      "Epoch 37/300\n",
      "800/800 [==============================] - 0s 89us/step - loss: 0.3190 - val_loss: 13.7582\n",
      "Epoch 38/300\n",
      "800/800 [==============================] - 0s 89us/step - loss: 0.2503 - val_loss: 13.7924\n",
      "Epoch 39/300\n",
      "800/800 [==============================] - 0s 91us/step - loss: 0.2786 - val_loss: 13.8485\n",
      "Epoch 40/300\n",
      "800/800 [==============================] - 0s 98us/step - loss: 0.2883 - val_loss: 13.7949\n",
      "Epoch 41/300\n",
      "800/800 [==============================] - 0s 91us/step - loss: 0.2340 - val_loss: 13.8101\n",
      "Epoch 42/300\n",
      "800/800 [==============================] - 0s 92us/step - loss: 0.2376 - val_loss: 13.8020\n",
      "Epoch 43/300\n",
      "800/800 [==============================] - 0s 91us/step - loss: 0.2624 - val_loss: 13.8606\n",
      "Epoch 44/300\n",
      "800/800 [==============================] - 0s 123us/step - loss: 0.2318 - val_loss: 13.8282\n",
      "Epoch 45/300\n",
      "800/800 [==============================] - 0s 92us/step - loss: 0.2456 - val_loss: 13.8569\n",
      "Epoch 46/300\n",
      "800/800 [==============================] - 0s 89us/step - loss: 0.2178 - val_loss: 13.8663\n",
      "Epoch 47/300\n",
      "800/800 [==============================] - 0s 102us/step - loss: 0.2255 - val_loss: 13.8833\n",
      "Epoch 48/300\n",
      "800/800 [==============================] - 0s 94us/step - loss: 0.2546 - val_loss: 13.8539\n",
      "Epoch 49/300\n",
      "800/800 [==============================] - 0s 89us/step - loss: 0.2229 - val_loss: 13.8762\n",
      "Epoch 50/300\n",
      "800/800 [==============================] - 0s 89us/step - loss: 0.2360 - val_loss: 13.9074\n",
      "Epoch 51/300\n",
      "800/800 [==============================] - 0s 94us/step - loss: 0.2085 - val_loss: 13.8955\n",
      "Epoch 52/300\n",
      "800/800 [==============================] - 0s 90us/step - loss: 0.2193 - val_loss: 13.8903\n",
      "Epoch 53/300\n",
      "800/800 [==============================] - 0s 88us/step - loss: 0.2099 - val_loss: 13.8700\n",
      "Epoch 54/300\n",
      "800/800 [==============================] - 0s 91us/step - loss: 0.2332 - val_loss: 13.9352\n",
      "Epoch 55/300\n",
      "800/800 [==============================] - 0s 91us/step - loss: 0.2156 - val_loss: 13.9249\n",
      "Epoch 56/300\n",
      "800/800 [==============================] - 0s 93us/step - loss: 0.2420 - val_loss: 13.8740\n",
      "Epoch 57/300\n",
      "800/800 [==============================] - 0s 90us/step - loss: 0.2658 - val_loss: 13.9316\n",
      "Epoch 58/300\n",
      "800/800 [==============================] - 0s 100us/step - loss: 0.2172 - val_loss: 13.9430\n",
      "Epoch 59/300\n",
      "800/800 [==============================] - 0s 89us/step - loss: 0.2079 - val_loss: 13.9441\n",
      "Epoch 60/300\n",
      "800/800 [==============================] - 0s 90us/step - loss: 0.1877 - val_loss: 13.9433\n",
      "Epoch 61/300\n",
      "800/800 [==============================] - 0s 89us/step - loss: 0.2206 - val_loss: 13.9742\n",
      "Epoch 62/300\n",
      "800/800 [==============================] - 0s 90us/step - loss: 0.1953 - val_loss: 13.9337\n",
      "Epoch 63/300\n",
      "800/800 [==============================] - 0s 92us/step - loss: 0.1898 - val_loss: 13.9464\n",
      "Epoch 64/300\n",
      "800/800 [==============================] - 0s 88us/step - loss: 0.1855 - val_loss: 13.9765\n",
      "Epoch 65/300\n",
      "800/800 [==============================] - 0s 87us/step - loss: 0.2128 - val_loss: 13.9304\n",
      "Epoch 66/300\n",
      "800/800 [==============================] - 0s 91us/step - loss: 0.2055 - val_loss: 13.9874\n",
      "Epoch 67/300\n",
      "800/800 [==============================] - 0s 88us/step - loss: 0.1744 - val_loss: 13.9857\n",
      "Epoch 68/300\n",
      "800/800 [==============================] - 0s 92us/step - loss: 0.1773 - val_loss: 13.9718\n",
      "Epoch 69/300\n",
      "800/800 [==============================] - 0s 91us/step - loss: 0.1661 - val_loss: 13.9920\n",
      "Epoch 70/300\n",
      "800/800 [==============================] - 0s 88us/step - loss: 0.1662 - val_loss: 14.0199\n",
      "Epoch 71/300\n",
      "800/800 [==============================] - 0s 97us/step - loss: 0.1666 - val_loss: 14.0025\n",
      "Epoch 72/300\n",
      "800/800 [==============================] - 0s 94us/step - loss: 0.1643 - val_loss: 14.0059\n",
      "Epoch 73/300\n",
      "800/800 [==============================] - 0s 90us/step - loss: 0.2227 - val_loss: 14.0405\n",
      "Epoch 74/300\n",
      "800/800 [==============================] - 0s 89us/step - loss: 0.2966 - val_loss: 14.0517\n",
      "Epoch 75/300\n",
      "800/800 [==============================] - 0s 92us/step - loss: 0.1658 - val_loss: 14.0087\n",
      "Epoch 76/300\n",
      "800/800 [==============================] - 0s 92us/step - loss: 0.1558 - val_loss: 14.0489\n",
      "Epoch 77/300\n",
      "800/800 [==============================] - 0s 96us/step - loss: 0.1537 - val_loss: 14.0243\n",
      "Epoch 78/300\n",
      "800/800 [==============================] - 0s 89us/step - loss: 0.1751 - val_loss: 14.0348\n",
      "Epoch 79/300\n",
      "800/800 [==============================] - 0s 93us/step - loss: 0.1594 - val_loss: 14.0715\n",
      "Epoch 80/300\n",
      "800/800 [==============================] - 0s 89us/step - loss: 0.1489 - val_loss: 14.0541\n",
      "Epoch 81/300\n",
      "800/800 [==============================] - 0s 91us/step - loss: 0.1518 - val_loss: 14.0582\n",
      "Epoch 82/300\n",
      "800/800 [==============================] - 0s 89us/step - loss: 0.1474 - val_loss: 14.0745\n",
      "Epoch 83/300\n",
      "800/800 [==============================] - 0s 89us/step - loss: 0.1799 - val_loss: 14.0806\n",
      "Epoch 84/300\n",
      "800/800 [==============================] - 0s 92us/step - loss: 0.2087 - val_loss: 14.0675\n",
      "Epoch 85/300\n",
      "800/800 [==============================] - 0s 100us/step - loss: 0.1469 - val_loss: 14.0907\n",
      "Epoch 86/300\n",
      "800/800 [==============================] - 0s 90us/step - loss: 0.1417 - val_loss: 14.1391\n",
      "Epoch 87/300\n",
      "800/800 [==============================] - 0s 90us/step - loss: 0.1451 - val_loss: 14.1029\n",
      "Epoch 88/300\n",
      "800/800 [==============================] - 0s 89us/step - loss: 0.1773 - val_loss: 14.0954\n",
      "Epoch 89/300\n",
      "800/800 [==============================] - 0s 88us/step - loss: 0.1712 - val_loss: 14.1476\n",
      "Epoch 90/300\n",
      "800/800 [==============================] - 0s 87us/step - loss: 0.1748 - val_loss: 14.1373\n",
      "Epoch 91/300\n",
      "800/800 [==============================] - 0s 90us/step - loss: 0.1385 - val_loss: 14.1369\n",
      "Epoch 92/300\n",
      "800/800 [==============================] - 0s 93us/step - loss: 0.1363 - val_loss: 14.0983\n",
      "Epoch 93/300\n",
      "800/800 [==============================] - 0s 93us/step - loss: 0.1480 - val_loss: 14.1329\n",
      "Epoch 94/300\n",
      "800/800 [==============================] - 0s 91us/step - loss: 0.1373 - val_loss: 14.1580\n",
      "Epoch 95/300\n",
      "800/800 [==============================] - 0s 90us/step - loss: 0.1333 - val_loss: 14.1090\n",
      "Epoch 96/300\n",
      "800/800 [==============================] - 0s 89us/step - loss: 0.1486 - val_loss: 14.1872\n",
      "Epoch 97/300\n",
      "800/800 [==============================] - 0s 91us/step - loss: 0.1690 - val_loss: 14.1968\n",
      "Epoch 98/300\n",
      "800/800 [==============================] - 0s 90us/step - loss: 0.1321 - val_loss: 14.1502\n",
      "Epoch 99/300\n",
      "800/800 [==============================] - 0s 102us/step - loss: 0.1299 - val_loss: 14.1650\n",
      "Epoch 100/300\n",
      "800/800 [==============================] - 0s 90us/step - loss: 0.1274 - val_loss: 14.1576\n",
      "Epoch 101/300\n",
      "800/800 [==============================] - 0s 89us/step - loss: 0.1459 - val_loss: 14.1959\n",
      "Epoch 102/300\n",
      "800/800 [==============================] - 0s 91us/step - loss: 0.1532 - val_loss: 14.1801\n",
      "Epoch 103/300\n",
      "800/800 [==============================] - 0s 92us/step - loss: 0.1409 - val_loss: 14.1730\n",
      "Epoch 104/300\n",
      "800/800 [==============================] - 0s 95us/step - loss: 0.1178 - val_loss: 14.2062\n",
      "Epoch 105/300\n",
      "800/800 [==============================] - 0s 93us/step - loss: 0.1279 - val_loss: 14.2132\n",
      "Epoch 106/300\n",
      "800/800 [==============================] - 0s 89us/step - loss: 0.1178 - val_loss: 14.2263\n",
      "Epoch 107/300\n",
      "800/800 [==============================] - 0s 89us/step - loss: 0.1780 - val_loss: 14.2490\n",
      "Epoch 108/300\n",
      "800/800 [==============================] - 0s 89us/step - loss: 0.1403 - val_loss: 14.1999\n",
      "Epoch 109/300\n",
      "800/800 [==============================] - 0s 89us/step - loss: 0.1186 - val_loss: 14.2577\n",
      "Epoch 110/300\n",
      "800/800 [==============================] - 0s 95us/step - loss: 0.1108 - val_loss: 14.2461\n",
      "Epoch 111/300\n",
      "800/800 [==============================] - 0s 89us/step - loss: 0.1039 - val_loss: 14.2588\n",
      "Epoch 112/300\n",
      "800/800 [==============================] - 0s 89us/step - loss: 0.1265 - val_loss: 14.2770\n",
      "Epoch 113/300\n",
      "800/800 [==============================] - 0s 101us/step - loss: 0.1176 - val_loss: 14.2624\n",
      "Epoch 114/300\n",
      "800/800 [==============================] - 0s 88us/step - loss: 0.1045 - val_loss: 14.2575\n",
      "Epoch 115/300\n",
      "800/800 [==============================] - 0s 91us/step - loss: 0.1124 - val_loss: 14.2756\n",
      "Epoch 116/300\n",
      "800/800 [==============================] - 0s 90us/step - loss: 0.1606 - val_loss: 14.2975\n",
      "Epoch 117/300\n",
      "800/800 [==============================] - 0s 90us/step - loss: 0.1093 - val_loss: 14.3101\n",
      "Epoch 118/300\n",
      "800/800 [==============================] - 0s 89us/step - loss: 0.1052 - val_loss: 14.2872\n",
      "Epoch 119/300\n",
      "800/800 [==============================] - 0s 90us/step - loss: 0.0991 - val_loss: 14.2997\n",
      "Epoch 120/300\n",
      "800/800 [==============================] - 0s 91us/step - loss: 0.1053 - val_loss: 14.3072\n",
      "Epoch 121/300\n",
      "800/800 [==============================] - 0s 92us/step - loss: 0.0991 - val_loss: 14.3214\n",
      "Epoch 122/300\n",
      "800/800 [==============================] - 0s 90us/step - loss: 0.1236 - val_loss: 14.2905\n",
      "Epoch 123/300\n",
      "800/800 [==============================] - 0s 91us/step - loss: 0.1506 - val_loss: 14.3025\n",
      "Epoch 124/300\n",
      "800/800 [==============================] - 0s 93us/step - loss: 0.1952 - val_loss: 14.3415\n",
      "Epoch 125/300\n",
      "800/800 [==============================] - 0s 88us/step - loss: 0.1139 - val_loss: 14.3199\n",
      "Epoch 126/300\n",
      "800/800 [==============================] - 0s 90us/step - loss: 0.0858 - val_loss: 14.3424\n",
      "Epoch 127/300\n",
      "800/800 [==============================] - 0s 99us/step - loss: 0.0868 - val_loss: 14.3448\n",
      "Epoch 128/300\n",
      "800/800 [==============================] - 0s 93us/step - loss: 0.0848 - val_loss: 14.3643\n",
      "Epoch 129/300\n",
      "800/800 [==============================] - 0s 90us/step - loss: 0.0825 - val_loss: 14.3572\n",
      "Epoch 130/300\n",
      "800/800 [==============================] - 0s 90us/step - loss: 0.0852 - val_loss: 14.3740\n",
      "Epoch 131/300\n",
      "800/800 [==============================] - 0s 94us/step - loss: 0.0825 - val_loss: 14.3657\n",
      "Epoch 132/300\n",
      "800/800 [==============================] - 0s 92us/step - loss: 0.0816 - val_loss: 14.3623\n",
      "Epoch 133/300\n",
      "800/800 [==============================] - 0s 89us/step - loss: 0.0799 - val_loss: 14.3526\n",
      "Epoch 134/300\n",
      "800/800 [==============================] - 0s 89us/step - loss: 0.0850 - val_loss: 14.3705\n",
      "Epoch 135/300\n",
      "800/800 [==============================] - 0s 92us/step - loss: 0.0755 - val_loss: 14.4004\n",
      "Epoch 136/300\n",
      "800/800 [==============================] - 0s 89us/step - loss: 0.0844 - val_loss: 14.4017\n",
      "Epoch 137/300\n",
      "800/800 [==============================] - 0s 96us/step - loss: 0.0753 - val_loss: 14.3956\n",
      "Epoch 138/300\n",
      "800/800 [==============================] - 0s 90us/step - loss: 0.0722 - val_loss: 14.3903\n",
      "Epoch 139/300\n",
      "800/800 [==============================] - 0s 89us/step - loss: 0.0763 - val_loss: 14.4044\n",
      "Epoch 140/300\n",
      "800/800 [==============================] - 0s 95us/step - loss: 0.0864 - val_loss: 14.3851\n",
      "Epoch 141/300\n",
      "800/800 [==============================] - 0s 93us/step - loss: 0.0802 - val_loss: 14.3741\n",
      "Epoch 142/300\n",
      "800/800 [==============================] - 0s 89us/step - loss: 0.0946 - val_loss: 14.3923\n",
      "Epoch 143/300\n",
      "800/800 [==============================] - 0s 90us/step - loss: 0.0763 - val_loss: 14.3787\n",
      "Epoch 144/300\n",
      "800/800 [==============================] - 0s 89us/step - loss: 0.0809 - val_loss: 14.4053\n",
      "Epoch 145/300\n",
      "800/800 [==============================] - 0s 87us/step - loss: 0.0861 - val_loss: 14.4159\n",
      "Epoch 146/300\n",
      "800/800 [==============================] - 0s 91us/step - loss: 0.0744 - val_loss: 14.4120\n",
      "Epoch 147/300\n",
      "800/800 [==============================] - 0s 93us/step - loss: 0.0872 - val_loss: 14.4478\n",
      "Epoch 148/300\n",
      "800/800 [==============================] - 0s 98us/step - loss: 0.0838 - val_loss: 14.4483\n",
      "Epoch 149/300\n",
      "800/800 [==============================] - 0s 96us/step - loss: 0.0713 - val_loss: 14.4172\n",
      "Epoch 150/300\n",
      "800/800 [==============================] - 0s 90us/step - loss: 0.0748 - val_loss: 14.4180\n",
      "Epoch 151/300\n",
      "800/800 [==============================] - 0s 93us/step - loss: 0.0961 - val_loss: 14.4668\n",
      "Epoch 152/300\n",
      "800/800 [==============================] - 0s 90us/step - loss: 0.0698 - val_loss: 14.4516\n",
      "Epoch 153/300\n",
      "800/800 [==============================] - 0s 87us/step - loss: 0.0688 - val_loss: 14.4955\n",
      "Epoch 154/300\n",
      "800/800 [==============================] - 0s 97us/step - loss: 0.0638 - val_loss: 14.4929\n",
      "Epoch 155/300\n",
      "800/800 [==============================] - 0s 89us/step - loss: 0.0795 - val_loss: 14.5216\n",
      "Epoch 156/300\n",
      "800/800 [==============================] - 0s 92us/step - loss: 0.0944 - val_loss: 14.5287\n",
      "Epoch 157/300\n",
      "800/800 [==============================] - 0s 90us/step - loss: 0.1327 - val_loss: 14.5328\n",
      "Epoch 158/300\n",
      "800/800 [==============================] - 0s 91us/step - loss: 0.0699 - val_loss: 14.5373\n",
      "Epoch 159/300\n",
      "800/800 [==============================] - 0s 89us/step - loss: 0.0623 - val_loss: 14.5044\n",
      "Epoch 160/300\n",
      "800/800 [==============================] - 0s 89us/step - loss: 0.0795 - val_loss: 14.5024\n",
      "Epoch 161/300\n",
      "800/800 [==============================] - 0s 91us/step - loss: 0.0578 - val_loss: 14.5138\n",
      "Epoch 162/300\n",
      "800/800 [==============================] - 0s 90us/step - loss: 0.0553 - val_loss: 14.5260\n",
      "Epoch 163/300\n",
      "800/800 [==============================] - 0s 91us/step - loss: 0.0558 - val_loss: 14.5345\n",
      "Epoch 164/300\n",
      "800/800 [==============================] - 0s 94us/step - loss: 0.0696 - val_loss: 14.5257\n",
      "Epoch 165/300\n",
      "800/800 [==============================] - 0s 94us/step - loss: 0.0645 - val_loss: 14.5367\n",
      "Epoch 166/300\n",
      "800/800 [==============================] - 0s 90us/step - loss: 0.0550 - val_loss: 14.5570\n",
      "Epoch 167/300\n",
      "800/800 [==============================] - 0s 94us/step - loss: 0.0511 - val_loss: 14.5283\n",
      "Epoch 168/300\n",
      "800/800 [==============================] - 0s 97us/step - loss: 0.0608 - val_loss: 14.4961\n",
      "Epoch 169/300\n",
      "800/800 [==============================] - 0s 90us/step - loss: 0.0535 - val_loss: 14.5401\n",
      "Epoch 170/300\n",
      "800/800 [==============================] - 0s 92us/step - loss: 0.0492 - val_loss: 14.5545\n",
      "Epoch 171/300\n",
      "800/800 [==============================] - 0s 90us/step - loss: 0.0509 - val_loss: 14.5737\n",
      "Epoch 172/300\n",
      "800/800 [==============================] - 0s 88us/step - loss: 0.0451 - val_loss: 14.5761\n",
      "Epoch 173/300\n",
      "800/800 [==============================] - 0s 90us/step - loss: 0.0643 - val_loss: 14.6077\n",
      "Epoch 174/300\n",
      "800/800 [==============================] - 0s 93us/step - loss: 0.0916 - val_loss: 14.6161\n",
      "Epoch 175/300\n",
      "800/800 [==============================] - 0s 88us/step - loss: 0.0601 - val_loss: 14.6412\n",
      "Epoch 176/300\n",
      "800/800 [==============================] - 0s 92us/step - loss: 0.0453 - val_loss: 14.6165\n",
      "Epoch 177/300\n",
      "800/800 [==============================] - 0s 87us/step - loss: 0.0522 - val_loss: 14.6344\n",
      "Epoch 178/300\n",
      "800/800 [==============================] - 0s 89us/step - loss: 0.0520 - val_loss: 14.6010\n",
      "Epoch 179/300\n",
      "800/800 [==============================] - 0s 93us/step - loss: 0.0436 - val_loss: 14.6072\n",
      "Epoch 180/300\n",
      "800/800 [==============================] - 0s 93us/step - loss: 0.0491 - val_loss: 14.6262\n",
      "Epoch 181/300\n",
      "800/800 [==============================] - 0s 92us/step - loss: 0.0570 - val_loss: 14.6097\n",
      "Epoch 182/300\n",
      "800/800 [==============================] - 0s 106us/step - loss: 0.0505 - val_loss: 14.5974\n",
      "Epoch 183/300\n",
      "800/800 [==============================] - 0s 88us/step - loss: 0.0913 - val_loss: 14.6244\n",
      "Epoch 184/300\n",
      "800/800 [==============================] - 0s 99us/step - loss: 0.0930 - val_loss: 14.6390\n",
      "Epoch 185/300\n",
      "800/800 [==============================] - 0s 98us/step - loss: 0.0546 - val_loss: 14.6270\n",
      "Epoch 186/300\n",
      "800/800 [==============================] - 0s 92us/step - loss: 0.0407 - val_loss: 14.6395\n",
      "Epoch 187/300\n",
      "800/800 [==============================] - 0s 94us/step - loss: 0.0369 - val_loss: 14.6594\n",
      "Epoch 188/300\n",
      "800/800 [==============================] - 0s 90us/step - loss: 0.0446 - val_loss: 14.6503\n",
      "Epoch 189/300\n",
      "800/800 [==============================] - 0s 91us/step - loss: 0.0388 - val_loss: 14.6822\n",
      "Epoch 190/300\n",
      "800/800 [==============================] - 0s 89us/step - loss: 0.0394 - val_loss: 14.6787\n",
      "Epoch 191/300\n",
      "800/800 [==============================] - 0s 90us/step - loss: 0.0416 - val_loss: 14.6819\n",
      "Epoch 192/300\n",
      "800/800 [==============================] - 0s 92us/step - loss: 0.0498 - val_loss: 14.6547\n",
      "Epoch 193/300\n",
      "800/800 [==============================] - 0s 90us/step - loss: 0.0421 - val_loss: 14.6905\n",
      "Epoch 194/300\n",
      "800/800 [==============================] - 0s 92us/step - loss: 0.0424 - val_loss: 14.7146\n",
      "Epoch 195/300\n",
      "800/800 [==============================] - 0s 103us/step - loss: 0.0637 - val_loss: 14.6555\n",
      "Epoch 196/300\n",
      "800/800 [==============================] - 0s 91us/step - loss: 0.0594 - val_loss: 14.6503\n",
      "Epoch 197/300\n",
      "800/800 [==============================] - 0s 93us/step - loss: 0.0372 - val_loss: 14.6795\n",
      "Epoch 198/300\n",
      "800/800 [==============================] - 0s 92us/step - loss: 0.0351 - val_loss: 14.7083\n",
      "Epoch 199/300\n",
      "800/800 [==============================] - 0s 91us/step - loss: 0.0494 - val_loss: 14.6909\n",
      "Epoch 200/300\n",
      "800/800 [==============================] - 0s 91us/step - loss: 0.0323 - val_loss: 14.7108\n",
      "Epoch 201/300\n",
      "800/800 [==============================] - 0s 88us/step - loss: 0.0298 - val_loss: 14.7328\n",
      "Epoch 202/300\n",
      "800/800 [==============================] - 0s 90us/step - loss: 0.0384 - val_loss: 14.7054\n",
      "Epoch 203/300\n",
      "800/800 [==============================] - 0s 91us/step - loss: 0.0377 - val_loss: 14.7020\n",
      "Epoch 204/300\n",
      "800/800 [==============================] - 0s 92us/step - loss: 0.0269 - val_loss: 14.7152\n",
      "Epoch 205/300\n",
      "800/800 [==============================] - 0s 89us/step - loss: 0.0361 - val_loss: 14.6930\n",
      "Epoch 206/300\n",
      "800/800 [==============================] - 0s 89us/step - loss: 0.0350 - val_loss: 14.7276\n",
      "Epoch 207/300\n",
      "800/800 [==============================] - 0s 89us/step - loss: 0.0320 - val_loss: 14.7250\n",
      "Epoch 208/300\n",
      "800/800 [==============================] - 0s 89us/step - loss: 0.0265 - val_loss: 14.7377\n",
      "Epoch 209/300\n",
      "800/800 [==============================] - 0s 100us/step - loss: 0.0266 - val_loss: 14.7310\n",
      "Epoch 210/300\n",
      "800/800 [==============================] - 0s 90us/step - loss: 0.0311 - val_loss: 14.7452\n",
      "Epoch 211/300\n",
      "800/800 [==============================] - 0s 95us/step - loss: 0.0286 - val_loss: 14.7566\n",
      "Epoch 212/300\n",
      "800/800 [==============================] - 0s 90us/step - loss: 0.0290 - val_loss: 14.7750\n",
      "Epoch 213/300\n",
      "800/800 [==============================] - 0s 89us/step - loss: 0.0284 - val_loss: 14.7571\n",
      "Epoch 214/300\n",
      "800/800 [==============================] - 0s 92us/step - loss: 0.0227 - val_loss: 14.7664\n",
      "Epoch 215/300\n",
      "800/800 [==============================] - 0s 90us/step - loss: 0.0243 - val_loss: 14.7557\n",
      "Epoch 216/300\n",
      "800/800 [==============================] - 0s 89us/step - loss: 0.0223 - val_loss: 14.7795\n",
      "Epoch 217/300\n",
      "800/800 [==============================] - 0s 91us/step - loss: 0.0396 - val_loss: 14.7773\n",
      "Epoch 218/300\n",
      "800/800 [==============================] - 0s 90us/step - loss: 0.0294 - val_loss: 14.7626\n",
      "Epoch 219/300\n",
      "800/800 [==============================] - 0s 89us/step - loss: 0.0200 - val_loss: 14.7742\n",
      "Epoch 220/300\n",
      "800/800 [==============================] - 0s 91us/step - loss: 0.0311 - val_loss: 14.7523\n",
      "Epoch 221/300\n",
      "800/800 [==============================] - 0s 96us/step - loss: 0.0256 - val_loss: 14.7683\n",
      "Epoch 222/300\n",
      "800/800 [==============================] - 0s 93us/step - loss: 0.0201 - val_loss: 14.7493\n",
      "Epoch 223/300\n",
      "800/800 [==============================] - 0s 100us/step - loss: 0.0212 - val_loss: 14.7757\n",
      "Epoch 224/300\n",
      "800/800 [==============================] - 0s 91us/step - loss: 0.0172 - val_loss: 14.7841\n",
      "Epoch 225/300\n",
      "800/800 [==============================] - 0s 91us/step - loss: 0.0292 - val_loss: 14.7950\n",
      "Epoch 226/300\n",
      "800/800 [==============================] - 0s 91us/step - loss: 0.0557 - val_loss: 14.7915\n",
      "Epoch 227/300\n",
      "800/800 [==============================] - 0s 89us/step - loss: 0.0327 - val_loss: 14.7744\n",
      "Epoch 228/300\n",
      "800/800 [==============================] - 0s 88us/step - loss: 0.0222 - val_loss: 14.7873\n",
      "Epoch 229/300\n",
      "800/800 [==============================] - 0s 93us/step - loss: 0.0216 - val_loss: 14.7988\n",
      "Epoch 230/300\n",
      "800/800 [==============================] - 0s 90us/step - loss: 0.0255 - val_loss: 14.7952\n",
      "Epoch 231/300\n",
      "800/800 [==============================] - 0s 89us/step - loss: 0.0163 - val_loss: 14.7757\n",
      "Epoch 232/300\n",
      "800/800 [==============================] - 0s 92us/step - loss: 0.0193 - val_loss: 14.7972\n",
      "Epoch 233/300\n",
      "800/800 [==============================] - 0s 86us/step - loss: 0.0209 - val_loss: 14.8064\n",
      "Epoch 234/300\n",
      "800/800 [==============================] - 0s 88us/step - loss: 0.0228 - val_loss: 14.7889\n",
      "Epoch 235/300\n",
      "800/800 [==============================] - 0s 90us/step - loss: 0.0590 - val_loss: 14.8473\n",
      "Epoch 236/300\n",
      "800/800 [==============================] - 0s 90us/step - loss: 0.0350 - val_loss: 14.8036\n",
      "Epoch 237/300\n",
      "800/800 [==============================] - 0s 100us/step - loss: 0.0346 - val_loss: 14.8377\n",
      "Epoch 238/300\n",
      "800/800 [==============================] - 0s 90us/step - loss: 0.0339 - val_loss: 14.8144\n",
      "Epoch 239/300\n",
      "800/800 [==============================] - 0s 90us/step - loss: 0.0395 - val_loss: 14.7960\n",
      "Epoch 240/300\n",
      "800/800 [==============================] - 0s 89us/step - loss: 0.0182 - val_loss: 14.8492\n",
      "Epoch 241/300\n",
      "800/800 [==============================] - 0s 96us/step - loss: 0.0176 - val_loss: 14.8269\n",
      "Epoch 242/300\n",
      "800/800 [==============================] - 0s 89us/step - loss: 0.0508 - val_loss: 14.8987\n",
      "Epoch 243/300\n",
      "800/800 [==============================] - 0s 91us/step - loss: 0.0342 - val_loss: 14.8425\n",
      "Epoch 244/300\n",
      "800/800 [==============================] - 0s 92us/step - loss: 0.0140 - val_loss: 14.8420\n",
      "Epoch 245/300\n",
      "800/800 [==============================] - 0s 90us/step - loss: 0.0162 - val_loss: 14.8707\n",
      "Epoch 246/300\n",
      "800/800 [==============================] - 0s 99us/step - loss: 0.0178 - val_loss: 14.8167\n",
      "Epoch 247/300\n",
      "800/800 [==============================] - 0s 89us/step - loss: 0.0219 - val_loss: 14.8411\n",
      "Epoch 248/300\n",
      "800/800 [==============================] - 0s 88us/step - loss: 0.0209 - val_loss: 14.8732\n",
      "Epoch 249/300\n",
      "800/800 [==============================] - 0s 89us/step - loss: 0.0142 - val_loss: 14.8669\n",
      "Epoch 250/300\n",
      "800/800 [==============================] - 0s 99us/step - loss: 0.0150 - val_loss: 14.8665\n",
      "Epoch 251/300\n",
      "800/800 [==============================] - 0s 91us/step - loss: 0.0216 - val_loss: 14.8576\n",
      "Epoch 252/300\n",
      "800/800 [==============================] - 0s 91us/step - loss: 0.0126 - val_loss: 14.8490\n",
      "Epoch 253/300\n",
      "800/800 [==============================] - 0s 90us/step - loss: 0.0163 - val_loss: 14.8699\n",
      "Epoch 254/300\n",
      "800/800 [==============================] - 0s 88us/step - loss: 0.0122 - val_loss: 14.8558\n",
      "Epoch 255/300\n",
      "800/800 [==============================] - 0s 88us/step - loss: 0.0223 - val_loss: 14.8907\n",
      "Epoch 256/300\n",
      "800/800 [==============================] - 0s 89us/step - loss: 0.0130 - val_loss: 14.8810\n",
      "Epoch 257/300\n",
      "800/800 [==============================] - 0s 92us/step - loss: 0.0143 - val_loss: 14.8703\n",
      "Epoch 258/300\n",
      "800/800 [==============================] - 0s 90us/step - loss: 0.0206 - val_loss: 14.8673\n",
      "Epoch 259/300\n",
      "800/800 [==============================] - 0s 89us/step - loss: 0.0123 - val_loss: 14.8500\n",
      "Epoch 260/300\n",
      "800/800 [==============================] - 0s 93us/step - loss: 0.0104 - val_loss: 14.8553\n",
      "Epoch 261/300\n",
      "800/800 [==============================] - 0s 89us/step - loss: 0.0125 - val_loss: 14.8624\n",
      "Epoch 262/300\n",
      "800/800 [==============================] - 0s 88us/step - loss: 0.0099 - val_loss: 14.8546\n",
      "Epoch 263/300\n",
      "800/800 [==============================] - 0s 94us/step - loss: 0.0156 - val_loss: 14.8822\n",
      "Epoch 264/300\n",
      "800/800 [==============================] - 0s 100us/step - loss: 0.0231 - val_loss: 14.8322\n",
      "Epoch 265/300\n",
      "800/800 [==============================] - 0s 91us/step - loss: 0.0163 - val_loss: 14.8727\n",
      "Epoch 266/300\n",
      "800/800 [==============================] - 0s 100us/step - loss: 0.0307 - val_loss: 14.8803\n",
      "Epoch 267/300\n",
      "800/800 [==============================] - 0s 91us/step - loss: 0.0222 - val_loss: 14.8370\n",
      "Epoch 268/300\n",
      "800/800 [==============================] - 0s 92us/step - loss: 0.0319 - val_loss: 14.8087\n",
      "Epoch 269/300\n",
      "800/800 [==============================] - 0s 93us/step - loss: 0.0213 - val_loss: 14.8139\n",
      "Epoch 270/300\n",
      "800/800 [==============================] - 0s 92us/step - loss: 0.0194 - val_loss: 14.8506\n",
      "Epoch 271/300\n",
      "800/800 [==============================] - 0s 91us/step - loss: 0.0109 - val_loss: 14.8743\n",
      "Epoch 272/300\n",
      "800/800 [==============================] - 0s 90us/step - loss: 0.0273 - val_loss: 14.8150\n",
      "Epoch 273/300\n",
      "800/800 [==============================] - 0s 89us/step - loss: 0.0165 - val_loss: 14.8849\n",
      "Epoch 274/300\n",
      "800/800 [==============================] - 0s 94us/step - loss: 0.0167 - val_loss: 14.9061\n",
      "Epoch 275/300\n",
      "800/800 [==============================] - 0s 93us/step - loss: 0.0173 - val_loss: 14.8798\n",
      "Epoch 276/300\n",
      "800/800 [==============================] - 0s 92us/step - loss: 0.0127 - val_loss: 14.9029\n",
      "Epoch 277/300\n",
      "800/800 [==============================] - 0s 94us/step - loss: 0.0151 - val_loss: 14.9196\n",
      "Epoch 278/300\n",
      "800/800 [==============================] - 0s 101us/step - loss: 0.0114 - val_loss: 14.8936\n",
      "Epoch 279/300\n",
      "800/800 [==============================] - 0s 91us/step - loss: 0.0070 - val_loss: 14.9095\n",
      "Epoch 280/300\n",
      "800/800 [==============================] - 0s 90us/step - loss: 0.0189 - val_loss: 14.9100\n",
      "Epoch 281/300\n",
      "800/800 [==============================] - 0s 91us/step - loss: 0.0096 - val_loss: 14.9254\n",
      "Epoch 282/300\n",
      "800/800 [==============================] - 0s 89us/step - loss: 0.0107 - val_loss: 14.9148\n",
      "Epoch 283/300\n",
      "800/800 [==============================] - 0s 87us/step - loss: 0.0144 - val_loss: 14.9212\n",
      "Epoch 284/300\n",
      "800/800 [==============================] - 0s 87us/step - loss: 0.0156 - val_loss: 14.9202\n",
      "Epoch 285/300\n",
      "800/800 [==============================] - 0s 92us/step - loss: 0.0076 - val_loss: 14.9647\n",
      "Epoch 286/300\n",
      "800/800 [==============================] - 0s 97us/step - loss: 0.0110 - val_loss: 14.9360\n",
      "Epoch 287/300\n",
      "800/800 [==============================] - 0s 89us/step - loss: 0.0309 - val_loss: 14.8517\n",
      "Epoch 288/300\n",
      "800/800 [==============================] - 0s 90us/step - loss: 0.0776 - val_loss: 15.0127\n",
      "Epoch 289/300\n",
      "800/800 [==============================] - 0s 89us/step - loss: 0.0703 - val_loss: 14.8317\n",
      "Epoch 290/300\n",
      "800/800 [==============================] - 0s 88us/step - loss: 0.0309 - val_loss: 15.0077\n",
      "Epoch 291/300\n",
      "800/800 [==============================] - 0s 100us/step - loss: 0.0081 - val_loss: 14.9739\n",
      "Epoch 292/300\n",
      "800/800 [==============================] - 0s 96us/step - loss: 0.0067 - val_loss: 14.9779\n",
      "Epoch 293/300\n",
      "800/800 [==============================] - 0s 89us/step - loss: 0.0076 - val_loss: 14.9823\n",
      "Epoch 294/300\n",
      "800/800 [==============================] - 0s 90us/step - loss: 0.0099 - val_loss: 14.9558\n",
      "Epoch 295/300\n",
      "800/800 [==============================] - 0s 89us/step - loss: 0.0243 - val_loss: 14.9597\n",
      "Epoch 296/300\n",
      "800/800 [==============================] - 0s 91us/step - loss: 0.0119 - val_loss: 14.9728\n",
      "Epoch 297/300\n",
      "800/800 [==============================] - 0s 88us/step - loss: 0.0066 - val_loss: 14.9626\n",
      "Epoch 298/300\n",
      "800/800 [==============================] - 0s 99us/step - loss: 0.0075 - val_loss: 14.9697\n",
      "Epoch 299/300\n",
      "800/800 [==============================] - 0s 98us/step - loss: 0.0223 - val_loss: 14.9520\n",
      "Epoch 300/300\n",
      "800/800 [==============================] - 0s 104us/step - loss: 0.0138 - val_loss: 14.9805\n"
     ]
    },
    {
     "data": {
      "text/plain": [
       "<keras.callbacks.History at 0x7f2270534eb8>"
      ]
     },
     "execution_count": 11,
     "metadata": {
      "tags": []
     },
     "output_type": "execute_result"
    }
   ],
   "source": [
    "model.fit(X,y, epochs=300, validation_split=0.2, shuffle=True)"
   ]
  },
  {
   "cell_type": "code",
   "execution_count": 12,
   "metadata": {
    "colab": {
     "base_uri": "https://localhost:8080/",
     "height": 323
    },
    "colab_type": "code",
    "id": "PQ92rZFY0Tb3",
    "outputId": "9a41207f-d827-44e1-9903-74143967c7b9"
   },
   "outputs": [
    {
     "data": {
      "image/png": "[encoded data removed]",
      "text/plain": [
       "<Figure size 720x360 with 1 Axes>"
      ]
     },
     "metadata": {
      "tags": []
     },
     "output_type": "display_data"
    }
   ],
   "source": [
    "plt.figure(figsize=(10,5))\n",
    "plt.plot(X,y, label='true function')\n",
    "plt.plot(X, model.predict(X), label='predicted function')\n",
    "plt.legend()\n",
    "plt.show()"
   ]
  },
  {
   "cell_type": "markdown",
   "metadata": {
    "colab_type": "text",
    "id": "PvSIylh-0Tb6"
   },
   "source": [
    "### Как выстрелить себе в ногу с Keras"
   ]
  },
  {
   "cell_type": "markdown",
   "metadata": {
    "colab_type": "text",
    "id": "AZG-FYqA0Tb7"
   },
   "source": [
    "* __Задача:__ Предсказать цену дома в $mil\n",
    "* __Вход:__ 39 признаков этого дома"
   ]
  },
  {
   "cell_type": "code",
   "execution_count": 0,
   "metadata": {
    "colab": {},
    "colab_type": "code",
    "id": "Gx0zorX70Tb8"
   },
   "outputs": [],
   "source": [
    "model = keras.models.Sequential()\n",
    "\n",
    "model.add(L.InputLayer([39]))\n",
    "model.add(L.Dense(128, activation='relu', kernel_initializer=keras.initializers.zeros())) \n",
    "model.add(L.Dense(128, activation='relu', kernel_initializer=keras.initializers.zeros())) \n",
    "model.add(L.Dense(1))\n",
    "\n",
    "model.compile(optimizer='sgd', loss='mean_squared_error') "
   ]
  },
  {
   "cell_type": "markdown",
   "metadata": {
    "colab_type": "text",
    "id": "7dISJkmn0Tb-"
   },
   "source": [
    "* __Задача:__ Распознать рукописную цифру (0-9)\n",
    "* __Вход:__ картинка 28 x 28 пикселей (ч/б)"
   ]
  },
  {
   "cell_type": "code",
   "execution_count": 0,
   "metadata": {
    "colab": {},
    "colab_type": "code",
    "id": "VnDmhvhS0Tb_"
   },
   "outputs": [],
   "source": [
    "model = keras.models.Sequential()\n",
    "\n",
    "model.add(L.InputLayer([28, 28, 1]))\n",
    "\n",
    "model.add(L.Conv2D(filters=32, kernel_size=(3, 3)))\n",
    "model.add(L.Activation('relu'))\n",
    "model.add(L.MaxPool2D(pool_size=(2, 2)))\n",
    "model.add(L.Flatten())\n",
    "\n",
    "model.add(L.Dense(100))\n",
    "model.add(L.Activation('relu'))\n",
    "model.add(L.Dropout(0.1))\n",
    "\n",
    "model.add(L.Dense(10))\n",
    "model.add(L.Activation('softmax'))\n",
    "\n",
    "model.compile(optimizer='rmsprop', loss='mean_squared_error')"
   ]
  },
  {
   "cell_type": "code",
   "execution_count": 0,
   "metadata": {
    "colab": {},
    "colab_type": "code",
    "id": "7M6ZoZSPDEf6"
   },
   "outputs": [],
   "source": []
  },
  {
   "cell_type": "markdown",
   "metadata": {
    "colab_type": "text",
    "id": "J0Ye-wpD0TcC"
   },
   "source": [
    "* __Задача:__ классификация одежды (10 классов)\n",
    "* __Вход:__ картинка RGB 100 x 100 пикселей"
   ]
  },
  {
   "cell_type": "code",
   "execution_count": 0,
   "metadata": {
    "colab": {},
    "colab_type": "code",
    "id": "3iYpoY6w0TcD"
   },
   "outputs": [],
   "source": [
    "model = keras.models.Sequential()\n",
    "model.add(L.InputLayer([100, 100, 3]))\n",
    "\n",
    "for filters in [32, 64, 128]:\n",
    "    model.add(L.Conv2D(filters, kernel_size=(5, 5)))\n",
    "    model.add(L.MaxPooling2D(pool_size=(3, 3)))\n",
    "    model.add(L.Activation('relu'))\n",
    "    model.add(L.BatchNormalization())\n",
    "\n",
    "model.add(L.Flatten())\n",
    "\n",
    "model.add(L.Dense(100, activation='relu'))\n",
    "model.add(L.Dropout(0.5))\n",
    "model.add(L.Dense(10, activation='softmax'))\n",
    "\n",
    "model.compile(optimizer='adam', loss='sparse_categorical_crossentropy')"
   ]
  },
  {
   "cell_type": "code",
   "execution_count": 16,
   "metadata": {
    "colab": {
     "base_uri": "https://localhost:8080/",
     "height": 693
    },
    "colab_type": "code",
    "id": "Qxi8cwVQBl9N",
    "outputId": "4e4147e5-89a3-4016-8a51-123b488cff85"
   },
   "outputs": [
    {
     "name": "stdout",
     "output_type": "stream",
     "text": [
      "_________________________________________________________________\n",
      "Layer (type)                 Output Shape              Param #   \n",
      "=================================================================\n",
      "conv2d_8 (Conv2D)            (None, 96, 96, 32)        2432      \n",
      "_________________________________________________________________\n",
      "max_pooling2d_7 (MaxPooling2 (None, 32, 32, 32)        0         \n",
      "_________________________________________________________________\n",
      "activation_7 (Activation)    (None, 32, 32, 32)        0         \n",
      "_________________________________________________________________\n",
      "batch_normalization_7 (Batch (None, 32, 32, 32)        128       \n",
      "_________________________________________________________________\n",
      "conv2d_9 (Conv2D)            (None, 28, 28, 64)        51264     \n",
      "_________________________________________________________________\n",
      "max_pooling2d_8 (MaxPooling2 (None, 9, 9, 64)          0         \n",
      "_________________________________________________________________\n",
      "activation_8 (Activation)    (None, 9, 9, 64)          0         \n",
      "_________________________________________________________________\n",
      "batch_normalization_8 (Batch (None, 9, 9, 64)          256       \n",
      "_________________________________________________________________\n",
      "conv2d_10 (Conv2D)           (None, 5, 5, 128)         204928    \n",
      "_________________________________________________________________\n",
      "max_pooling2d_9 (MaxPooling2 (None, 1, 1, 128)         0         \n",
      "_________________________________________________________________\n",
      "activation_9 (Activation)    (None, 1, 1, 128)         0         \n",
      "_________________________________________________________________\n",
      "batch_normalization_9 (Batch (None, 1, 1, 128)         512       \n",
      "_________________________________________________________________\n",
      "flatten_2 (Flatten)          (None, 128)               0         \n",
      "_________________________________________________________________\n",
      "dense_8 (Dense)              (None, 100)               12900     \n",
      "_________________________________________________________________\n",
      "dropout_2 (Dropout)          (None, 100)               0         \n",
      "_________________________________________________________________\n",
      "dense_9 (Dense)              (None, 10)                1010      \n",
      "=================================================================\n",
      "Total params: 273,430\n",
      "Trainable params: 272,982\n",
      "Non-trainable params: 448\n",
      "_________________________________________________________________\n"
     ]
    }
   ],
   "source": [
    "model.summary()"
   ]
  },
  {
   "cell_type": "code",
   "execution_count": 0,
   "metadata": {
    "colab": {},
    "colab_type": "code",
    "id": "ZxXelk3cBeHx"
   },
   "outputs": [],
   "source": []
  },
  {
   "cell_type": "markdown",
   "metadata": {
    "colab_type": "text",
    "id": "NRP8Blvb0TcF"
   },
   "source": [
    "### Обучение нейронной сети на примере датасета cifar10"
   ]
  },
  {
   "cell_type": "code",
   "execution_count": 17,
   "metadata": {
    "colab": {
     "base_uri": "https://localhost:8080/",
     "height": 69
    },
    "colab_type": "code",
    "id": "7t5-oN9h0TcG",
    "outputId": "9231726f-457f-4b6d-9f06-5737bcb8ac27"
   },
   "outputs": [
    {
     "name": "stdout",
     "output_type": "stream",
     "text": [
      "Downloading data from https://www.cs.toronto.edu/~kriz/cifar-10-python.tar.gz\n",
      "170500096/170498071 [==============================] - 14s 0us/step\n",
      "(40000, 32, 32, 3) (40000, 1)\n"
     ]
    }
   ],
   "source": [
    "from keras.datasets import cifar10\n",
    "from sklearn.model_selection import train_test_split\n",
    "\n",
    "(X_train, y_train), (X_test, y_test) = cifar10.load_data()\n",
    "X_train, X_val, y_train, y_val = train_test_split(X_train, y_train, test_size=10**4, random_state=42)\n",
    "\n",
    "class_names = np.array(['airplane','automobile ','bird ','cat ','deer ','dog ','frog ','horse ','ship ','truck'])\n",
    "\n",
    "print (X_train.shape,y_train.shape)"
   ]
  },
  {
   "cell_type": "code",
   "execution_count": 18,
   "metadata": {
    "colab": {
     "base_uri": "https://localhost:8080/",
     "height": 595
    },
    "colab_type": "code",
    "id": "WVzAUtFK0TcI",
    "outputId": "ec83b8af-afdd-468e-ca10-95fa7fed0f85"
   },
   "outputs": [
    {
     "data": {
      "image/png": "[encoded data removed]",
      "text/plain": [
       "<Figure size 864x720 with 12 Axes>"
      ]
     },
     "metadata": {
      "tags": []
     },
     "output_type": "display_data"
    }
   ],
   "source": [
    "import matplotlib.pyplot as plt\n",
    "%matplotlib inline\n",
    "\n",
    "plt.figure(figsize=[12,10])\n",
    "for i in range(12):\n",
    "    plt.subplot(3, 4, i + 1)\n",
    "    plt.xlabel(class_names[y_train[i, 0]])\n",
    "    plt.imshow(X_train[i])"
   ]
  },
  {
   "cell_type": "markdown",
   "metadata": {
    "colab_type": "text",
    "id": "T-Fhe2oU0TcL"
   },
   "source": [
    "Нормировка:"
   ]
  },
  {
   "cell_type": "code",
   "execution_count": 0,
   "metadata": {
    "colab": {},
    "colab_type": "code",
    "id": "nT5rK_P00TcM"
   },
   "outputs": [],
   "source": [
    "X_train = X_train / 255\n",
    "X_val = X_val / 255\n",
    "X_test = X_test / 255"
   ]
  },
  {
   "cell_type": "code",
   "execution_count": 0,
   "metadata": {
    "colab": {},
    "colab_type": "code",
    "id": "aSaeqtIa0TcP"
   },
   "outputs": [],
   "source": [
    "model = keras.models.Sequential()\n",
    "\n",
    "model.add(L.InputLayer(input_shape=[32,32,3]))\n",
    "model.add(L.Flatten())\n",
    "model.add(L.Dense(300, activation='relu'))\n",
    "model.add(L.Dense(100, activation='relu'))\n",
    "model.add(L.Dense(10, activation='softmax'))\n",
    "\n",
    "model.compile(loss='sparse_categorical_crossentropy', optimizer='adam', metrics=['accuracy'])"
   ]
  },
  {
   "cell_type": "code",
   "execution_count": 21,
   "metadata": {
    "colab": {
     "base_uri": "https://localhost:8080/",
     "height": 295
    },
    "colab_type": "code",
    "id": "Wh0Tvcfc0TcS",
    "outputId": "4dc0bad4-b02c-4c94-9d44-61d6fb26d4f1"
   },
   "outputs": [
    {
     "name": "stdout",
     "output_type": "stream",
     "text": [
      "Train on 40000 samples, validate on 10000 samples\n",
      "Epoch 1/7\n",
      "40000/40000 [==============================] - 6s 151us/step - loss: 1.8954 - acc: 0.3175 - val_loss: 1.7944 - val_acc: 0.3530\n",
      "Epoch 2/7\n",
      "40000/40000 [==============================] - 5s 130us/step - loss: 1.7207 - acc: 0.3838 - val_loss: 1.6935 - val_acc: 0.3924\n",
      "Epoch 3/7\n",
      "40000/40000 [==============================] - 5s 128us/step - loss: 1.6454 - acc: 0.4129 - val_loss: 1.6038 - val_acc: 0.4244\n",
      "Epoch 4/7\n",
      "40000/40000 [==============================] - 5s 127us/step - loss: 1.5932 - acc: 0.4307 - val_loss: 1.7008 - val_acc: 0.3794\n",
      "Epoch 5/7\n",
      "40000/40000 [==============================] - 5s 127us/step - loss: 1.5562 - acc: 0.4447 - val_loss: 1.5566 - val_acc: 0.4400\n",
      "Epoch 6/7\n",
      "40000/40000 [==============================] - 5s 128us/step - loss: 1.5236 - acc: 0.4575 - val_loss: 1.5460 - val_acc: 0.4483\n",
      "Epoch 7/7\n",
      "40000/40000 [==============================] - 5s 128us/step - loss: 1.4981 - acc: 0.4641 - val_loss: 1.5386 - val_acc: 0.4518\n"
     ]
    },
    {
     "data": {
      "text/plain": [
       "<keras.callbacks.History at 0x7f2221f0c9e8>"
      ]
     },
     "execution_count": 21,
     "metadata": {
      "tags": []
     },
     "output_type": "execute_result"
    }
   ],
   "source": [
    "model.fit(X_train, y_train, epochs=7, validation_data=[X_val, y_val])"
   ]
  },
  {
   "cell_type": "code",
   "execution_count": 22,
   "metadata": {
    "colab": {
     "base_uri": "https://localhost:8080/",
     "height": 69
    },
    "colab_type": "code",
    "id": "9MinhLqd0TcW",
    "outputId": "6b82c891-87c4-42e0-871c-ff559a67d3f9"
   },
   "outputs": [
    {
     "name": "stdout",
     "output_type": "stream",
     "text": [
      "\n",
      " Test_acc = 0.4576\n",
      " Not bad!\n"
     ]
    }
   ],
   "source": [
    "from sklearn.metrics import accuracy_score\n",
    "test_acc = accuracy_score(y_test, model.predict_classes(X_test))\n",
    "print(\"\\n Test_acc =\", test_acc)\n",
    "assert test_acc > 0.45, \"Not good enough. Back to the drawing board :)\"\n",
    "print(\" Not bad!\")"
   ]
  },
  {
   "cell_type": "markdown",
   "metadata": {
    "colab_type": "text",
    "id": "l-go6QLD0TcZ"
   },
   "source": [
    "### Улучшаем модель (Домашнее задание)\n",
    "Составьте и обучите модель, состоящую из следующих слоёв:"
   ]
  },
  {
   "cell_type": "markdown",
   "metadata": {
    "colab_type": "text",
    "id": "ryllfWyN0Tca"
   },
   "source": [
    "- Входной слой\n",
    "- Свёртка 3x3 с 10 фильтрами\n",
    "- Нелинейность на ваш вкус\n",
    "- Max-pooling 2x2\n",
    "- Вытягиваем оставшееся в вектор (Flatten)\n",
    "- Полносвязный слой на 100 нейронов\n",
    "- Нелинейность на ваш вкус\n",
    "- Выходной полносвязный слой с softmax"
   ]
  },
  {
   "cell_type": "code",
   "execution_count": 0,
   "metadata": {
    "colab": {},
    "colab_type": "code",
    "id": "4gmlYVF70Tca"
   },
   "outputs": [],
   "source": [
    "model = keras.models.Sequential()\n",
    "\n",
    "# Ваш код: создайте модель описанную выше, она должна получить качество > 0.5 точности на тесте\n",
    "# Если этого сделать не удается немного увеличьте число эпох (параметр epochs)\n",
    "# ДОП. ЗАДАНИЕ: Постарайтесь улучшить модель за счет изменения архитектуры сети.\n",
    "# 3-е лучших слушателей по метрике accuracy получат зачет автоматом\n",
    "\n",
    "model.compile(loss='sparse_categorical_crossentropy', metrics=['accuracy'], optimizer='adam')"
   ]
  },
  {
   "cell_type": "code",
   "execution_count": 0,
   "metadata": {
    "colab": {},
    "colab_type": "code",
    "id": "ENXFHQtE0Tcd"
   },
   "outputs": [],
   "source": [
    "model.fit(X_train, y_train, epochs=5, validation_data=[X_val, y_val])"
   ]
  },
  {
   "cell_type": "code",
   "execution_count": 0,
   "metadata": {
    "colab": {},
    "colab_type": "code",
    "id": "ACJCAiwn0Tcg"
   },
   "outputs": [],
   "source": [
    "from sklearn.metrics import accuracy_score\n",
    "test_acc = accuracy_score(y_test, model.predict_classes(X_test))\n",
    "print(\"\\n Test_acc =\", test_acc)\n",
    "assert test_acc > 0.50, \"Not good enough. Back to the drawing board :)\"\n",
    "print(\" Not bad!\")"
   ]
  }
 ],
 "metadata": {
  "accelerator": "GPU",
  "colab": {
   "name": "keras_intro.ipynb",
   "provenance": [],
   "version": "0.3.2"
  },
  "kernelspec": {
   "display_name": "Python 3",
   "language": "python",
   "name": "python3"
  },
  "language_info": {
   "codemirror_mode": {
    "name": "ipython",
    "version": 3
   },
   "file_extension": ".py",
   "mimetype": "text/x-python",
   "name": "python",
   "nbconvert_exporter": "python",
   "pygments_lexer": "ipython3",
   "version": "3.6.8"
  }
 },
 "nbformat": 4,
 "nbformat_minor": 1
}
