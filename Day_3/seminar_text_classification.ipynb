{
 "cells": [
  {
   "cell_type": "markdown",
   "metadata": {},
   "source": [
    "# Классификация текста"
   ]
  },
  {
   "cell_type": "code",
   "execution_count": 1,
   "metadata": {},
   "outputs": [],
   "source": [
    "import numpy as np\n",
    "import pandas as pd\n",
    "from matplotlib import pyplot as plt\n",
    "%matplotlib inline"
   ]
  },
  {
   "cell_type": "markdown",
   "metadata": {},
   "source": [
    "Мы будем решать задачу предсказания оценки, проставленной вину, базируясь на отзыве. Данные взяты из конкурса https://www.kaggle.com/zynicide/wine-reviews"
   ]
  },
  {
   "cell_type": "code",
   "execution_count": 73,
   "metadata": {
    "scrolled": true
   },
   "outputs": [
    {
     "data": {
      "text/html": [
       "<div>\n",
       "<style scoped>\n",
       "    .dataframe tbody tr th:only-of-type {\n",
       "        vertical-align: middle;\n",
       "    }\n",
       "\n",
       "    .dataframe tbody tr th {\n",
       "        vertical-align: top;\n",
       "    }\n",
       "\n",
       "    .dataframe thead th {\n",
       "        text-align: right;\n",
       "    }\n",
       "</style>\n",
       "<table border=\"1\" class=\"dataframe\">\n",
       "  <thead>\n",
       "    <tr style=\"text-align: right;\">\n",
       "      <th></th>\n",
       "      <th>country</th>\n",
       "      <th>description</th>\n",
       "      <th>designation</th>\n",
       "      <th>points</th>\n",
       "      <th>price</th>\n",
       "      <th>province</th>\n",
       "      <th>region_1</th>\n",
       "      <th>region_2</th>\n",
       "      <th>taster_name</th>\n",
       "      <th>taster_twitter_handle</th>\n",
       "      <th>title</th>\n",
       "      <th>variety</th>\n",
       "      <th>winery</th>\n",
       "    </tr>\n",
       "  </thead>\n",
       "  <tbody>\n",
       "    <tr>\n",
       "      <th>0</th>\n",
       "      <td>Italy</td>\n",
       "      <td>Aromas include tropical fruit, broom, brimston...</td>\n",
       "      <td>Vulkà Bianco</td>\n",
       "      <td>87</td>\n",
       "      <td></td>\n",
       "      <td>Sicily &amp; Sardinia</td>\n",
       "      <td>Etna</td>\n",
       "      <td></td>\n",
       "      <td>Kerin O’Keefe</td>\n",
       "      <td>@kerinokeefe</td>\n",
       "      <td>Nicosia 2013 Vulkà Bianco  (Etna)</td>\n",
       "      <td>White Blend</td>\n",
       "      <td>Nicosia</td>\n",
       "    </tr>\n",
       "    <tr>\n",
       "      <th>1</th>\n",
       "      <td>Portugal</td>\n",
       "      <td>This is ripe and fruity, a wine that is smooth...</td>\n",
       "      <td>Avidagos</td>\n",
       "      <td>87</td>\n",
       "      <td>15.0</td>\n",
       "      <td>Douro</td>\n",
       "      <td></td>\n",
       "      <td></td>\n",
       "      <td>Roger Voss</td>\n",
       "      <td>@vossroger</td>\n",
       "      <td>Quinta dos Avidagos 2011 Avidagos Red (Douro)</td>\n",
       "      <td>Portuguese Red</td>\n",
       "      <td>Quinta dos Avidagos</td>\n",
       "    </tr>\n",
       "    <tr>\n",
       "      <th>2</th>\n",
       "      <td>US</td>\n",
       "      <td>Tart and snappy, the flavors of lime flesh and...</td>\n",
       "      <td></td>\n",
       "      <td>87</td>\n",
       "      <td>14.0</td>\n",
       "      <td>Oregon</td>\n",
       "      <td>Willamette Valley</td>\n",
       "      <td>Willamette Valley</td>\n",
       "      <td>Paul Gregutt</td>\n",
       "      <td>@paulgwine</td>\n",
       "      <td>Rainstorm 2013 Pinot Gris (Willamette Valley)</td>\n",
       "      <td>Pinot Gris</td>\n",
       "      <td>Rainstorm</td>\n",
       "    </tr>\n",
       "    <tr>\n",
       "      <th>3</th>\n",
       "      <td>US</td>\n",
       "      <td>Pineapple rind, lemon pith and orange blossom ...</td>\n",
       "      <td>Reserve Late Harvest</td>\n",
       "      <td>87</td>\n",
       "      <td>13.0</td>\n",
       "      <td>Michigan</td>\n",
       "      <td>Lake Michigan Shore</td>\n",
       "      <td></td>\n",
       "      <td>Alexander Peartree</td>\n",
       "      <td></td>\n",
       "      <td>St. Julian 2013 Reserve Late Harvest Riesling ...</td>\n",
       "      <td>Riesling</td>\n",
       "      <td>St. Julian</td>\n",
       "    </tr>\n",
       "    <tr>\n",
       "      <th>4</th>\n",
       "      <td>US</td>\n",
       "      <td>Much like the regular bottling from 2012, this...</td>\n",
       "      <td>Vintner's Reserve Wild Child Block</td>\n",
       "      <td>87</td>\n",
       "      <td>65.0</td>\n",
       "      <td>Oregon</td>\n",
       "      <td>Willamette Valley</td>\n",
       "      <td>Willamette Valley</td>\n",
       "      <td>Paul Gregutt</td>\n",
       "      <td>@paulgwine</td>\n",
       "      <td>Sweet Cheeks 2012 Vintner's Reserve Wild Child...</td>\n",
       "      <td>Pinot Noir</td>\n",
       "      <td>Sweet Cheeks</td>\n",
       "    </tr>\n",
       "  </tbody>\n",
       "</table>\n",
       "</div>"
      ],
      "text/plain": [
       "    country                                        description  \\\n",
       "0     Italy  Aromas include tropical fruit, broom, brimston...   \n",
       "1  Portugal  This is ripe and fruity, a wine that is smooth...   \n",
       "2        US  Tart and snappy, the flavors of lime flesh and...   \n",
       "3        US  Pineapple rind, lemon pith and orange blossom ...   \n",
       "4        US  Much like the regular bottling from 2012, this...   \n",
       "\n",
       "                          designation  points price           province  \\\n",
       "0                        Vulkà Bianco      87        Sicily & Sardinia   \n",
       "1                            Avidagos      87  15.0              Douro   \n",
       "2                                          87  14.0             Oregon   \n",
       "3                Reserve Late Harvest      87  13.0           Michigan   \n",
       "4  Vintner's Reserve Wild Child Block      87  65.0             Oregon   \n",
       "\n",
       "              region_1           region_2         taster_name  \\\n",
       "0                 Etna                          Kerin O’Keefe   \n",
       "1                                                  Roger Voss   \n",
       "2    Willamette Valley  Willamette Valley        Paul Gregutt   \n",
       "3  Lake Michigan Shore                     Alexander Peartree   \n",
       "4    Willamette Valley  Willamette Valley        Paul Gregutt   \n",
       "\n",
       "  taster_twitter_handle                                              title  \\\n",
       "0          @kerinokeefe                  Nicosia 2013 Vulkà Bianco  (Etna)   \n",
       "1            @vossroger      Quinta dos Avidagos 2011 Avidagos Red (Douro)   \n",
       "2           @paulgwine       Rainstorm 2013 Pinot Gris (Willamette Valley)   \n",
       "3                        St. Julian 2013 Reserve Late Harvest Riesling ...   \n",
       "4           @paulgwine   Sweet Cheeks 2012 Vintner's Reserve Wild Child...   \n",
       "\n",
       "          variety               winery  \n",
       "0     White Blend              Nicosia  \n",
       "1  Portuguese Red  Quinta dos Avidagos  \n",
       "2      Pinot Gris            Rainstorm  \n",
       "3        Riesling           St. Julian  \n",
       "4      Pinot Noir         Sweet Cheeks  "
      ]
     },
     "execution_count": 73,
     "metadata": {},
     "output_type": "execute_result"
    }
   ],
   "source": [
    "data = pd.read_csv('winemag.csv', index_col=0, na_filter=False)\n",
    "data.head()"
   ]
  },
  {
   "cell_type": "code",
   "execution_count": 74,
   "metadata": {},
   "outputs": [
    {
     "data": {
      "text/plain": [
       "<matplotlib.axes._subplots.AxesSubplot at 0x7f5fd526cef0>"
      ]
     },
     "execution_count": 74,
     "metadata": {},
     "output_type": "execute_result"
    },
    {
     "data": {
      "image/png": "[encoded data removed]",
      "text/plain": [
       "<Figure size 432x288 with 1 Axes>"
      ]
     },
     "metadata": {
      "needs_background": "light"
     },
     "output_type": "display_data"
    }
   ],
   "source": [
    "data['points'].hist(bins=21)"
   ]
  },
  {
   "cell_type": "markdown",
   "metadata": {},
   "source": [
    "Бинаризуем таргет: будем предсказывать, превысит ли оценка 90."
   ]
  },
  {
   "cell_type": "code",
   "execution_count": 75,
   "metadata": {},
   "outputs": [
    {
     "data": {
      "text/plain": [
       "129971"
      ]
     },
     "execution_count": 75,
     "metadata": {},
     "output_type": "execute_result"
    }
   ],
   "source": [
    "len(data)"
   ]
  },
  {
   "cell_type": "code",
   "execution_count": 4,
   "metadata": {},
   "outputs": [
    {
     "data": {
      "text/html": [
       "<div>\n",
       "<style scoped>\n",
       "    .dataframe tbody tr th:only-of-type {\n",
       "        vertical-align: middle;\n",
       "    }\n",
       "\n",
       "    .dataframe tbody tr th {\n",
       "        vertical-align: top;\n",
       "    }\n",
       "\n",
       "    .dataframe thead th {\n",
       "        text-align: right;\n",
       "    }\n",
       "</style>\n",
       "<table border=\"1\" class=\"dataframe\">\n",
       "  <thead>\n",
       "    <tr style=\"text-align: right;\">\n",
       "      <th></th>\n",
       "      <th>country</th>\n",
       "      <th>description</th>\n",
       "      <th>designation</th>\n",
       "      <th>points</th>\n",
       "      <th>price</th>\n",
       "      <th>province</th>\n",
       "      <th>region_1</th>\n",
       "      <th>region_2</th>\n",
       "      <th>taster_name</th>\n",
       "      <th>taster_twitter_handle</th>\n",
       "      <th>title</th>\n",
       "      <th>variety</th>\n",
       "      <th>winery</th>\n",
       "      <th>&gt;=90</th>\n",
       "    </tr>\n",
       "  </thead>\n",
       "  <tbody>\n",
       "    <tr>\n",
       "      <th>0</th>\n",
       "      <td>Italy</td>\n",
       "      <td>Aromas include tropical fruit, broom, brimston...</td>\n",
       "      <td>Vulkà Bianco</td>\n",
       "      <td>87</td>\n",
       "      <td></td>\n",
       "      <td>Sicily &amp; Sardinia</td>\n",
       "      <td>Etna</td>\n",
       "      <td></td>\n",
       "      <td>Kerin O’Keefe</td>\n",
       "      <td>@kerinokeefe</td>\n",
       "      <td>Nicosia 2013 Vulkà Bianco  (Etna)</td>\n",
       "      <td>White Blend</td>\n",
       "      <td>Nicosia</td>\n",
       "      <td>False</td>\n",
       "    </tr>\n",
       "    <tr>\n",
       "      <th>1</th>\n",
       "      <td>Portugal</td>\n",
       "      <td>This is ripe and fruity, a wine that is smooth...</td>\n",
       "      <td>Avidagos</td>\n",
       "      <td>87</td>\n",
       "      <td>15.0</td>\n",
       "      <td>Douro</td>\n",
       "      <td></td>\n",
       "      <td></td>\n",
       "      <td>Roger Voss</td>\n",
       "      <td>@vossroger</td>\n",
       "      <td>Quinta dos Avidagos 2011 Avidagos Red (Douro)</td>\n",
       "      <td>Portuguese Red</td>\n",
       "      <td>Quinta dos Avidagos</td>\n",
       "      <td>False</td>\n",
       "    </tr>\n",
       "    <tr>\n",
       "      <th>2</th>\n",
       "      <td>US</td>\n",
       "      <td>Tart and snappy, the flavors of lime flesh and...</td>\n",
       "      <td></td>\n",
       "      <td>87</td>\n",
       "      <td>14.0</td>\n",
       "      <td>Oregon</td>\n",
       "      <td>Willamette Valley</td>\n",
       "      <td>Willamette Valley</td>\n",
       "      <td>Paul Gregutt</td>\n",
       "      <td>@paulgwine</td>\n",
       "      <td>Rainstorm 2013 Pinot Gris (Willamette Valley)</td>\n",
       "      <td>Pinot Gris</td>\n",
       "      <td>Rainstorm</td>\n",
       "      <td>False</td>\n",
       "    </tr>\n",
       "    <tr>\n",
       "      <th>3</th>\n",
       "      <td>US</td>\n",
       "      <td>Pineapple rind, lemon pith and orange blossom ...</td>\n",
       "      <td>Reserve Late Harvest</td>\n",
       "      <td>87</td>\n",
       "      <td>13.0</td>\n",
       "      <td>Michigan</td>\n",
       "      <td>Lake Michigan Shore</td>\n",
       "      <td></td>\n",
       "      <td>Alexander Peartree</td>\n",
       "      <td></td>\n",
       "      <td>St. Julian 2013 Reserve Late Harvest Riesling ...</td>\n",
       "      <td>Riesling</td>\n",
       "      <td>St. Julian</td>\n",
       "      <td>False</td>\n",
       "    </tr>\n",
       "    <tr>\n",
       "      <th>4</th>\n",
       "      <td>US</td>\n",
       "      <td>Much like the regular bottling from 2012, this...</td>\n",
       "      <td>Vintner's Reserve Wild Child Block</td>\n",
       "      <td>87</td>\n",
       "      <td>65.0</td>\n",
       "      <td>Oregon</td>\n",
       "      <td>Willamette Valley</td>\n",
       "      <td>Willamette Valley</td>\n",
       "      <td>Paul Gregutt</td>\n",
       "      <td>@paulgwine</td>\n",
       "      <td>Sweet Cheeks 2012 Vintner's Reserve Wild Child...</td>\n",
       "      <td>Pinot Noir</td>\n",
       "      <td>Sweet Cheeks</td>\n",
       "      <td>False</td>\n",
       "    </tr>\n",
       "  </tbody>\n",
       "</table>\n",
       "</div>"
      ],
      "text/plain": [
       "    country                                        description  \\\n",
       "0     Italy  Aromas include tropical fruit, broom, brimston...   \n",
       "1  Portugal  This is ripe and fruity, a wine that is smooth...   \n",
       "2        US  Tart and snappy, the flavors of lime flesh and...   \n",
       "3        US  Pineapple rind, lemon pith and orange blossom ...   \n",
       "4        US  Much like the regular bottling from 2012, this...   \n",
       "\n",
       "                          designation  points price           province  \\\n",
       "0                        Vulkà Bianco      87        Sicily & Sardinia   \n",
       "1                            Avidagos      87  15.0              Douro   \n",
       "2                                          87  14.0             Oregon   \n",
       "3                Reserve Late Harvest      87  13.0           Michigan   \n",
       "4  Vintner's Reserve Wild Child Block      87  65.0             Oregon   \n",
       "\n",
       "              region_1           region_2         taster_name  \\\n",
       "0                 Etna                          Kerin O’Keefe   \n",
       "1                                                  Roger Voss   \n",
       "2    Willamette Valley  Willamette Valley        Paul Gregutt   \n",
       "3  Lake Michigan Shore                     Alexander Peartree   \n",
       "4    Willamette Valley  Willamette Valley        Paul Gregutt   \n",
       "\n",
       "  taster_twitter_handle                                              title  \\\n",
       "0          @kerinokeefe                  Nicosia 2013 Vulkà Bianco  (Etna)   \n",
       "1            @vossroger      Quinta dos Avidagos 2011 Avidagos Red (Douro)   \n",
       "2           @paulgwine       Rainstorm 2013 Pinot Gris (Willamette Valley)   \n",
       "3                        St. Julian 2013 Reserve Late Harvest Riesling ...   \n",
       "4           @paulgwine   Sweet Cheeks 2012 Vintner's Reserve Wild Child...   \n",
       "\n",
       "          variety               winery   >=90  \n",
       "0     White Blend              Nicosia  False  \n",
       "1  Portuguese Red  Quinta dos Avidagos  False  \n",
       "2      Pinot Gris            Rainstorm  False  \n",
       "3        Riesling           St. Julian  False  \n",
       "4      Pinot Noir         Sweet Cheeks  False  "
      ]
     },
     "execution_count": 4,
     "metadata": {},
     "output_type": "execute_result"
    }
   ],
   "source": [
    "data['>=90'] = data['points'] >= 90\n",
    "\n",
    "data.head()"
   ]
  },
  {
   "cell_type": "markdown",
   "metadata": {},
   "source": [
    "Из всего многообразия признаков нас будет интересовать **description** -- признак содержащий описание вина и **points** -- присужденный балл"
   ]
  },
  {
   "cell_type": "markdown",
   "metadata": {},
   "source": [
    "#### Задание 1\n",
    "Выделите из данных X и y"
   ]
  },
  {
   "cell_type": "code",
   "execution_count": 5,
   "metadata": {},
   "outputs": [],
   "source": [
    "X = ###\n",
    "y = ###"
   ]
  },
  {
   "cell_type": "markdown",
   "metadata": {},
   "source": [
    "## Извлечение признаков из текстов\n",
    "\n",
    "Перед тем как работать с текстом, его необходимо токенизировать - разбить на отдельные токены. В качестве токенов могут выступать слова, фразы, предложений и т.п. Токенизировать текст можно  помощью регулярных выражений или готовых токенизаторов. \n",
    "\n",
    "После токенизации нужно привести текст к нормальной форме. Речь идет о [стемминге и/или лемматизации](https://nlp.stanford.edu/IR-book/html/htmledition/stemming-and-lemmatization-1.html) - это схожие процессы, используемые для обработки словоформ.\n",
    "\n",
    "Для работы лемматизации английского текста можно воспользоваться библиотекой nltk:"
   ]
  },
  {
   "cell_type": "code",
   "execution_count": 6,
   "metadata": {},
   "outputs": [
    {
     "name": "stderr",
     "output_type": "stream",
     "text": [
      "[nltk_data] Downloading package punkt to /home/ibr/nltk_data...\n",
      "[nltk_data]   Package punkt is already up-to-date!\n",
      "[nltk_data] Downloading package wordnet to /home/ibr/nltk_data...\n",
      "[nltk_data]   Package wordnet is already up-to-date!\n"
     ]
    },
    {
     "data": {
      "text/plain": [
       "True"
      ]
     },
     "execution_count": 6,
     "metadata": {},
     "output_type": "execute_result"
    }
   ],
   "source": [
    "import nltk\n",
    "nltk.download('punkt')\n",
    "nltk.download('wordnet')"
   ]
  },
  {
   "cell_type": "markdown",
   "metadata": {},
   "source": [
    "#### Задание 2\n",
    "Токенизируйте тексты. Сейчас Х - это набор из строк-текстов. Разбейте каждый текст на слова (токенизируйте его), каждое из которых написано в нижнем регистре.\n",
    "\n",
    "(Вам могут понадобиться функция word_tokenize из nltk.tokenize, а также методы строк isalpha и lower)"
   ]
  },
  {
   "cell_type": "code",
   "execution_count": 144,
   "metadata": {},
   "outputs": [
    {
     "data": {
      "text/plain": [
       "['Hello', ',', 'it', \"'s\", 'me', 'Vasya1']"
      ]
     },
     "execution_count": 144,
     "metadata": {},
     "output_type": "execute_result"
    }
   ],
   "source": [
    "from nltk.tokenize import word_tokenize\n",
    "\n",
    "word_tokenize('Hello, it\\'s me Vasya1')"
   ]
  },
  {
   "cell_type": "code",
   "execution_count": 145,
   "metadata": {},
   "outputs": [
    {
     "data": {
      "text/plain": [
       "[1, 4, 16]"
      ]
     },
     "execution_count": 145,
     "metadata": {},
     "output_type": "execute_result"
    }
   ],
   "source": [
    "a = [1,2,4]\n",
    "[item ** 2 for item in a]"
   ]
  },
  {
   "cell_type": "code",
   "execution_count": 146,
   "metadata": {},
   "outputs": [
    {
     "data": {
      "text/plain": [
       "'masha'"
      ]
     },
     "execution_count": 146,
     "metadata": {},
     "output_type": "execute_result"
    }
   ],
   "source": [
    "'Masha'.lower()"
   ]
  },
  {
   "cell_type": "code",
   "execution_count": 147,
   "metadata": {},
   "outputs": [
    {
     "data": {
      "text/plain": [
       "(False, True)"
      ]
     },
     "execution_count": 147,
     "metadata": {},
     "output_type": "execute_result"
    }
   ],
   "source": [
    "'Masha123'.isalpha(), 'Vasya'.isalpha()"
   ]
  },
  {
   "cell_type": "code",
   "execution_count": 7,
   "metadata": {},
   "outputs": [],
   "source": [
    "from nltk.tokenize import word_tokenize\n",
    "from tqdm import tqdm_notebook\n",
    "\n",
    "tokens = ###"
   ]
  },
  {
   "cell_type": "code",
   "execution_count": 148,
   "metadata": {},
   "outputs": [
    {
     "data": {
      "text/plain": [
       "['aromas',\n",
       " 'include',\n",
       " 'tropical',\n",
       " 'fruit',\n",
       " 'broom',\n",
       " 'brimstone',\n",
       " 'and',\n",
       " 'dried',\n",
       " 'herb',\n",
       " 'the',\n",
       " 'palate',\n",
       " 'is',\n",
       " 'overly',\n",
       " 'expressive',\n",
       " 'offering',\n",
       " 'unripened',\n",
       " 'apple',\n",
       " 'citrus',\n",
       " 'and',\n",
       " 'dried',\n",
       " 'sage',\n",
       " 'alongside',\n",
       " 'brisk',\n",
       " 'acidity']"
      ]
     },
     "execution_count": 148,
     "metadata": {},
     "output_type": "execute_result"
    }
   ],
   "source": [
    "tokens[0]"
   ]
  },
  {
   "cell_type": "markdown",
   "metadata": {},
   "source": [
    "#### Задание 3\n",
    "Теперь, когда для каждого текста у вас есть набор слов, встречающихся в нем, можно переходить к лемматизации.\n",
    "Лемматизируйте все слова с помощью WordNetLemmatizer и объедините получившиеся слова в одну строку через пробел, запишите результат в X"
   ]
  },
  {
   "cell_type": "code",
   "execution_count": 8,
   "metadata": {},
   "outputs": [],
   "source": [
    "from nltk.stem import WordNetLemmatizer\n",
    "\n",
    "lemmatizer = WordNetLemmatizer()\n",
    "#lemmatizer.lemmatize(<word>)\n",
    "\n",
    "X = ###"
   ]
  },
  {
   "cell_type": "code",
   "execution_count": 10,
   "metadata": {},
   "outputs": [
    {
     "data": {
      "text/plain": [
       "'aroma include tropical fruit broom brimstone and dried herb the palate is overly expressive offering unripened apple citrus and dried sage alongside brisk acidity'"
      ]
     },
     "execution_count": 10,
     "metadata": {},
     "output_type": "execute_result"
    }
   ],
   "source": [
    "X[0]"
   ]
  },
  {
   "cell_type": "code",
   "execution_count": 11,
   "metadata": {},
   "outputs": [
    {
     "data": {
      "text/plain": [
       "['aroma include tropical fruit broom brimstone and dried herb the palate is overly expressive offering unripened apple citrus and dried sage alongside brisk acidity',\n",
       " 'this is ripe and fruity a wine that is smooth while still structured firm tannin are filled out with juicy red berry fruit and freshened with acidity it already drinkable although it will certainly be better from',\n",
       " 'tart and snappy the flavor of lime flesh and rind dominate some green pineapple poke through with crisp acidity underscoring the flavor the wine wa all fermented',\n",
       " 'pineapple rind lemon pith and orange blossom start off the aroma the palate is a bit more opulent with note of guava and mango giving way to a slightly astringent semidry finish',\n",
       " 'much like the regular bottling from this come across a rather rough and tannic with rustic earthy herbal characteristic nonetheless if you think of it a a pleasantly unfussy country wine it a good companion to a hearty winter stew']"
      ]
     },
     "execution_count": 11,
     "metadata": {},
     "output_type": "execute_result"
    }
   ],
   "source": [
    "X[:5]"
   ]
  },
  {
   "cell_type": "code",
   "execution_count": 9,
   "metadata": {},
   "outputs": [],
   "source": [
    "from sklearn.model_selection import train_test_split\n",
    "\n",
    "X_train, X_test, y_train, y_test = train_test_split(X, y, test_size=0.1)"
   ]
  },
  {
   "cell_type": "code",
   "execution_count": 10,
   "metadata": {},
   "outputs": [],
   "source": [
    "y_train = y_train.values\n",
    "y_test = y_test.values"
   ]
  },
  {
   "cell_type": "markdown",
   "metadata": {},
   "source": [
    "### Bag of Words\n",
    "\n",
    "Cоздаем вектор длиной в словарь, для каждого слова считаем количество вхождений в текст и подставляем это число на соответствующую позицию в векторе.\n",
    "\n",
    "Построим модель BOW с помощью [CountVectorizer](http://scikit-learn.org/stable/modules/generated/sklearn.feature_extraction.text.CountVectorizer.html)"
   ]
  },
  {
   "cell_type": "code",
   "execution_count": 11,
   "metadata": {},
   "outputs": [
    {
     "name": "stdout",
     "output_type": "stream",
     "text": [
      "Размер словаря: 26562\n",
      "Top-10 слов: and; the; of; with; this; it; is; wine; flavor; in\n"
     ]
    }
   ],
   "source": [
    "from sklearn.feature_extraction.text import CountVectorizer\n",
    "\n",
    "vectorizer = CountVectorizer()\n",
    "vectorizer.fit(X_train)\n",
    "\n",
    "vocabulary = vectorizer.get_feature_names()\n",
    "print('Размер словаря: %d' % len(vocabulary))\n",
    "\n",
    "description_count = vectorizer.transform(X_train)\n",
    "top_tokens, _ = zip(*sorted(zip(vocabulary, description_count.sum(axis=0).getA1()), \n",
    "                            key=lambda x: x[1], reverse=True)[:10])\n",
    "print('Top-10 слов: %s'%'; '.join(top_tokens))"
   ]
  },
  {
   "cell_type": "markdown",
   "metadata": {},
   "source": [
    "Видно, что большая часть из топ-10 слов является не информативными - стоп-словами. Что бы они не участвовали в представлении, в конструктор CountVectorizer в качестве параметра можно передать список стоп-слов:"
   ]
  },
  {
   "cell_type": "code",
   "execution_count": 12,
   "metadata": {},
   "outputs": [
    {
     "name": "stderr",
     "output_type": "stream",
     "text": [
      "[nltk_data] Downloading package stopwords to /home/ibr/nltk_data...\n",
      "[nltk_data]   Package stopwords is already up-to-date!\n"
     ]
    },
    {
     "data": {
      "text/plain": [
       "True"
      ]
     },
     "execution_count": 12,
     "metadata": {},
     "output_type": "execute_result"
    }
   ],
   "source": [
    "from nltk.corpus import stopwords\n",
    "nltk.download('stopwords')"
   ]
  },
  {
   "cell_type": "code",
   "execution_count": 13,
   "metadata": {},
   "outputs": [
    {
     "data": {
      "text/plain": [
       "True"
      ]
     },
     "execution_count": 13,
     "metadata": {},
     "output_type": "execute_result"
    }
   ],
   "source": [
    "'has' in stopwords.words('english')"
   ]
  },
  {
   "cell_type": "code",
   "execution_count": 14,
   "metadata": {},
   "outputs": [
    {
     "name": "stdout",
     "output_type": "stream",
     "text": [
      "Размер словаря: 26439\n",
      "Top-10 слов: wine; flavor; fruit; aroma; finish; palate; acidity; tannin; cherry; drink\n"
     ]
    }
   ],
   "source": [
    "stop_words = set(stopwords.words('english'))\n",
    "vectorizer = CountVectorizer(stop_words=stop_words)\n",
    "vectorizer.fit(X_train)\n",
    "vocabulary = vectorizer.get_feature_names()\n",
    "print('Размер словаря: %d' % len(vocabulary))\n",
    "\n",
    "description_count = vectorizer.transform(X_train)\n",
    "top_tokens, _ = zip(*sorted(zip(vocabulary, description_count.sum(axis=0).getA1()), \n",
    "                            key=lambda x: x[1], reverse=True)[:10])\n",
    "print('Top-10 слов: %s'%'; '.join(top_tokens))"
   ]
  },
  {
   "cell_type": "code",
   "execution_count": 15,
   "metadata": {},
   "outputs": [
    {
     "data": {
      "text/plain": [
       "('wine',\n",
       " 'flavor',\n",
       " 'fruit',\n",
       " 'aroma',\n",
       " 'finish',\n",
       " 'palate',\n",
       " 'acidity',\n",
       " 'tannin',\n",
       " 'cherry',\n",
       " 'drink',\n",
       " 'ripe',\n",
       " 'black',\n",
       " 'note',\n",
       " 'ha',\n",
       " 'spice',\n",
       " 'red',\n",
       " 'berry',\n",
       " 'rich',\n",
       " 'fresh',\n",
       " 'nose')"
      ]
     },
     "execution_count": 15,
     "metadata": {},
     "output_type": "execute_result"
    }
   ],
   "source": [
    "top_tokens, _ = zip(*sorted(zip(vocabulary, description_count.sum(axis=0).getA1()), \n",
    "                            key=lambda x: x[1], reverse=True)[:20])\n",
    "top_tokens"
   ]
  },
  {
   "cell_type": "markdown",
   "metadata": {},
   "source": [
    "Чтобы сжать векторное представление, можно \"отбросить\" редкие слова:"
   ]
  },
  {
   "cell_type": "code",
   "execution_count": 16,
   "metadata": {},
   "outputs": [
    {
     "name": "stdout",
     "output_type": "stream",
     "text": [
      "Размер словаря: 7669\n"
     ]
    }
   ],
   "source": [
    "vectorizer = CountVectorizer(stop_words=stop_words, min_df=10).fit(X)\n",
    "vocabulary = vectorizer.get_feature_names()\n",
    "print('Размер словаря: %d'%len(vocabulary))\n",
    "\n",
    "X_train_bow = vectorizer.transform(X_train)\n",
    "X_test_bow = vectorizer.transform(X_test)"
   ]
  },
  {
   "cell_type": "code",
   "execution_count": 17,
   "metadata": {},
   "outputs": [
    {
     "data": {
      "text/plain": [
       "<116973x7669 sparse matrix of type '<class 'numpy.int64'>'\n",
       "\twith 2691225 stored elements in Compressed Sparse Row format>"
      ]
     },
     "execution_count": 17,
     "metadata": {},
     "output_type": "execute_result"
    }
   ],
   "source": [
    "X_train_bow"
   ]
  },
  {
   "cell_type": "code",
   "execution_count": null,
   "metadata": {},
   "outputs": [],
   "source": []
  },
  {
   "cell_type": "code",
   "execution_count": null,
   "metadata": {},
   "outputs": [],
   "source": []
  },
  {
   "cell_type": "code",
   "execution_count": null,
   "metadata": {},
   "outputs": [],
   "source": []
  },
  {
   "cell_type": "code",
   "execution_count": null,
   "metadata": {},
   "outputs": [],
   "source": []
  },
  {
   "cell_type": "code",
   "execution_count": null,
   "metadata": {},
   "outputs": [],
   "source": []
  },
  {
   "cell_type": "markdown",
   "metadata": {},
   "source": [
    "### Naive Bayes"
   ]
  },
  {
   "cell_type": "code",
   "execution_count": 18,
   "metadata": {},
   "outputs": [],
   "source": [
    "from sklearn.naive_bayes import MultinomialNB"
   ]
  },
  {
   "cell_type": "code",
   "execution_count": 19,
   "metadata": {},
   "outputs": [],
   "source": [
    "nb_model = MultinomialNB()\n",
    "nb_model.fit(X_train_bow, y_train)\n",
    "y_pred = nb_model.predict_proba(X_test_bow)[:, 1]"
   ]
  },
  {
   "cell_type": "code",
   "execution_count": 20,
   "metadata": {},
   "outputs": [],
   "source": [
    "from sklearn.metrics import roc_auc_score, roc_curve"
   ]
  },
  {
   "cell_type": "code",
   "execution_count": 21,
   "metadata": {},
   "outputs": [
    {
     "name": "stdout",
     "output_type": "stream",
     "text": [
      "0.8759507446374887\n"
     ]
    },
    {
     "data": {
      "image/png": "[encoded data removed]",
      "text/plain": [
       "<Figure size 432x288 with 1 Axes>"
      ]
     },
     "metadata": {
      "needs_background": "light"
     },
     "output_type": "display_data"
    }
   ],
   "source": [
    "plt.plot(*roc_curve(y_test, y_pred)[:2], label='test roc_auc, BOW model')\n",
    "\n",
    "plt.plot([0, 1], [0, 1], '--', color='black',)\n",
    "plt.grid()\n",
    "plt.legend()\n",
    "\n",
    "print(roc_auc_score(y_test, y_pred))"
   ]
  },
  {
   "cell_type": "code",
   "execution_count": 22,
   "metadata": {},
   "outputs": [],
   "source": [
    "def plot_models(names, models, X_train, X_test, y_train, y_test):\n",
    "    \"\"\"\n",
    "    gets lists of names, models, lists of train and test samples, train and test answers\n",
    "    plots ROC curves\n",
    "    \"\"\"\n",
    "    \n",
    "    for name, model, X in zip(names, models, X_train):\n",
    "        proba = model.predict_proba(X)[:, 1]\n",
    "        auc = roc_auc_score(y_train, proba)\n",
    "        plt.plot(*roc_curve(y_train, proba)[:2], label='train %s AUC=%.4f' % (name, auc))\n",
    "    \n",
    "    for name, model, X in zip(names, models, X_test):\n",
    "        proba = model.predict_proba(X)[:, 1]\n",
    "        auc = roc_auc_score(y_test, proba)\n",
    "        plt.plot(*roc_curve(y_test, proba)[:2], label='test %s AUC=%.4f' % (name, auc))\n",
    "        \n",
    "        \n",
    "    plt.plot([0, 1], [0, 1], '--', color='black',)\n",
    "    plt.legend(fontsize='large')\n",
    "    plt.grid()\n",
    "    plt.show()"
   ]
  },
  {
   "cell_type": "code",
   "execution_count": 23,
   "metadata": {},
   "outputs": [
    {
     "data": {
      "image/png": "[encoded data removed]",
      "text/plain": [
       "<Figure size 432x288 with 1 Axes>"
      ]
     },
     "metadata": {
      "needs_background": "light"
     },
     "output_type": "display_data"
    }
   ],
   "source": [
    "plot_models(['nb'], [nb_model], [X_train_bow], [X_test_bow], y_train, y_test)"
   ]
  },
  {
   "cell_type": "markdown",
   "metadata": {},
   "source": [
    "### Логистическая регрессия: сравним качество"
   ]
  },
  {
   "cell_type": "code",
   "execution_count": 24,
   "metadata": {},
   "outputs": [
    {
     "name": "stderr",
     "output_type": "stream",
     "text": [
      "/usr/local/lib/python3.6/dist-packages/sklearn/linear_model/logistic.py:433: FutureWarning: Default solver will be changed to 'lbfgs' in 0.22. Specify a solver to silence this warning.\n",
      "  FutureWarning)\n"
     ]
    }
   ],
   "source": [
    "from sklearn.linear_model import LogisticRegression\n",
    "\n",
    "logistic_model = LogisticRegression(C=100)\n",
    "logistic_model.fit(X_train_bow, y_train)\n",
    "y_pred = logistic_model.predict_proba(X_test_bow)[:, 1]"
   ]
  },
  {
   "cell_type": "code",
   "execution_count": 25,
   "metadata": {},
   "outputs": [
    {
     "data": {
      "text/plain": [
       "'constitutes'"
      ]
     },
     "execution_count": 25,
     "metadata": {},
     "output_type": "execute_result"
    }
   ],
   "source": [
    "vocabulary[np.argmax(logistic_model.coef_, )]"
   ]
  },
  {
   "cell_type": "code",
   "execution_count": 26,
   "metadata": {},
   "outputs": [],
   "source": [
    "threshold = sorted(logistic_model.coef_[0], reverse=True)[100]"
   ]
  },
  {
   "cell_type": "code",
   "execution_count": 27,
   "metadata": {},
   "outputs": [],
   "source": [
    "idx = []\n",
    "for i in range(len(logistic_model.coef_[0])):\n",
    "    if logistic_model.coef_[0][i] > threshold:\n",
    "        idx.append(i)\n",
    "idx = np.array(idx)"
   ]
  },
  {
   "cell_type": "code",
   "execution_count": 28,
   "metadata": {},
   "outputs": [
    {
     "data": {
      "text/plain": [
       "array(['addictively', 'angélus', 'annapolis', 'archery', 'ba', 'ballard',\n",
       "       'barrett', 'betz', 'bin', 'bonny', 'bradley', 'brain',\n",
       "       'breathtaking', 'brewer', 'buzz', 'casavecchia', 'chaser',\n",
       "       'combed', 'comparable', 'condrieu', 'confidently', 'conifer',\n",
       "       'consisting', 'constitutes', 'cornas', 'corralitos', 'coveted',\n",
       "       'craftsmanship', 'daou', 'december', 'deceptive', 'delectable',\n",
       "       'disappointed', 'dunham', 'eager', 'editor', 'endlessly',\n",
       "       'enviable', 'evoked', 'farrell', 'figgins', 'fluidity', 'glorious',\n",
       "       'groundwork', 'iii', 'immaturity', 'january', 'jesse', 'joey',\n",
       "       'josh', 'keeper', 'ken', 'leonetti', 'likability', 'lovable',\n",
       "       'léoville', 'majeure', 'maresh', 'masterpiece', 'mcminnville',\n",
       "       'meadow', 'merryvale', 'minuscule', 'monopole', 'myrrh', 'navarro',\n",
       "       'oh', 'pearmain', 'performing', 'prized', 'replanted',\n",
       "       'resolutely', 'resonance', 'riveting', 'rodgers', 'roederer',\n",
       "       'seduces', 'sensory', 'seriousness', 'shea', 'sichuan', 'silva',\n",
       "       'sonorous', 'stunningly', 'superfine', 'thrilling', 'tisane',\n",
       "       'trey', 'trisaetum', 'tuck', 'ultrarefined', 'uncompromising',\n",
       "       'undulating', 'unleash', 'ups', 'valencia', 'vougeot', 'wholly',\n",
       "       'wondrous', 'woodward'], dtype='<U18')"
      ]
     },
     "execution_count": 28,
     "metadata": {},
     "output_type": "execute_result"
    }
   ],
   "source": [
    "np.array(vocabulary)[idx]"
   ]
  },
  {
   "cell_type": "code",
   "execution_count": 29,
   "metadata": {},
   "outputs": [
    {
     "data": {
      "image/png": "[encoded data removed]",
      "text/plain": [
       "<Figure size 432x288 with 1 Axes>"
      ]
     },
     "metadata": {
      "needs_background": "light"
     },
     "output_type": "display_data"
    }
   ],
   "source": [
    "plot_models(['nb', 'logistic regression'], [nb_model, logistic_model], \n",
    "            [X_train_bow] * 2, [X_test_bow] * 2, \n",
    "            y_train, y_test)"
   ]
  },
  {
   "cell_type": "code",
   "execution_count": null,
   "metadata": {},
   "outputs": [],
   "source": []
  },
  {
   "cell_type": "code",
   "execution_count": null,
   "metadata": {},
   "outputs": [],
   "source": []
  },
  {
   "cell_type": "code",
   "execution_count": null,
   "metadata": {},
   "outputs": [],
   "source": []
  },
  {
   "cell_type": "code",
   "execution_count": null,
   "metadata": {},
   "outputs": [],
   "source": []
  },
  {
   "cell_type": "code",
   "execution_count": null,
   "metadata": {},
   "outputs": [],
   "source": []
  },
  {
   "cell_type": "code",
   "execution_count": null,
   "metadata": {},
   "outputs": [],
   "source": []
  },
  {
   "cell_type": "code",
   "execution_count": null,
   "metadata": {},
   "outputs": [],
   "source": []
  },
  {
   "cell_type": "code",
   "execution_count": null,
   "metadata": {},
   "outputs": [],
   "source": []
  },
  {
   "cell_type": "markdown",
   "metadata": {},
   "source": [
    "### Добавление tf-idf фичей"
   ]
  },
  {
   "cell_type": "code",
   "execution_count": 30,
   "metadata": {},
   "outputs": [],
   "source": [
    "from sklearn.feature_extraction.text import TfidfVectorizer"
   ]
  },
  {
   "cell_type": "code",
   "execution_count": 31,
   "metadata": {},
   "outputs": [
    {
     "name": "stdout",
     "output_type": "stream",
     "text": [
      "Размер словаря: 7669\n"
     ]
    }
   ],
   "source": [
    "tf_idf_vectorizer = TfidfVectorizer(stop_words=stop_words, min_df=10).fit(X)\n",
    "vocabulary = tf_idf_vectorizer.get_feature_names()\n",
    "print('Размер словаря: %d'%len(vocabulary))\n",
    "\n",
    "X_train_tf_idf = tf_idf_vectorizer.transform(X_train)\n",
    "X_test_tf_idf = tf_idf_vectorizer.transform(X_test)"
   ]
  },
  {
   "cell_type": "code",
   "execution_count": 32,
   "metadata": {},
   "outputs": [
    {
     "name": "stderr",
     "output_type": "stream",
     "text": [
      "/usr/local/lib/python3.6/dist-packages/sklearn/linear_model/logistic.py:433: FutureWarning: Default solver will be changed to 'lbfgs' in 0.22. Specify a solver to silence this warning.\n",
      "  FutureWarning)\n"
     ]
    },
    {
     "data": {
      "text/plain": [
       "LogisticRegression(C=100, class_weight=None, dual=False, fit_intercept=True,\n",
       "          intercept_scaling=1, max_iter=100, multi_class='warn',\n",
       "          n_jobs=None, penalty='l2', random_state=None, solver='warn',\n",
       "          tol=0.0001, verbose=0, warm_start=False)"
      ]
     },
     "execution_count": 32,
     "metadata": {},
     "output_type": "execute_result"
    }
   ],
   "source": [
    "tf_idf_logistic_model = LogisticRegression(C=100)\n",
    "\n",
    "tf_idf_logistic_model.fit(X_train_tf_idf, y_train)"
   ]
  },
  {
   "cell_type": "code",
   "execution_count": 33,
   "metadata": {},
   "outputs": [
    {
     "data": {
      "image/png": "[encoded data removed]",
      "text/plain": [
       "<Figure size 432x288 with 1 Axes>"
      ]
     },
     "metadata": {
      "needs_background": "light"
     },
     "output_type": "display_data"
    }
   ],
   "source": [
    "plot_models(['bow', 'tf-idf'], [logistic_model, tf_idf_logistic_model], \n",
    "            [X_train_bow, X_train_tf_idf], [X_test_bow, X_test_tf_idf] * 2, \n",
    "            y_train, y_test)"
   ]
  },
  {
   "cell_type": "markdown",
   "metadata": {},
   "source": [
    "### Кодирование предложений эмбеддингами слов"
   ]
  },
  {
   "cell_type": "code",
   "execution_count": 34,
   "metadata": {},
   "outputs": [],
   "source": [
    "import gensim.downloader \n",
    "embeddings = gensim.downloader.load(\"glove-wiki-gigaword-100\")"
   ]
  },
  {
   "cell_type": "code",
   "execution_count": 61,
   "metadata": {},
   "outputs": [],
   "source": [
    "def vectorize_sum(comment):\n",
    "    \"\"\"\n",
    "    implement a function that converts preprocessed comment to a sum of token vectors\n",
    "    \"\"\"\n",
    "    embedding_dim = embeddings.wv.vectors.shape[1]\n",
    "    \n",
    "    comment_vectors = np.stack([embeddings.wv.word_vec(word) if word in embeddings.wv.vocab \n",
    "                                else np.zeros(embeddings.wv.vectors.shape[1])\n",
    "                       for word in comment.split()])\n",
    "    \n",
    "    features = np.hstack([np.mean(comment_vectors, axis=0),\n",
    "                          np.max(comment_vectors, axis=0),\n",
    "                          np.min(comment_vectors, axis=0),\n",
    "                          np.std(comment_vectors, axis=0),\n",
    "                          np.median(comment_vectors, axis=0)])\n",
    "    return features"
   ]
  },
  {
   "cell_type": "code",
   "execution_count": 62,
   "metadata": {},
   "outputs": [
    {
     "data": {
      "application/vnd.jupyter.widget-view+json": {
       "model_id": "8a4f602b433c42368f113bdde41e831e",
       "version_major": 2,
       "version_minor": 0
      },
      "text/plain": [
       "HBox(children=(IntProgress(value=0, max=116973), HTML(value='')))"
      ]
     },
     "metadata": {},
     "output_type": "display_data"
    },
    {
     "name": "stderr",
     "output_type": "stream",
     "text": [
      "/usr/local/lib/python3.6/dist-packages/ipykernel_launcher.py:5: DeprecationWarning: Call to deprecated `wv` (Attribute will be removed in 4.0.0, use self instead).\n",
      "  \"\"\"\n",
      "/usr/local/lib/python3.6/dist-packages/ipykernel_launcher.py:9: DeprecationWarning: Call to deprecated `wv` (Attribute will be removed in 4.0.0, use self instead).\n",
      "  if __name__ == '__main__':\n"
     ]
    },
    {
     "data": {
      "application/vnd.jupyter.widget-view+json": {
       "model_id": "7ae6636682dd4fcbb4758f572d6bdbe3",
       "version_major": 2,
       "version_minor": 0
      },
      "text/plain": [
       "HBox(children=(IntProgress(value=0, max=12998), HTML(value='')))"
      ]
     },
     "metadata": {},
     "output_type": "display_data"
    }
   ],
   "source": [
    "X_train_wv = [vectorize_sum(x) for x in tqdm_notebook(X_train)]\n",
    "X_test_wv = [vectorize_sum(x) for x in tqdm_notebook(X_test)]"
   ]
  },
  {
   "cell_type": "code",
   "execution_count": 63,
   "metadata": {},
   "outputs": [
    {
     "name": "stderr",
     "output_type": "stream",
     "text": [
      "/usr/local/lib/python3.6/dist-packages/sklearn/linear_model/logistic.py:433: FutureWarning: Default solver will be changed to 'lbfgs' in 0.22. Specify a solver to silence this warning.\n",
      "  FutureWarning)\n"
     ]
    }
   ],
   "source": [
    "wv_model = LogisticRegression().fit(X_train_wv, y_train)"
   ]
  },
  {
   "cell_type": "code",
   "execution_count": 64,
   "metadata": {},
   "outputs": [
    {
     "data": {
      "image/png": "[encoded data removed]",
      "text/plain": [
       "<Figure size 432x288 with 1 Axes>"
      ]
     },
     "metadata": {
      "needs_background": "light"
     },
     "output_type": "display_data"
    }
   ],
   "source": [
    "plot_models(['bow', 'vw'], [logistic_model, wv_model], \n",
    "            [X_train_bow, X_train_wv], [X_test_bow, X_test_wv], \n",
    "            y_train, y_test)"
   ]
  },
  {
   "cell_type": "code",
   "execution_count": null,
   "metadata": {},
   "outputs": [],
   "source": []
  },
  {
   "cell_type": "code",
   "execution_count": null,
   "metadata": {},
   "outputs": [],
   "source": []
  },
  {
   "cell_type": "code",
   "execution_count": 56,
   "metadata": {},
   "outputs": [],
   "source": [
    "from catboost import CatBoostClassifier"
   ]
  },
  {
   "cell_type": "code",
   "execution_count": 72,
   "metadata": {},
   "outputs": [
    {
     "name": "stdout",
     "output_type": "stream",
     "text": [
      "0:\ttest: 0.7410239\tbest: 0.7410239 (0)\ttotal: 383ms\tremaining: 6m 22s\n",
      "1:\ttest: 0.7815869\tbest: 0.7815869 (1)\ttotal: 736ms\tremaining: 6m 7s\n",
      "2:\ttest: 0.7977665\tbest: 0.7977665 (2)\ttotal: 1.06s\tremaining: 5m 52s\n",
      "3:\ttest: 0.8102819\tbest: 0.8102819 (3)\ttotal: 1.36s\tremaining: 5m 38s\n",
      "4:\ttest: 0.8164420\tbest: 0.8164420 (4)\ttotal: 1.68s\tremaining: 5m 33s\n",
      "5:\ttest: 0.8225298\tbest: 0.8225298 (5)\ttotal: 1.98s\tremaining: 5m 27s\n",
      "6:\ttest: 0.8273716\tbest: 0.8273716 (6)\ttotal: 2.31s\tremaining: 5m 27s\n",
      "7:\ttest: 0.8305341\tbest: 0.8305341 (7)\ttotal: 2.61s\tremaining: 5m 23s\n",
      "8:\ttest: 0.8332403\tbest: 0.8332403 (8)\ttotal: 2.92s\tremaining: 5m 21s\n",
      "9:\ttest: 0.8375841\tbest: 0.8375841 (9)\ttotal: 3.22s\tremaining: 5m 18s\n",
      "10:\ttest: 0.8410157\tbest: 0.8410157 (10)\ttotal: 3.52s\tremaining: 5m 16s\n",
      "11:\ttest: 0.8437425\tbest: 0.8437425 (11)\ttotal: 3.81s\tremaining: 5m 13s\n",
      "12:\ttest: 0.8462551\tbest: 0.8462551 (12)\ttotal: 4.11s\tremaining: 5m 12s\n",
      "13:\ttest: 0.8477575\tbest: 0.8477575 (13)\ttotal: 4.41s\tremaining: 5m 10s\n",
      "14:\ttest: 0.8499462\tbest: 0.8499462 (14)\ttotal: 4.7s\tremaining: 5m 8s\n",
      "15:\ttest: 0.8513318\tbest: 0.8513318 (15)\ttotal: 5s\tremaining: 5m 7s\n",
      "16:\ttest: 0.8527732\tbest: 0.8527732 (16)\ttotal: 5.29s\tremaining: 5m 5s\n",
      "17:\ttest: 0.8537885\tbest: 0.8537885 (17)\ttotal: 5.59s\tremaining: 5m 5s\n",
      "18:\ttest: 0.8550188\tbest: 0.8550188 (18)\ttotal: 5.98s\tremaining: 5m 8s\n",
      "19:\ttest: 0.8558532\tbest: 0.8558532 (19)\ttotal: 6.27s\tremaining: 5m 7s\n",
      "20:\ttest: 0.8561873\tbest: 0.8561873 (20)\ttotal: 6.58s\tremaining: 5m 6s\n",
      "21:\ttest: 0.8569668\tbest: 0.8569668 (21)\ttotal: 6.87s\tremaining: 5m 5s\n",
      "22:\ttest: 0.8584257\tbest: 0.8584257 (22)\ttotal: 7.15s\tremaining: 5m 3s\n",
      "23:\ttest: 0.8591399\tbest: 0.8591399 (23)\ttotal: 7.48s\tremaining: 5m 4s\n",
      "24:\ttest: 0.8597920\tbest: 0.8597920 (24)\ttotal: 7.82s\tremaining: 5m 4s\n",
      "25:\ttest: 0.8602163\tbest: 0.8602163 (25)\ttotal: 8.14s\tremaining: 5m 4s\n",
      "26:\ttest: 0.8609611\tbest: 0.8609611 (26)\ttotal: 8.45s\tremaining: 5m 4s\n",
      "27:\ttest: 0.8621730\tbest: 0.8621730 (27)\ttotal: 8.73s\tremaining: 5m 3s\n",
      "28:\ttest: 0.8631383\tbest: 0.8631383 (28)\ttotal: 9.02s\tremaining: 5m 1s\n",
      "29:\ttest: 0.8638141\tbest: 0.8638141 (29)\ttotal: 9.31s\tremaining: 5m 1s\n",
      "30:\ttest: 0.8644506\tbest: 0.8644506 (30)\ttotal: 9.62s\tremaining: 5m\n",
      "31:\ttest: 0.8648610\tbest: 0.8648610 (31)\ttotal: 9.93s\tremaining: 5m\n",
      "32:\ttest: 0.8652955\tbest: 0.8652955 (32)\ttotal: 10.2s\tremaining: 4m 59s\n",
      "33:\ttest: 0.8663168\tbest: 0.8663168 (33)\ttotal: 10.5s\tremaining: 4m 59s\n",
      "34:\ttest: 0.8661787\tbest: 0.8663168 (33)\ttotal: 10.8s\tremaining: 4m 59s\n",
      "35:\ttest: 0.8661245\tbest: 0.8663168 (33)\ttotal: 11.1s\tremaining: 4m 57s\n",
      "36:\ttest: 0.8666216\tbest: 0.8666216 (36)\ttotal: 11.4s\tremaining: 4m 56s\n",
      "37:\ttest: 0.8669017\tbest: 0.8669017 (37)\ttotal: 11.7s\tremaining: 4m 56s\n",
      "38:\ttest: 0.8673176\tbest: 0.8673176 (38)\ttotal: 12s\tremaining: 4m 55s\n",
      "39:\ttest: 0.8674847\tbest: 0.8674847 (39)\ttotal: 12.3s\tremaining: 4m 55s\n",
      "40:\ttest: 0.8680358\tbest: 0.8680358 (40)\ttotal: 12.6s\tremaining: 4m 54s\n",
      "41:\ttest: 0.8682631\tbest: 0.8682631 (41)\ttotal: 12.9s\tremaining: 4m 54s\n",
      "42:\ttest: 0.8689776\tbest: 0.8689776 (42)\ttotal: 13.2s\tremaining: 4m 54s\n",
      "43:\ttest: 0.8692347\tbest: 0.8692347 (43)\ttotal: 13.5s\tremaining: 4m 53s\n",
      "44:\ttest: 0.8696869\tbest: 0.8696869 (44)\ttotal: 13.8s\tremaining: 4m 53s\n",
      "45:\ttest: 0.8696782\tbest: 0.8696869 (44)\ttotal: 14.1s\tremaining: 4m 52s\n",
      "46:\ttest: 0.8701259\tbest: 0.8701259 (46)\ttotal: 14.4s\tremaining: 4m 52s\n",
      "47:\ttest: 0.8706645\tbest: 0.8706645 (47)\ttotal: 14.7s\tremaining: 4m 51s\n",
      "48:\ttest: 0.8706486\tbest: 0.8706645 (47)\ttotal: 15s\tremaining: 4m 51s\n",
      "49:\ttest: 0.8707778\tbest: 0.8707778 (49)\ttotal: 15.3s\tremaining: 4m 50s\n",
      "50:\ttest: 0.8716046\tbest: 0.8716046 (50)\ttotal: 15.6s\tremaining: 4m 50s\n",
      "51:\ttest: 0.8720171\tbest: 0.8720171 (51)\ttotal: 16s\tremaining: 4m 51s\n",
      "52:\ttest: 0.8725244\tbest: 0.8725244 (52)\ttotal: 16.3s\tremaining: 4m 51s\n",
      "53:\ttest: 0.8728361\tbest: 0.8728361 (53)\ttotal: 16.6s\tremaining: 4m 50s\n",
      "54:\ttest: 0.8731877\tbest: 0.8731877 (54)\ttotal: 16.9s\tremaining: 4m 50s\n",
      "55:\ttest: 0.8732803\tbest: 0.8732803 (55)\ttotal: 17.2s\tremaining: 4m 49s\n",
      "56:\ttest: 0.8732795\tbest: 0.8732803 (55)\ttotal: 17.5s\tremaining: 4m 49s\n",
      "57:\ttest: 0.8735028\tbest: 0.8735028 (57)\ttotal: 17.8s\tremaining: 4m 49s\n",
      "58:\ttest: 0.8735234\tbest: 0.8735234 (58)\ttotal: 18.1s\tremaining: 4m 48s\n",
      "59:\ttest: 0.8739917\tbest: 0.8739917 (59)\ttotal: 18.4s\tremaining: 4m 48s\n",
      "60:\ttest: 0.8737274\tbest: 0.8739917 (59)\ttotal: 18.7s\tremaining: 4m 48s\n",
      "61:\ttest: 0.8736007\tbest: 0.8739917 (59)\ttotal: 19s\tremaining: 4m 47s\n",
      "62:\ttest: 0.8745647\tbest: 0.8745647 (62)\ttotal: 19.3s\tremaining: 4m 46s\n",
      "63:\ttest: 0.8745479\tbest: 0.8745647 (62)\ttotal: 19.6s\tremaining: 4m 46s\n",
      "64:\ttest: 0.8749403\tbest: 0.8749403 (64)\ttotal: 19.9s\tremaining: 4m 45s\n",
      "65:\ttest: 0.8751169\tbest: 0.8751169 (65)\ttotal: 20.2s\tremaining: 4m 45s\n",
      "66:\ttest: 0.8751979\tbest: 0.8751979 (66)\ttotal: 20.5s\tremaining: 4m 45s\n",
      "67:\ttest: 0.8753443\tbest: 0.8753443 (67)\ttotal: 20.8s\tremaining: 4m 44s\n",
      "68:\ttest: 0.8759450\tbest: 0.8759450 (68)\ttotal: 21.1s\tremaining: 4m 44s\n",
      "69:\ttest: 0.8761713\tbest: 0.8761713 (69)\ttotal: 21.4s\tremaining: 4m 44s\n",
      "70:\ttest: 0.8763001\tbest: 0.8763001 (70)\ttotal: 21.7s\tremaining: 4m 43s\n",
      "71:\ttest: 0.8761358\tbest: 0.8763001 (70)\ttotal: 22s\tremaining: 4m 43s\n",
      "72:\ttest: 0.8763141\tbest: 0.8763141 (72)\ttotal: 22.3s\tremaining: 4m 42s\n",
      "73:\ttest: 0.8764599\tbest: 0.8764599 (73)\ttotal: 22.6s\tremaining: 4m 42s\n",
      "74:\ttest: 0.8768330\tbest: 0.8768330 (74)\ttotal: 22.9s\tremaining: 4m 42s\n",
      "75:\ttest: 0.8770061\tbest: 0.8770061 (75)\ttotal: 23.2s\tremaining: 4m 42s\n",
      "76:\ttest: 0.8770981\tbest: 0.8770981 (76)\ttotal: 23.5s\tremaining: 4m 41s\n",
      "77:\ttest: 0.8779848\tbest: 0.8779848 (77)\ttotal: 23.8s\tremaining: 4m 41s\n",
      "78:\ttest: 0.8781700\tbest: 0.8781700 (78)\ttotal: 24.1s\tremaining: 4m 41s\n",
      "79:\ttest: 0.8785322\tbest: 0.8785322 (79)\ttotal: 24.4s\tremaining: 4m 41s\n",
      "80:\ttest: 0.8784367\tbest: 0.8785322 (79)\ttotal: 24.7s\tremaining: 4m 40s\n",
      "81:\ttest: 0.8785593\tbest: 0.8785593 (81)\ttotal: 25s\tremaining: 4m 39s\n",
      "82:\ttest: 0.8786380\tbest: 0.8786380 (82)\ttotal: 25.3s\tremaining: 4m 39s\n",
      "83:\ttest: 0.8787733\tbest: 0.8787733 (83)\ttotal: 25.6s\tremaining: 4m 39s\n",
      "84:\ttest: 0.8788938\tbest: 0.8788938 (84)\ttotal: 25.9s\tremaining: 4m 39s\n",
      "85:\ttest: 0.8791885\tbest: 0.8791885 (85)\ttotal: 26.2s\tremaining: 4m 38s\n",
      "86:\ttest: 0.8791411\tbest: 0.8791885 (85)\ttotal: 26.6s\tremaining: 4m 38s\n",
      "87:\ttest: 0.8793841\tbest: 0.8793841 (87)\ttotal: 26.9s\tremaining: 4m 38s\n",
      "88:\ttest: 0.8794541\tbest: 0.8794541 (88)\ttotal: 27.2s\tremaining: 4m 38s\n",
      "89:\ttest: 0.8796179\tbest: 0.8796179 (89)\ttotal: 27.7s\tremaining: 4m 40s\n",
      "90:\ttest: 0.8801511\tbest: 0.8801511 (90)\ttotal: 28.3s\tremaining: 4m 43s\n",
      "91:\ttest: 0.8803928\tbest: 0.8803928 (91)\ttotal: 28.8s\tremaining: 4m 44s\n",
      "92:\ttest: 0.8804294\tbest: 0.8804294 (92)\ttotal: 29.4s\tremaining: 4m 46s\n",
      "93:\ttest: 0.8806379\tbest: 0.8806379 (93)\ttotal: 29.8s\tremaining: 4m 47s\n",
      "94:\ttest: 0.8808231\tbest: 0.8808231 (94)\ttotal: 30.2s\tremaining: 4m 47s\n",
      "95:\ttest: 0.8809129\tbest: 0.8809129 (95)\ttotal: 30.5s\tremaining: 4m 46s\n",
      "96:\ttest: 0.8810826\tbest: 0.8810826 (96)\ttotal: 30.8s\tremaining: 4m 46s\n",
      "97:\ttest: 0.8810465\tbest: 0.8810826 (96)\ttotal: 31.1s\tremaining: 4m 45s\n",
      "98:\ttest: 0.8811107\tbest: 0.8811107 (98)\ttotal: 31.5s\tremaining: 4m 46s\n",
      "99:\ttest: 0.8810866\tbest: 0.8811107 (98)\ttotal: 31.8s\tremaining: 4m 45s\n",
      "100:\ttest: 0.8812266\tbest: 0.8812266 (100)\ttotal: 32.1s\tremaining: 4m 45s\n",
      "101:\ttest: 0.8813810\tbest: 0.8813810 (101)\ttotal: 32.4s\tremaining: 4m 45s\n",
      "102:\ttest: 0.8813833\tbest: 0.8813833 (102)\ttotal: 32.7s\tremaining: 4m 44s\n",
      "103:\ttest: 0.8814633\tbest: 0.8814633 (103)\ttotal: 33.2s\tremaining: 4m 45s\n",
      "104:\ttest: 0.8815465\tbest: 0.8815465 (104)\ttotal: 33.5s\tremaining: 4m 45s\n",
      "105:\ttest: 0.8815598\tbest: 0.8815598 (105)\ttotal: 33.8s\tremaining: 4m 44s\n",
      "106:\ttest: 0.8814548\tbest: 0.8815598 (105)\ttotal: 34.1s\tremaining: 4m 44s\n",
      "107:\ttest: 0.8815962\tbest: 0.8815962 (107)\ttotal: 34.5s\tremaining: 4m 44s\n",
      "108:\ttest: 0.8816401\tbest: 0.8816401 (108)\ttotal: 34.9s\tremaining: 4m 45s\n",
      "109:\ttest: 0.8819603\tbest: 0.8819603 (109)\ttotal: 35.3s\tremaining: 4m 45s\n",
      "110:\ttest: 0.8822639\tbest: 0.8822639 (110)\ttotal: 35.6s\tremaining: 4m 45s\n",
      "111:\ttest: 0.8821185\tbest: 0.8822639 (110)\ttotal: 35.9s\tremaining: 4m 44s\n",
      "112:\ttest: 0.8822015\tbest: 0.8822639 (110)\ttotal: 36.2s\tremaining: 4m 44s\n",
      "113:\ttest: 0.8823612\tbest: 0.8823612 (113)\ttotal: 36.5s\tremaining: 4m 43s\n",
      "114:\ttest: 0.8824635\tbest: 0.8824635 (114)\ttotal: 36.9s\tremaining: 4m 43s\n"
     ]
    },
    {
     "name": "stdout",
     "output_type": "stream",
     "text": [
      "115:\ttest: 0.8826151\tbest: 0.8826151 (115)\ttotal: 37.2s\tremaining: 4m 43s\n",
      "116:\ttest: 0.8826671\tbest: 0.8826671 (116)\ttotal: 37.5s\tremaining: 4m 42s\n",
      "117:\ttest: 0.8826992\tbest: 0.8826992 (117)\ttotal: 37.8s\tremaining: 4m 42s\n",
      "118:\ttest: 0.8826597\tbest: 0.8826992 (117)\ttotal: 38.1s\tremaining: 4m 42s\n",
      "119:\ttest: 0.8826658\tbest: 0.8826992 (117)\ttotal: 38.4s\tremaining: 4m 41s\n",
      "120:\ttest: 0.8825980\tbest: 0.8826992 (117)\ttotal: 38.7s\tremaining: 4m 41s\n",
      "121:\ttest: 0.8826542\tbest: 0.8826992 (117)\ttotal: 39s\tremaining: 4m 40s\n",
      "122:\ttest: 0.8824857\tbest: 0.8826992 (117)\ttotal: 39.3s\tremaining: 4m 40s\n",
      "123:\ttest: 0.8824617\tbest: 0.8826992 (117)\ttotal: 39.6s\tremaining: 4m 39s\n",
      "124:\ttest: 0.8824522\tbest: 0.8826992 (117)\ttotal: 39.9s\tremaining: 4m 39s\n",
      "125:\ttest: 0.8824866\tbest: 0.8826992 (117)\ttotal: 40.2s\tremaining: 4m 38s\n",
      "126:\ttest: 0.8827387\tbest: 0.8827387 (126)\ttotal: 40.4s\tremaining: 4m 37s\n",
      "127:\ttest: 0.8828928\tbest: 0.8828928 (127)\ttotal: 40.7s\tremaining: 4m 37s\n",
      "128:\ttest: 0.8832454\tbest: 0.8832454 (128)\ttotal: 41.1s\tremaining: 4m 37s\n",
      "129:\ttest: 0.8833763\tbest: 0.8833763 (129)\ttotal: 41.4s\tremaining: 4m 37s\n",
      "130:\ttest: 0.8831184\tbest: 0.8833763 (129)\ttotal: 41.7s\tremaining: 4m 36s\n",
      "131:\ttest: 0.8832827\tbest: 0.8833763 (129)\ttotal: 42s\tremaining: 4m 36s\n",
      "132:\ttest: 0.8835452\tbest: 0.8835452 (132)\ttotal: 42.3s\tremaining: 4m 35s\n",
      "133:\ttest: 0.8836260\tbest: 0.8836260 (133)\ttotal: 42.6s\tremaining: 4m 35s\n",
      "134:\ttest: 0.8837628\tbest: 0.8837628 (134)\ttotal: 42.9s\tremaining: 4m 35s\n",
      "135:\ttest: 0.8838639\tbest: 0.8838639 (135)\ttotal: 43.3s\tremaining: 4m 34s\n",
      "136:\ttest: 0.8838517\tbest: 0.8838639 (135)\ttotal: 43.6s\tremaining: 4m 34s\n",
      "137:\ttest: 0.8838389\tbest: 0.8838639 (135)\ttotal: 43.9s\tremaining: 4m 34s\n",
      "138:\ttest: 0.8838148\tbest: 0.8838639 (135)\ttotal: 44.3s\tremaining: 4m 34s\n",
      "139:\ttest: 0.8838560\tbest: 0.8838639 (135)\ttotal: 44.6s\tremaining: 4m 33s\n",
      "140:\ttest: 0.8841857\tbest: 0.8841857 (140)\ttotal: 44.9s\tremaining: 4m 33s\n",
      "141:\ttest: 0.8842466\tbest: 0.8842466 (141)\ttotal: 45.2s\tremaining: 4m 32s\n",
      "142:\ttest: 0.8844544\tbest: 0.8844544 (142)\ttotal: 45.4s\tremaining: 4m 32s\n",
      "143:\ttest: 0.8844701\tbest: 0.8844701 (143)\ttotal: 45.7s\tremaining: 4m 31s\n",
      "144:\ttest: 0.8845144\tbest: 0.8845144 (144)\ttotal: 46s\tremaining: 4m 31s\n",
      "145:\ttest: 0.8846619\tbest: 0.8846619 (145)\ttotal: 46.3s\tremaining: 4m 31s\n",
      "146:\ttest: 0.8846366\tbest: 0.8846619 (145)\ttotal: 46.7s\tremaining: 4m 30s\n",
      "147:\ttest: 0.8845863\tbest: 0.8846619 (145)\ttotal: 47.1s\tremaining: 4m 30s\n",
      "148:\ttest: 0.8847691\tbest: 0.8847691 (148)\ttotal: 47.4s\tremaining: 4m 30s\n",
      "149:\ttest: 0.8848132\tbest: 0.8848132 (149)\ttotal: 47.7s\tremaining: 4m 30s\n",
      "150:\ttest: 0.8848143\tbest: 0.8848143 (150)\ttotal: 47.9s\tremaining: 4m 29s\n",
      "151:\ttest: 0.8849627\tbest: 0.8849627 (151)\ttotal: 48.2s\tremaining: 4m 29s\n",
      "152:\ttest: 0.8851147\tbest: 0.8851147 (152)\ttotal: 48.5s\tremaining: 4m 28s\n",
      "153:\ttest: 0.8852670\tbest: 0.8852670 (153)\ttotal: 48.8s\tremaining: 4m 28s\n",
      "154:\ttest: 0.8854069\tbest: 0.8854069 (154)\ttotal: 49.2s\tremaining: 4m 27s\n",
      "155:\ttest: 0.8854597\tbest: 0.8854597 (155)\ttotal: 49.5s\tremaining: 4m 27s\n",
      "156:\ttest: 0.8853621\tbest: 0.8854597 (155)\ttotal: 49.8s\tremaining: 4m 27s\n",
      "157:\ttest: 0.8854187\tbest: 0.8854597 (155)\ttotal: 50.1s\tremaining: 4m 26s\n",
      "158:\ttest: 0.8856187\tbest: 0.8856187 (158)\ttotal: 50.4s\tremaining: 4m 26s\n",
      "159:\ttest: 0.8855921\tbest: 0.8856187 (158)\ttotal: 50.7s\tremaining: 4m 26s\n",
      "160:\ttest: 0.8856577\tbest: 0.8856577 (160)\ttotal: 51s\tremaining: 4m 25s\n",
      "161:\ttest: 0.8855440\tbest: 0.8856577 (160)\ttotal: 51.3s\tremaining: 4m 25s\n",
      "162:\ttest: 0.8856819\tbest: 0.8856819 (162)\ttotal: 51.6s\tremaining: 4m 24s\n",
      "163:\ttest: 0.8857340\tbest: 0.8857340 (163)\ttotal: 51.9s\tremaining: 4m 24s\n",
      "164:\ttest: 0.8857295\tbest: 0.8857340 (163)\ttotal: 52.2s\tremaining: 4m 24s\n",
      "165:\ttest: 0.8858127\tbest: 0.8858127 (165)\ttotal: 52.5s\tremaining: 4m 23s\n",
      "166:\ttest: 0.8855981\tbest: 0.8858127 (165)\ttotal: 52.8s\tremaining: 4m 23s\n",
      "167:\ttest: 0.8856525\tbest: 0.8858127 (165)\ttotal: 53.1s\tremaining: 4m 23s\n",
      "168:\ttest: 0.8856808\tbest: 0.8858127 (165)\ttotal: 53.4s\tremaining: 4m 22s\n",
      "169:\ttest: 0.8857087\tbest: 0.8858127 (165)\ttotal: 53.7s\tremaining: 4m 22s\n",
      "170:\ttest: 0.8857644\tbest: 0.8858127 (165)\ttotal: 54s\tremaining: 4m 21s\n",
      "171:\ttest: 0.8860017\tbest: 0.8860017 (171)\ttotal: 54.3s\tremaining: 4m 21s\n",
      "172:\ttest: 0.8859088\tbest: 0.8860017 (171)\ttotal: 54.6s\tremaining: 4m 21s\n",
      "173:\ttest: 0.8860336\tbest: 0.8860336 (173)\ttotal: 54.9s\tremaining: 4m 20s\n",
      "174:\ttest: 0.8860344\tbest: 0.8860344 (174)\ttotal: 55.3s\tremaining: 4m 20s\n",
      "175:\ttest: 0.8860180\tbest: 0.8860344 (174)\ttotal: 55.7s\tremaining: 4m 20s\n",
      "176:\ttest: 0.8861861\tbest: 0.8861861 (176)\ttotal: 56.2s\tremaining: 4m 21s\n",
      "177:\ttest: 0.8862281\tbest: 0.8862281 (177)\ttotal: 56.5s\tremaining: 4m 21s\n",
      "178:\ttest: 0.8861875\tbest: 0.8862281 (177)\ttotal: 56.9s\tremaining: 4m 20s\n",
      "179:\ttest: 0.8860834\tbest: 0.8862281 (177)\ttotal: 57.2s\tremaining: 4m 20s\n",
      "180:\ttest: 0.8861085\tbest: 0.8862281 (177)\ttotal: 57.5s\tremaining: 4m 19s\n",
      "181:\ttest: 0.8861639\tbest: 0.8862281 (177)\ttotal: 57.8s\tremaining: 4m 19s\n",
      "182:\ttest: 0.8861356\tbest: 0.8862281 (177)\ttotal: 58.1s\tremaining: 4m 19s\n",
      "183:\ttest: 0.8860663\tbest: 0.8862281 (177)\ttotal: 58.4s\tremaining: 4m 19s\n",
      "184:\ttest: 0.8860518\tbest: 0.8862281 (177)\ttotal: 58.7s\tremaining: 4m 18s\n",
      "185:\ttest: 0.8863203\tbest: 0.8863203 (185)\ttotal: 59s\tremaining: 4m 18s\n",
      "186:\ttest: 0.8862276\tbest: 0.8863203 (185)\ttotal: 59.4s\tremaining: 4m 18s\n",
      "187:\ttest: 0.8863333\tbest: 0.8863333 (187)\ttotal: 59.6s\tremaining: 4m 17s\n",
      "188:\ttest: 0.8862903\tbest: 0.8863333 (187)\ttotal: 59.9s\tremaining: 4m 17s\n",
      "189:\ttest: 0.8864269\tbest: 0.8864269 (189)\ttotal: 1m\tremaining: 4m 16s\n",
      "190:\ttest: 0.8864012\tbest: 0.8864269 (189)\ttotal: 1m\tremaining: 4m 16s\n",
      "191:\ttest: 0.8865877\tbest: 0.8865877 (191)\ttotal: 1m\tremaining: 4m 15s\n",
      "192:\ttest: 0.8865334\tbest: 0.8865877 (191)\ttotal: 1m 1s\tremaining: 4m 15s\n",
      "193:\ttest: 0.8866774\tbest: 0.8866774 (193)\ttotal: 1m 1s\tremaining: 4m 15s\n",
      "194:\ttest: 0.8867308\tbest: 0.8867308 (194)\ttotal: 1m 1s\tremaining: 4m 15s\n",
      "195:\ttest: 0.8868677\tbest: 0.8868677 (195)\ttotal: 1m 2s\tremaining: 4m 14s\n",
      "196:\ttest: 0.8872191\tbest: 0.8872191 (196)\ttotal: 1m 2s\tremaining: 4m 14s\n",
      "197:\ttest: 0.8873450\tbest: 0.8873450 (197)\ttotal: 1m 2s\tremaining: 4m 13s\n",
      "198:\ttest: 0.8873506\tbest: 0.8873506 (198)\ttotal: 1m 2s\tremaining: 4m 13s\n",
      "199:\ttest: 0.8872968\tbest: 0.8873506 (198)\ttotal: 1m 3s\tremaining: 4m 12s\n",
      "200:\ttest: 0.8872923\tbest: 0.8873506 (198)\ttotal: 1m 3s\tremaining: 4m 12s\n",
      "201:\ttest: 0.8873607\tbest: 0.8873607 (201)\ttotal: 1m 3s\tremaining: 4m 12s\n",
      "202:\ttest: 0.8874430\tbest: 0.8874430 (202)\ttotal: 1m 4s\tremaining: 4m 11s\n",
      "203:\ttest: 0.8873400\tbest: 0.8874430 (202)\ttotal: 1m 4s\tremaining: 4m 11s\n",
      "204:\ttest: 0.8872427\tbest: 0.8874430 (202)\ttotal: 1m 4s\tremaining: 4m 10s\n",
      "205:\ttest: 0.8872278\tbest: 0.8874430 (202)\ttotal: 1m 5s\tremaining: 4m 10s\n",
      "206:\ttest: 0.8873963\tbest: 0.8874430 (202)\ttotal: 1m 5s\tremaining: 4m 10s\n",
      "207:\ttest: 0.8874766\tbest: 0.8874766 (207)\ttotal: 1m 5s\tremaining: 4m 9s\n",
      "208:\ttest: 0.8876126\tbest: 0.8876126 (208)\ttotal: 1m 5s\tremaining: 4m 9s\n",
      "209:\ttest: 0.8877620\tbest: 0.8877620 (209)\ttotal: 1m 6s\tremaining: 4m 8s\n",
      "210:\ttest: 0.8876293\tbest: 0.8877620 (209)\ttotal: 1m 6s\tremaining: 4m 8s\n",
      "211:\ttest: 0.8875353\tbest: 0.8877620 (209)\ttotal: 1m 6s\tremaining: 4m 8s\n",
      "212:\ttest: 0.8874610\tbest: 0.8877620 (209)\ttotal: 1m 7s\tremaining: 4m 8s\n",
      "213:\ttest: 0.8874345\tbest: 0.8877620 (209)\ttotal: 1m 7s\tremaining: 4m 7s\n",
      "214:\ttest: 0.8874967\tbest: 0.8877620 (209)\ttotal: 1m 7s\tremaining: 4m 7s\n",
      "215:\ttest: 0.8873869\tbest: 0.8877620 (209)\ttotal: 1m 8s\tremaining: 4m 7s\n",
      "216:\ttest: 0.8875848\tbest: 0.8877620 (209)\ttotal: 1m 8s\tremaining: 4m 7s\n",
      "217:\ttest: 0.8876987\tbest: 0.8877620 (209)\ttotal: 1m 8s\tremaining: 4m 7s\n",
      "218:\ttest: 0.8878199\tbest: 0.8878199 (218)\ttotal: 1m 9s\tremaining: 4m 6s\n",
      "219:\ttest: 0.8878997\tbest: 0.8878997 (219)\ttotal: 1m 9s\tremaining: 4m 6s\n",
      "220:\ttest: 0.8878986\tbest: 0.8878997 (219)\ttotal: 1m 9s\tremaining: 4m 6s\n",
      "221:\ttest: 0.8881612\tbest: 0.8881612 (221)\ttotal: 1m 10s\tremaining: 4m 5s\n",
      "222:\ttest: 0.8882274\tbest: 0.8882274 (222)\ttotal: 1m 10s\tremaining: 4m 5s\n",
      "223:\ttest: 0.8882498\tbest: 0.8882498 (223)\ttotal: 1m 10s\tremaining: 4m 5s\n",
      "224:\ttest: 0.8883664\tbest: 0.8883664 (224)\ttotal: 1m 11s\tremaining: 4m 4s\n",
      "225:\ttest: 0.8884383\tbest: 0.8884383 (225)\ttotal: 1m 11s\tremaining: 4m 4s\n",
      "226:\ttest: 0.8884387\tbest: 0.8884387 (226)\ttotal: 1m 11s\tremaining: 4m 4s\n"
     ]
    },
    {
     "name": "stdout",
     "output_type": "stream",
     "text": [
      "227:\ttest: 0.8885471\tbest: 0.8885471 (227)\ttotal: 1m 12s\tremaining: 4m 4s\n",
      "228:\ttest: 0.8884461\tbest: 0.8885471 (227)\ttotal: 1m 12s\tremaining: 4m 3s\n",
      "229:\ttest: 0.8886009\tbest: 0.8886009 (229)\ttotal: 1m 12s\tremaining: 4m 3s\n",
      "230:\ttest: 0.8886185\tbest: 0.8886185 (230)\ttotal: 1m 13s\tremaining: 4m 3s\n",
      "231:\ttest: 0.8884688\tbest: 0.8886185 (230)\ttotal: 1m 13s\tremaining: 4m 2s\n",
      "232:\ttest: 0.8885556\tbest: 0.8886185 (230)\ttotal: 1m 13s\tremaining: 4m 2s\n",
      "233:\ttest: 0.8886980\tbest: 0.8886980 (233)\ttotal: 1m 13s\tremaining: 4m 2s\n",
      "234:\ttest: 0.8887095\tbest: 0.8887095 (234)\ttotal: 1m 14s\tremaining: 4m 1s\n",
      "235:\ttest: 0.8887764\tbest: 0.8887764 (235)\ttotal: 1m 14s\tremaining: 4m 1s\n",
      "236:\ttest: 0.8886295\tbest: 0.8887764 (235)\ttotal: 1m 14s\tremaining: 4m 1s\n",
      "237:\ttest: 0.8887547\tbest: 0.8887764 (235)\ttotal: 1m 15s\tremaining: 4m\n",
      "238:\ttest: 0.8887812\tbest: 0.8887812 (238)\ttotal: 1m 15s\tremaining: 4m\n",
      "239:\ttest: 0.8887461\tbest: 0.8887812 (238)\ttotal: 1m 15s\tremaining: 4m\n",
      "240:\ttest: 0.8886329\tbest: 0.8887812 (238)\ttotal: 1m 16s\tremaining: 3m 59s\n",
      "241:\ttest: 0.8885638\tbest: 0.8887812 (238)\ttotal: 1m 16s\tremaining: 3m 59s\n",
      "242:\ttest: 0.8885932\tbest: 0.8887812 (238)\ttotal: 1m 16s\tremaining: 3m 59s\n",
      "243:\ttest: 0.8885911\tbest: 0.8887812 (238)\ttotal: 1m 17s\tremaining: 3m 58s\n",
      "244:\ttest: 0.8885722\tbest: 0.8887812 (238)\ttotal: 1m 17s\tremaining: 3m 58s\n",
      "245:\ttest: 0.8883538\tbest: 0.8887812 (238)\ttotal: 1m 17s\tremaining: 3m 58s\n",
      "246:\ttest: 0.8883152\tbest: 0.8887812 (238)\ttotal: 1m 18s\tremaining: 3m 57s\n",
      "247:\ttest: 0.8882494\tbest: 0.8887812 (238)\ttotal: 1m 18s\tremaining: 3m 57s\n",
      "248:\ttest: 0.8881252\tbest: 0.8887812 (238)\ttotal: 1m 18s\tremaining: 3m 57s\n",
      "249:\ttest: 0.8883428\tbest: 0.8887812 (238)\ttotal: 1m 18s\tremaining: 3m 56s\n",
      "250:\ttest: 0.8884854\tbest: 0.8887812 (238)\ttotal: 1m 19s\tremaining: 3m 56s\n",
      "251:\ttest: 0.8885318\tbest: 0.8887812 (238)\ttotal: 1m 19s\tremaining: 3m 56s\n",
      "252:\ttest: 0.8884952\tbest: 0.8887812 (238)\ttotal: 1m 19s\tremaining: 3m 55s\n",
      "253:\ttest: 0.8885726\tbest: 0.8887812 (238)\ttotal: 1m 20s\tremaining: 3m 55s\n",
      "254:\ttest: 0.8886568\tbest: 0.8887812 (238)\ttotal: 1m 20s\tremaining: 3m 54s\n",
      "255:\ttest: 0.8887677\tbest: 0.8887812 (238)\ttotal: 1m 20s\tremaining: 3m 54s\n",
      "256:\ttest: 0.8888661\tbest: 0.8888661 (256)\ttotal: 1m 21s\tremaining: 3m 54s\n",
      "257:\ttest: 0.8888459\tbest: 0.8888661 (256)\ttotal: 1m 21s\tremaining: 3m 53s\n",
      "258:\ttest: 0.8888179\tbest: 0.8888661 (256)\ttotal: 1m 21s\tremaining: 3m 53s\n",
      "259:\ttest: 0.8889269\tbest: 0.8889269 (259)\ttotal: 1m 21s\tremaining: 3m 53s\n",
      "260:\ttest: 0.8888209\tbest: 0.8889269 (259)\ttotal: 1m 22s\tremaining: 3m 52s\n",
      "261:\ttest: 0.8887932\tbest: 0.8889269 (259)\ttotal: 1m 22s\tremaining: 3m 52s\n",
      "262:\ttest: 0.8888196\tbest: 0.8889269 (259)\ttotal: 1m 22s\tremaining: 3m 51s\n",
      "263:\ttest: 0.8889207\tbest: 0.8889269 (259)\ttotal: 1m 23s\tremaining: 3m 51s\n",
      "264:\ttest: 0.8888635\tbest: 0.8889269 (259)\ttotal: 1m 23s\tremaining: 3m 51s\n",
      "265:\ttest: 0.8889610\tbest: 0.8889610 (265)\ttotal: 1m 23s\tremaining: 3m 50s\n",
      "266:\ttest: 0.8889360\tbest: 0.8889610 (265)\ttotal: 1m 23s\tremaining: 3m 50s\n",
      "267:\ttest: 0.8888824\tbest: 0.8889610 (265)\ttotal: 1m 24s\tremaining: 3m 49s\n",
      "268:\ttest: 0.8890280\tbest: 0.8890280 (268)\ttotal: 1m 24s\tremaining: 3m 49s\n",
      "269:\ttest: 0.8892573\tbest: 0.8892573 (269)\ttotal: 1m 24s\tremaining: 3m 49s\n",
      "270:\ttest: 0.8896342\tbest: 0.8896342 (270)\ttotal: 1m 25s\tremaining: 3m 48s\n",
      "271:\ttest: 0.8896066\tbest: 0.8896342 (270)\ttotal: 1m 25s\tremaining: 3m 48s\n",
      "272:\ttest: 0.8896071\tbest: 0.8896342 (270)\ttotal: 1m 25s\tremaining: 3m 47s\n",
      "273:\ttest: 0.8897052\tbest: 0.8897052 (273)\ttotal: 1m 25s\tremaining: 3m 47s\n",
      "274:\ttest: 0.8897218\tbest: 0.8897218 (274)\ttotal: 1m 26s\tremaining: 3m 47s\n",
      "275:\ttest: 0.8897400\tbest: 0.8897400 (275)\ttotal: 1m 26s\tremaining: 3m 46s\n",
      "276:\ttest: 0.8898931\tbest: 0.8898931 (276)\ttotal: 1m 26s\tremaining: 3m 46s\n",
      "277:\ttest: 0.8898308\tbest: 0.8898931 (276)\ttotal: 1m 27s\tremaining: 3m 46s\n",
      "278:\ttest: 0.8899004\tbest: 0.8899004 (278)\ttotal: 1m 27s\tremaining: 3m 45s\n",
      "279:\ttest: 0.8899311\tbest: 0.8899311 (279)\ttotal: 1m 27s\tremaining: 3m 45s\n",
      "280:\ttest: 0.8898495\tbest: 0.8899311 (279)\ttotal: 1m 27s\tremaining: 3m 44s\n",
      "281:\ttest: 0.8899018\tbest: 0.8899311 (279)\ttotal: 1m 28s\tremaining: 3m 44s\n",
      "282:\ttest: 0.8899595\tbest: 0.8899595 (282)\ttotal: 1m 28s\tremaining: 3m 44s\n",
      "283:\ttest: 0.8900264\tbest: 0.8900264 (283)\ttotal: 1m 28s\tremaining: 3m 43s\n",
      "284:\ttest: 0.8901393\tbest: 0.8901393 (284)\ttotal: 1m 29s\tremaining: 3m 43s\n",
      "285:\ttest: 0.8900782\tbest: 0.8901393 (284)\ttotal: 1m 29s\tremaining: 3m 43s\n",
      "286:\ttest: 0.8902625\tbest: 0.8902625 (286)\ttotal: 1m 29s\tremaining: 3m 42s\n",
      "287:\ttest: 0.8902498\tbest: 0.8902625 (286)\ttotal: 1m 29s\tremaining: 3m 42s\n",
      "288:\ttest: 0.8901554\tbest: 0.8902625 (286)\ttotal: 1m 30s\tremaining: 3m 41s\n",
      "289:\ttest: 0.8901923\tbest: 0.8902625 (286)\ttotal: 1m 30s\tremaining: 3m 41s\n",
      "290:\ttest: 0.8901715\tbest: 0.8902625 (286)\ttotal: 1m 30s\tremaining: 3m 41s\n",
      "291:\ttest: 0.8901509\tbest: 0.8902625 (286)\ttotal: 1m 31s\tremaining: 3m 40s\n",
      "292:\ttest: 0.8899810\tbest: 0.8902625 (286)\ttotal: 1m 31s\tremaining: 3m 40s\n",
      "293:\ttest: 0.8901936\tbest: 0.8902625 (286)\ttotal: 1m 31s\tremaining: 3m 40s\n",
      "294:\ttest: 0.8902798\tbest: 0.8902798 (294)\ttotal: 1m 31s\tremaining: 3m 39s\n",
      "295:\ttest: 0.8903311\tbest: 0.8903311 (295)\ttotal: 1m 32s\tremaining: 3m 39s\n",
      "296:\ttest: 0.8903540\tbest: 0.8903540 (296)\ttotal: 1m 32s\tremaining: 3m 39s\n",
      "297:\ttest: 0.8904161\tbest: 0.8904161 (297)\ttotal: 1m 32s\tremaining: 3m 38s\n",
      "298:\ttest: 0.8905644\tbest: 0.8905644 (298)\ttotal: 1m 33s\tremaining: 3m 38s\n",
      "299:\ttest: 0.8907816\tbest: 0.8907816 (299)\ttotal: 1m 33s\tremaining: 3m 37s\n",
      "300:\ttest: 0.8907718\tbest: 0.8907816 (299)\ttotal: 1m 33s\tremaining: 3m 37s\n",
      "301:\ttest: 0.8909647\tbest: 0.8909647 (301)\ttotal: 1m 33s\tremaining: 3m 37s\n",
      "302:\ttest: 0.8910587\tbest: 0.8910587 (302)\ttotal: 1m 34s\tremaining: 3m 36s\n",
      "303:\ttest: 0.8910951\tbest: 0.8910951 (303)\ttotal: 1m 34s\tremaining: 3m 36s\n",
      "304:\ttest: 0.8911661\tbest: 0.8911661 (304)\ttotal: 1m 34s\tremaining: 3m 36s\n",
      "305:\ttest: 0.8911471\tbest: 0.8911661 (304)\ttotal: 1m 35s\tremaining: 3m 35s\n",
      "306:\ttest: 0.8911825\tbest: 0.8911825 (306)\ttotal: 1m 35s\tremaining: 3m 35s\n",
      "307:\ttest: 0.8910374\tbest: 0.8911825 (306)\ttotal: 1m 35s\tremaining: 3m 35s\n",
      "308:\ttest: 0.8909966\tbest: 0.8911825 (306)\ttotal: 1m 36s\tremaining: 3m 34s\n",
      "309:\ttest: 0.8910207\tbest: 0.8911825 (306)\ttotal: 1m 36s\tremaining: 3m 34s\n",
      "310:\ttest: 0.8910311\tbest: 0.8911825 (306)\ttotal: 1m 36s\tremaining: 3m 34s\n",
      "311:\ttest: 0.8910092\tbest: 0.8911825 (306)\ttotal: 1m 37s\tremaining: 3m 33s\n",
      "312:\ttest: 0.8910465\tbest: 0.8911825 (306)\ttotal: 1m 37s\tremaining: 3m 33s\n",
      "313:\ttest: 0.8910446\tbest: 0.8911825 (306)\ttotal: 1m 37s\tremaining: 3m 33s\n",
      "314:\ttest: 0.8910313\tbest: 0.8911825 (306)\ttotal: 1m 37s\tremaining: 3m 33s\n",
      "315:\ttest: 0.8912280\tbest: 0.8912280 (315)\ttotal: 1m 38s\tremaining: 3m 32s\n",
      "316:\ttest: 0.8911365\tbest: 0.8912280 (315)\ttotal: 1m 38s\tremaining: 3m 32s\n",
      "317:\ttest: 0.8912508\tbest: 0.8912508 (317)\ttotal: 1m 38s\tremaining: 3m 32s\n",
      "318:\ttest: 0.8913771\tbest: 0.8913771 (318)\ttotal: 1m 39s\tremaining: 3m 31s\n",
      "319:\ttest: 0.8914791\tbest: 0.8914791 (319)\ttotal: 1m 39s\tremaining: 3m 31s\n",
      "320:\ttest: 0.8915004\tbest: 0.8915004 (320)\ttotal: 1m 39s\tremaining: 3m 31s\n",
      "321:\ttest: 0.8915015\tbest: 0.8915015 (321)\ttotal: 1m 40s\tremaining: 3m 30s\n",
      "322:\ttest: 0.8915201\tbest: 0.8915201 (322)\ttotal: 1m 40s\tremaining: 3m 30s\n",
      "323:\ttest: 0.8914594\tbest: 0.8915201 (322)\ttotal: 1m 40s\tremaining: 3m 30s\n",
      "324:\ttest: 0.8914837\tbest: 0.8915201 (322)\ttotal: 1m 40s\tremaining: 3m 29s\n",
      "325:\ttest: 0.8914878\tbest: 0.8915201 (322)\ttotal: 1m 41s\tremaining: 3m 29s\n",
      "326:\ttest: 0.8915959\tbest: 0.8915959 (326)\ttotal: 1m 41s\tremaining: 3m 29s\n",
      "327:\ttest: 0.8915117\tbest: 0.8915959 (326)\ttotal: 1m 41s\tremaining: 3m 28s\n",
      "328:\ttest: 0.8916482\tbest: 0.8916482 (328)\ttotal: 1m 42s\tremaining: 3m 28s\n",
      "329:\ttest: 0.8916224\tbest: 0.8916482 (328)\ttotal: 1m 42s\tremaining: 3m 28s\n",
      "330:\ttest: 0.8915447\tbest: 0.8916482 (328)\ttotal: 1m 42s\tremaining: 3m 27s\n",
      "331:\ttest: 0.8915261\tbest: 0.8916482 (328)\ttotal: 1m 43s\tremaining: 3m 27s\n",
      "332:\ttest: 0.8914486\tbest: 0.8916482 (328)\ttotal: 1m 43s\tremaining: 3m 26s\n",
      "333:\ttest: 0.8914290\tbest: 0.8916482 (328)\ttotal: 1m 43s\tremaining: 3m 26s\n",
      "334:\ttest: 0.8914629\tbest: 0.8916482 (328)\ttotal: 1m 43s\tremaining: 3m 26s\n",
      "335:\ttest: 0.8912803\tbest: 0.8916482 (328)\ttotal: 1m 44s\tremaining: 3m 25s\n",
      "336:\ttest: 0.8911601\tbest: 0.8916482 (328)\ttotal: 1m 44s\tremaining: 3m 25s\n"
     ]
    },
    {
     "name": "stdout",
     "output_type": "stream",
     "text": [
      "337:\ttest: 0.8911890\tbest: 0.8916482 (328)\ttotal: 1m 44s\tremaining: 3m 25s\n",
      "338:\ttest: 0.8911121\tbest: 0.8916482 (328)\ttotal: 1m 45s\tremaining: 3m 24s\n",
      "339:\ttest: 0.8911026\tbest: 0.8916482 (328)\ttotal: 1m 45s\tremaining: 3m 24s\n",
      "340:\ttest: 0.8911294\tbest: 0.8916482 (328)\ttotal: 1m 45s\tremaining: 3m 24s\n",
      "341:\ttest: 0.8910065\tbest: 0.8916482 (328)\ttotal: 1m 45s\tremaining: 3m 23s\n",
      "342:\ttest: 0.8909644\tbest: 0.8916482 (328)\ttotal: 1m 46s\tremaining: 3m 23s\n",
      "343:\ttest: 0.8909081\tbest: 0.8916482 (328)\ttotal: 1m 46s\tremaining: 3m 23s\n",
      "344:\ttest: 0.8910222\tbest: 0.8916482 (328)\ttotal: 1m 46s\tremaining: 3m 23s\n",
      "345:\ttest: 0.8910302\tbest: 0.8916482 (328)\ttotal: 1m 47s\tremaining: 3m 23s\n",
      "346:\ttest: 0.8910475\tbest: 0.8916482 (328)\ttotal: 1m 47s\tremaining: 3m 23s\n",
      "347:\ttest: 0.8911597\tbest: 0.8916482 (328)\ttotal: 1m 48s\tremaining: 3m 23s\n",
      "348:\ttest: 0.8911053\tbest: 0.8916482 (328)\ttotal: 1m 48s\tremaining: 3m 22s\n",
      "349:\ttest: 0.8911341\tbest: 0.8916482 (328)\ttotal: 1m 49s\tremaining: 3m 22s\n",
      "350:\ttest: 0.8911600\tbest: 0.8916482 (328)\ttotal: 1m 49s\tremaining: 3m 22s\n",
      "351:\ttest: 0.8912006\tbest: 0.8916482 (328)\ttotal: 1m 49s\tremaining: 3m 22s\n",
      "352:\ttest: 0.8911150\tbest: 0.8916482 (328)\ttotal: 1m 50s\tremaining: 3m 21s\n",
      "353:\ttest: 0.8910617\tbest: 0.8916482 (328)\ttotal: 1m 50s\tremaining: 3m 21s\n",
      "354:\ttest: 0.8910318\tbest: 0.8916482 (328)\ttotal: 1m 51s\tremaining: 3m 21s\n",
      "355:\ttest: 0.8909883\tbest: 0.8916482 (328)\ttotal: 1m 51s\tremaining: 3m 21s\n",
      "356:\ttest: 0.8911457\tbest: 0.8916482 (328)\ttotal: 1m 51s\tremaining: 3m 21s\n",
      "357:\ttest: 0.8911633\tbest: 0.8916482 (328)\ttotal: 1m 52s\tremaining: 3m 21s\n",
      "358:\ttest: 0.8911089\tbest: 0.8916482 (328)\ttotal: 1m 52s\tremaining: 3m 21s\n",
      "359:\ttest: 0.8911902\tbest: 0.8916482 (328)\ttotal: 1m 53s\tremaining: 3m 20s\n",
      "360:\ttest: 0.8912521\tbest: 0.8916482 (328)\ttotal: 1m 53s\tremaining: 3m 20s\n",
      "361:\ttest: 0.8912037\tbest: 0.8916482 (328)\ttotal: 1m 53s\tremaining: 3m 20s\n",
      "362:\ttest: 0.8911661\tbest: 0.8916482 (328)\ttotal: 1m 54s\tremaining: 3m 20s\n",
      "363:\ttest: 0.8911766\tbest: 0.8916482 (328)\ttotal: 1m 54s\tremaining: 3m 19s\n",
      "364:\ttest: 0.8912576\tbest: 0.8916482 (328)\ttotal: 1m 54s\tremaining: 3m 19s\n",
      "365:\ttest: 0.8912755\tbest: 0.8916482 (328)\ttotal: 1m 54s\tremaining: 3m 18s\n",
      "366:\ttest: 0.8914545\tbest: 0.8916482 (328)\ttotal: 1m 55s\tremaining: 3m 18s\n",
      "367:\ttest: 0.8915415\tbest: 0.8916482 (328)\ttotal: 1m 55s\tremaining: 3m 18s\n",
      "368:\ttest: 0.8915170\tbest: 0.8916482 (328)\ttotal: 1m 55s\tremaining: 3m 17s\n",
      "369:\ttest: 0.8915565\tbest: 0.8916482 (328)\ttotal: 1m 55s\tremaining: 3m 17s\n",
      "370:\ttest: 0.8913911\tbest: 0.8916482 (328)\ttotal: 1m 56s\tremaining: 3m 17s\n",
      "371:\ttest: 0.8914187\tbest: 0.8916482 (328)\ttotal: 1m 56s\tremaining: 3m 16s\n",
      "372:\ttest: 0.8913465\tbest: 0.8916482 (328)\ttotal: 1m 56s\tremaining: 3m 16s\n",
      "373:\ttest: 0.8913754\tbest: 0.8916482 (328)\ttotal: 1m 57s\tremaining: 3m 16s\n",
      "374:\ttest: 0.8913021\tbest: 0.8916482 (328)\ttotal: 1m 57s\tremaining: 3m 15s\n",
      "375:\ttest: 0.8915555\tbest: 0.8916482 (328)\ttotal: 1m 57s\tremaining: 3m 15s\n",
      "376:\ttest: 0.8916027\tbest: 0.8916482 (328)\ttotal: 1m 57s\tremaining: 3m 14s\n",
      "377:\ttest: 0.8915488\tbest: 0.8916482 (328)\ttotal: 1m 58s\tremaining: 3m 14s\n",
      "378:\ttest: 0.8915509\tbest: 0.8916482 (328)\ttotal: 1m 58s\tremaining: 3m 14s\n",
      "379:\ttest: 0.8916871\tbest: 0.8916871 (379)\ttotal: 1m 58s\tremaining: 3m 13s\n",
      "380:\ttest: 0.8917230\tbest: 0.8917230 (380)\ttotal: 1m 59s\tremaining: 3m 13s\n",
      "381:\ttest: 0.8917287\tbest: 0.8917287 (381)\ttotal: 1m 59s\tremaining: 3m 13s\n",
      "382:\ttest: 0.8917133\tbest: 0.8917287 (381)\ttotal: 1m 59s\tremaining: 3m 13s\n",
      "383:\ttest: 0.8917965\tbest: 0.8917965 (383)\ttotal: 2m\tremaining: 3m 12s\n",
      "384:\ttest: 0.8918427\tbest: 0.8918427 (384)\ttotal: 2m\tremaining: 3m 12s\n",
      "385:\ttest: 0.8916146\tbest: 0.8918427 (384)\ttotal: 2m\tremaining: 3m 12s\n",
      "386:\ttest: 0.8915794\tbest: 0.8918427 (384)\ttotal: 2m 1s\tremaining: 3m 12s\n",
      "387:\ttest: 0.8916775\tbest: 0.8918427 (384)\ttotal: 2m 1s\tremaining: 3m 11s\n",
      "388:\ttest: 0.8916089\tbest: 0.8918427 (384)\ttotal: 2m 1s\tremaining: 3m 11s\n",
      "389:\ttest: 0.8915442\tbest: 0.8918427 (384)\ttotal: 2m 2s\tremaining: 3m 11s\n",
      "390:\ttest: 0.8915976\tbest: 0.8918427 (384)\ttotal: 2m 2s\tremaining: 3m 11s\n",
      "391:\ttest: 0.8916662\tbest: 0.8918427 (384)\ttotal: 2m 2s\tremaining: 3m 10s\n",
      "392:\ttest: 0.8917382\tbest: 0.8918427 (384)\ttotal: 2m 3s\tremaining: 3m 10s\n",
      "393:\ttest: 0.8917915\tbest: 0.8918427 (384)\ttotal: 2m 3s\tremaining: 3m 10s\n",
      "394:\ttest: 0.8919196\tbest: 0.8919196 (394)\ttotal: 2m 3s\tremaining: 3m 9s\n",
      "395:\ttest: 0.8918980\tbest: 0.8919196 (394)\ttotal: 2m 4s\tremaining: 3m 9s\n",
      "396:\ttest: 0.8918482\tbest: 0.8919196 (394)\ttotal: 2m 4s\tremaining: 3m 9s\n",
      "397:\ttest: 0.8919235\tbest: 0.8919235 (397)\ttotal: 2m 4s\tremaining: 3m 8s\n",
      "398:\ttest: 0.8919133\tbest: 0.8919235 (397)\ttotal: 2m 5s\tremaining: 3m 8s\n",
      "399:\ttest: 0.8919487\tbest: 0.8919487 (399)\ttotal: 2m 5s\tremaining: 3m 8s\n",
      "400:\ttest: 0.8919533\tbest: 0.8919533 (400)\ttotal: 2m 5s\tremaining: 3m 7s\n",
      "401:\ttest: 0.8919323\tbest: 0.8919533 (400)\ttotal: 2m 6s\tremaining: 3m 7s\n",
      "402:\ttest: 0.8920473\tbest: 0.8920473 (402)\ttotal: 2m 6s\tremaining: 3m 7s\n",
      "403:\ttest: 0.8920258\tbest: 0.8920473 (402)\ttotal: 2m 6s\tremaining: 3m 7s\n",
      "404:\ttest: 0.8921118\tbest: 0.8921118 (404)\ttotal: 2m 7s\tremaining: 3m 6s\n",
      "405:\ttest: 0.8919528\tbest: 0.8921118 (404)\ttotal: 2m 7s\tremaining: 3m 6s\n",
      "406:\ttest: 0.8919500\tbest: 0.8921118 (404)\ttotal: 2m 7s\tremaining: 3m 6s\n",
      "407:\ttest: 0.8918829\tbest: 0.8921118 (404)\ttotal: 2m 8s\tremaining: 3m 5s\n",
      "408:\ttest: 0.8919231\tbest: 0.8921118 (404)\ttotal: 2m 8s\tremaining: 3m 5s\n",
      "409:\ttest: 0.8920228\tbest: 0.8921118 (404)\ttotal: 2m 8s\tremaining: 3m 5s\n",
      "410:\ttest: 0.8920598\tbest: 0.8921118 (404)\ttotal: 2m 9s\tremaining: 3m 4s\n",
      "411:\ttest: 0.8921397\tbest: 0.8921397 (411)\ttotal: 2m 9s\tremaining: 3m 4s\n",
      "412:\ttest: 0.8921255\tbest: 0.8921397 (411)\ttotal: 2m 9s\tremaining: 3m 4s\n",
      "413:\ttest: 0.8920763\tbest: 0.8921397 (411)\ttotal: 2m 9s\tremaining: 3m 3s\n",
      "414:\ttest: 0.8922215\tbest: 0.8922215 (414)\ttotal: 2m 10s\tremaining: 3m 3s\n",
      "415:\ttest: 0.8921777\tbest: 0.8922215 (414)\ttotal: 2m 10s\tremaining: 3m 3s\n",
      "416:\ttest: 0.8922171\tbest: 0.8922215 (414)\ttotal: 2m 10s\tremaining: 3m 2s\n",
      "417:\ttest: 0.8922965\tbest: 0.8922965 (417)\ttotal: 2m 11s\tremaining: 3m 2s\n",
      "418:\ttest: 0.8923411\tbest: 0.8923411 (418)\ttotal: 2m 11s\tremaining: 3m 2s\n",
      "419:\ttest: 0.8923553\tbest: 0.8923553 (419)\ttotal: 2m 11s\tremaining: 3m 1s\n",
      "420:\ttest: 0.8924221\tbest: 0.8924221 (420)\ttotal: 2m 12s\tremaining: 3m 1s\n",
      "421:\ttest: 0.8924707\tbest: 0.8924707 (421)\ttotal: 2m 12s\tremaining: 3m 1s\n",
      "422:\ttest: 0.8924214\tbest: 0.8924707 (421)\ttotal: 2m 12s\tremaining: 3m\n",
      "423:\ttest: 0.8924058\tbest: 0.8924707 (421)\ttotal: 2m 12s\tremaining: 3m\n",
      "424:\ttest: 0.8924098\tbest: 0.8924707 (421)\ttotal: 2m 13s\tremaining: 3m\n",
      "425:\ttest: 0.8923559\tbest: 0.8924707 (421)\ttotal: 2m 13s\tremaining: 2m 59s\n",
      "426:\ttest: 0.8924546\tbest: 0.8924707 (421)\ttotal: 2m 13s\tremaining: 2m 59s\n",
      "427:\ttest: 0.8924639\tbest: 0.8924707 (421)\ttotal: 2m 14s\tremaining: 2m 59s\n",
      "428:\ttest: 0.8925417\tbest: 0.8925417 (428)\ttotal: 2m 14s\tremaining: 2m 58s\n",
      "429:\ttest: 0.8927104\tbest: 0.8927104 (429)\ttotal: 2m 14s\tremaining: 2m 58s\n",
      "430:\ttest: 0.8927174\tbest: 0.8927174 (430)\ttotal: 2m 15s\tremaining: 2m 58s\n",
      "431:\ttest: 0.8926993\tbest: 0.8927174 (430)\ttotal: 2m 15s\tremaining: 2m 57s\n",
      "432:\ttest: 0.8926943\tbest: 0.8927174 (430)\ttotal: 2m 15s\tremaining: 2m 57s\n",
      "433:\ttest: 0.8927067\tbest: 0.8927174 (430)\ttotal: 2m 15s\tremaining: 2m 57s\n",
      "434:\ttest: 0.8926959\tbest: 0.8927174 (430)\ttotal: 2m 16s\tremaining: 2m 57s\n",
      "435:\ttest: 0.8927928\tbest: 0.8927928 (435)\ttotal: 2m 16s\tremaining: 2m 56s\n",
      "436:\ttest: 0.8928196\tbest: 0.8928196 (436)\ttotal: 2m 16s\tremaining: 2m 56s\n",
      "437:\ttest: 0.8928147\tbest: 0.8928196 (436)\ttotal: 2m 17s\tremaining: 2m 56s\n",
      "438:\ttest: 0.8929378\tbest: 0.8929378 (438)\ttotal: 2m 17s\tremaining: 2m 55s\n",
      "439:\ttest: 0.8929958\tbest: 0.8929958 (439)\ttotal: 2m 17s\tremaining: 2m 55s\n",
      "440:\ttest: 0.8930301\tbest: 0.8930301 (440)\ttotal: 2m 18s\tremaining: 2m 55s\n",
      "441:\ttest: 0.8929449\tbest: 0.8930301 (440)\ttotal: 2m 18s\tremaining: 2m 54s\n",
      "442:\ttest: 0.8929196\tbest: 0.8930301 (440)\ttotal: 2m 18s\tremaining: 2m 54s\n",
      "443:\ttest: 0.8928581\tbest: 0.8930301 (440)\ttotal: 2m 19s\tremaining: 2m 54s\n",
      "444:\ttest: 0.8928140\tbest: 0.8930301 (440)\ttotal: 2m 19s\tremaining: 2m 53s\n",
      "445:\ttest: 0.8928223\tbest: 0.8930301 (440)\ttotal: 2m 19s\tremaining: 2m 53s\n",
      "446:\ttest: 0.8928163\tbest: 0.8930301 (440)\ttotal: 2m 19s\tremaining: 2m 53s\n",
      "447:\ttest: 0.8928788\tbest: 0.8930301 (440)\ttotal: 2m 20s\tremaining: 2m 52s\n"
     ]
    },
    {
     "name": "stdout",
     "output_type": "stream",
     "text": [
      "448:\ttest: 0.8929197\tbest: 0.8930301 (440)\ttotal: 2m 20s\tremaining: 2m 52s\n",
      "449:\ttest: 0.8930767\tbest: 0.8930767 (449)\ttotal: 2m 20s\tremaining: 2m 52s\n",
      "450:\ttest: 0.8930757\tbest: 0.8930767 (449)\ttotal: 2m 21s\tremaining: 2m 51s\n",
      "451:\ttest: 0.8931173\tbest: 0.8931173 (451)\ttotal: 2m 21s\tremaining: 2m 51s\n",
      "452:\ttest: 0.8931667\tbest: 0.8931667 (452)\ttotal: 2m 21s\tremaining: 2m 51s\n",
      "453:\ttest: 0.8931242\tbest: 0.8931667 (452)\ttotal: 2m 22s\tremaining: 2m 50s\n",
      "454:\ttest: 0.8932153\tbest: 0.8932153 (454)\ttotal: 2m 22s\tremaining: 2m 50s\n",
      "455:\ttest: 0.8931878\tbest: 0.8932153 (454)\ttotal: 2m 22s\tremaining: 2m 50s\n",
      "456:\ttest: 0.8933080\tbest: 0.8933080 (456)\ttotal: 2m 22s\tremaining: 2m 49s\n",
      "457:\ttest: 0.8932949\tbest: 0.8933080 (456)\ttotal: 2m 23s\tremaining: 2m 49s\n",
      "458:\ttest: 0.8931794\tbest: 0.8933080 (456)\ttotal: 2m 23s\tremaining: 2m 49s\n",
      "459:\ttest: 0.8930904\tbest: 0.8933080 (456)\ttotal: 2m 23s\tremaining: 2m 48s\n",
      "460:\ttest: 0.8931443\tbest: 0.8933080 (456)\ttotal: 2m 24s\tremaining: 2m 48s\n",
      "461:\ttest: 0.8932316\tbest: 0.8933080 (456)\ttotal: 2m 24s\tremaining: 2m 48s\n",
      "462:\ttest: 0.8933283\tbest: 0.8933283 (462)\ttotal: 2m 24s\tremaining: 2m 47s\n",
      "463:\ttest: 0.8933441\tbest: 0.8933441 (463)\ttotal: 2m 24s\tremaining: 2m 47s\n",
      "464:\ttest: 0.8933592\tbest: 0.8933592 (464)\ttotal: 2m 25s\tremaining: 2m 47s\n",
      "465:\ttest: 0.8933278\tbest: 0.8933592 (464)\ttotal: 2m 25s\tremaining: 2m 46s\n",
      "466:\ttest: 0.8934308\tbest: 0.8934308 (466)\ttotal: 2m 25s\tremaining: 2m 46s\n",
      "467:\ttest: 0.8936527\tbest: 0.8936527 (467)\ttotal: 2m 26s\tremaining: 2m 46s\n",
      "468:\ttest: 0.8937080\tbest: 0.8937080 (468)\ttotal: 2m 26s\tremaining: 2m 45s\n",
      "469:\ttest: 0.8936896\tbest: 0.8937080 (468)\ttotal: 2m 26s\tremaining: 2m 45s\n",
      "470:\ttest: 0.8935899\tbest: 0.8937080 (468)\ttotal: 2m 26s\tremaining: 2m 45s\n",
      "471:\ttest: 0.8936436\tbest: 0.8937080 (468)\ttotal: 2m 27s\tremaining: 2m 44s\n",
      "472:\ttest: 0.8936859\tbest: 0.8937080 (468)\ttotal: 2m 27s\tremaining: 2m 44s\n",
      "473:\ttest: 0.8937844\tbest: 0.8937844 (473)\ttotal: 2m 27s\tremaining: 2m 44s\n",
      "474:\ttest: 0.8937343\tbest: 0.8937844 (473)\ttotal: 2m 28s\tremaining: 2m 43s\n",
      "475:\ttest: 0.8936729\tbest: 0.8937844 (473)\ttotal: 2m 28s\tremaining: 2m 43s\n",
      "476:\ttest: 0.8938445\tbest: 0.8938445 (476)\ttotal: 2m 28s\tremaining: 2m 43s\n",
      "477:\ttest: 0.8938142\tbest: 0.8938445 (476)\ttotal: 2m 29s\tremaining: 2m 42s\n",
      "478:\ttest: 0.8938410\tbest: 0.8938445 (476)\ttotal: 2m 29s\tremaining: 2m 42s\n",
      "479:\ttest: 0.8938293\tbest: 0.8938445 (476)\ttotal: 2m 29s\tremaining: 2m 42s\n",
      "480:\ttest: 0.8938946\tbest: 0.8938946 (480)\ttotal: 2m 29s\tremaining: 2m 41s\n",
      "481:\ttest: 0.8938827\tbest: 0.8938946 (480)\ttotal: 2m 30s\tremaining: 2m 41s\n",
      "482:\ttest: 0.8939824\tbest: 0.8939824 (482)\ttotal: 2m 30s\tremaining: 2m 41s\n",
      "483:\ttest: 0.8939863\tbest: 0.8939863 (483)\ttotal: 2m 30s\tremaining: 2m 40s\n",
      "484:\ttest: 0.8940080\tbest: 0.8940080 (484)\ttotal: 2m 31s\tremaining: 2m 40s\n",
      "485:\ttest: 0.8940752\tbest: 0.8940752 (485)\ttotal: 2m 31s\tremaining: 2m 40s\n",
      "486:\ttest: 0.8940103\tbest: 0.8940752 (485)\ttotal: 2m 31s\tremaining: 2m 39s\n",
      "487:\ttest: 0.8940761\tbest: 0.8940761 (487)\ttotal: 2m 31s\tremaining: 2m 39s\n",
      "488:\ttest: 0.8941648\tbest: 0.8941648 (488)\ttotal: 2m 32s\tremaining: 2m 39s\n",
      "489:\ttest: 0.8942138\tbest: 0.8942138 (489)\ttotal: 2m 32s\tremaining: 2m 38s\n",
      "490:\ttest: 0.8942638\tbest: 0.8942638 (490)\ttotal: 2m 32s\tremaining: 2m 38s\n",
      "491:\ttest: 0.8942259\tbest: 0.8942638 (490)\ttotal: 2m 33s\tremaining: 2m 38s\n",
      "492:\ttest: 0.8941303\tbest: 0.8942638 (490)\ttotal: 2m 33s\tremaining: 2m 37s\n",
      "493:\ttest: 0.8940698\tbest: 0.8942638 (490)\ttotal: 2m 33s\tremaining: 2m 37s\n",
      "494:\ttest: 0.8941264\tbest: 0.8942638 (490)\ttotal: 2m 34s\tremaining: 2m 37s\n",
      "495:\ttest: 0.8939140\tbest: 0.8942638 (490)\ttotal: 2m 34s\tremaining: 2m 36s\n",
      "496:\ttest: 0.8938955\tbest: 0.8942638 (490)\ttotal: 2m 34s\tremaining: 2m 36s\n",
      "497:\ttest: 0.8938553\tbest: 0.8942638 (490)\ttotal: 2m 34s\tremaining: 2m 36s\n",
      "498:\ttest: 0.8939667\tbest: 0.8942638 (490)\ttotal: 2m 35s\tremaining: 2m 35s\n",
      "499:\ttest: 0.8938714\tbest: 0.8942638 (490)\ttotal: 2m 35s\tremaining: 2m 35s\n",
      "500:\ttest: 0.8939163\tbest: 0.8942638 (490)\ttotal: 2m 35s\tremaining: 2m 35s\n",
      "501:\ttest: 0.8939481\tbest: 0.8942638 (490)\ttotal: 2m 36s\tremaining: 2m 34s\n",
      "502:\ttest: 0.8939722\tbest: 0.8942638 (490)\ttotal: 2m 36s\tremaining: 2m 34s\n",
      "503:\ttest: 0.8940236\tbest: 0.8942638 (490)\ttotal: 2m 36s\tremaining: 2m 34s\n",
      "504:\ttest: 0.8939979\tbest: 0.8942638 (490)\ttotal: 2m 37s\tremaining: 2m 33s\n",
      "505:\ttest: 0.8941178\tbest: 0.8942638 (490)\ttotal: 2m 37s\tremaining: 2m 33s\n",
      "506:\ttest: 0.8942801\tbest: 0.8942801 (506)\ttotal: 2m 37s\tremaining: 2m 33s\n",
      "507:\ttest: 0.8943696\tbest: 0.8943696 (507)\ttotal: 2m 38s\tremaining: 2m 33s\n",
      "508:\ttest: 0.8943772\tbest: 0.8943772 (508)\ttotal: 2m 38s\tremaining: 2m 32s\n",
      "509:\ttest: 0.8944355\tbest: 0.8944355 (509)\ttotal: 2m 38s\tremaining: 2m 32s\n",
      "510:\ttest: 0.8944215\tbest: 0.8944355 (509)\ttotal: 2m 38s\tremaining: 2m 32s\n",
      "511:\ttest: 0.8943707\tbest: 0.8944355 (509)\ttotal: 2m 39s\tremaining: 2m 31s\n",
      "512:\ttest: 0.8944228\tbest: 0.8944355 (509)\ttotal: 2m 39s\tremaining: 2m 31s\n",
      "513:\ttest: 0.8944587\tbest: 0.8944587 (513)\ttotal: 2m 39s\tremaining: 2m 31s\n",
      "514:\ttest: 0.8945125\tbest: 0.8945125 (514)\ttotal: 2m 40s\tremaining: 2m 30s\n",
      "515:\ttest: 0.8944888\tbest: 0.8945125 (514)\ttotal: 2m 40s\tremaining: 2m 30s\n",
      "516:\ttest: 0.8945095\tbest: 0.8945125 (514)\ttotal: 2m 40s\tremaining: 2m 30s\n",
      "517:\ttest: 0.8945027\tbest: 0.8945125 (514)\ttotal: 2m 40s\tremaining: 2m 29s\n",
      "518:\ttest: 0.8945517\tbest: 0.8945517 (518)\ttotal: 2m 41s\tremaining: 2m 29s\n",
      "519:\ttest: 0.8944185\tbest: 0.8945517 (518)\ttotal: 2m 41s\tremaining: 2m 29s\n",
      "520:\ttest: 0.8944636\tbest: 0.8945517 (518)\ttotal: 2m 41s\tremaining: 2m 28s\n",
      "521:\ttest: 0.8945532\tbest: 0.8945532 (521)\ttotal: 2m 42s\tremaining: 2m 28s\n",
      "522:\ttest: 0.8945027\tbest: 0.8945532 (521)\ttotal: 2m 42s\tremaining: 2m 28s\n",
      "523:\ttest: 0.8945594\tbest: 0.8945594 (523)\ttotal: 2m 42s\tremaining: 2m 27s\n",
      "524:\ttest: 0.8944678\tbest: 0.8945594 (523)\ttotal: 2m 43s\tremaining: 2m 27s\n",
      "525:\ttest: 0.8944633\tbest: 0.8945594 (523)\ttotal: 2m 43s\tremaining: 2m 27s\n",
      "526:\ttest: 0.8944800\tbest: 0.8945594 (523)\ttotal: 2m 43s\tremaining: 2m 26s\n",
      "527:\ttest: 0.8945092\tbest: 0.8945594 (523)\ttotal: 2m 43s\tremaining: 2m 26s\n",
      "528:\ttest: 0.8945778\tbest: 0.8945778 (528)\ttotal: 2m 44s\tremaining: 2m 26s\n",
      "529:\ttest: 0.8945694\tbest: 0.8945778 (528)\ttotal: 2m 44s\tremaining: 2m 25s\n",
      "530:\ttest: 0.8946042\tbest: 0.8946042 (530)\ttotal: 2m 44s\tremaining: 2m 25s\n",
      "531:\ttest: 0.8947456\tbest: 0.8947456 (531)\ttotal: 2m 45s\tremaining: 2m 25s\n",
      "532:\ttest: 0.8948393\tbest: 0.8948393 (532)\ttotal: 2m 45s\tremaining: 2m 24s\n",
      "533:\ttest: 0.8948647\tbest: 0.8948647 (533)\ttotal: 2m 45s\tremaining: 2m 24s\n",
      "534:\ttest: 0.8949800\tbest: 0.8949800 (534)\ttotal: 2m 45s\tremaining: 2m 24s\n",
      "535:\ttest: 0.8950080\tbest: 0.8950080 (535)\ttotal: 2m 46s\tremaining: 2m 23s\n",
      "536:\ttest: 0.8950028\tbest: 0.8950080 (535)\ttotal: 2m 46s\tremaining: 2m 23s\n",
      "537:\ttest: 0.8949193\tbest: 0.8950080 (535)\ttotal: 2m 46s\tremaining: 2m 23s\n",
      "538:\ttest: 0.8949025\tbest: 0.8950080 (535)\ttotal: 2m 47s\tremaining: 2m 22s\n",
      "539:\ttest: 0.8948548\tbest: 0.8950080 (535)\ttotal: 2m 47s\tremaining: 2m 22s\n",
      "540:\ttest: 0.8948044\tbest: 0.8950080 (535)\ttotal: 2m 47s\tremaining: 2m 22s\n",
      "541:\ttest: 0.8948127\tbest: 0.8950080 (535)\ttotal: 2m 48s\tremaining: 2m 22s\n",
      "542:\ttest: 0.8947885\tbest: 0.8950080 (535)\ttotal: 2m 48s\tremaining: 2m 21s\n",
      "543:\ttest: 0.8948555\tbest: 0.8950080 (535)\ttotal: 2m 48s\tremaining: 2m 21s\n",
      "544:\ttest: 0.8949311\tbest: 0.8950080 (535)\ttotal: 2m 48s\tremaining: 2m 21s\n",
      "545:\ttest: 0.8949715\tbest: 0.8950080 (535)\ttotal: 2m 49s\tremaining: 2m 20s\n",
      "546:\ttest: 0.8949039\tbest: 0.8950080 (535)\ttotal: 2m 49s\tremaining: 2m 20s\n",
      "547:\ttest: 0.8949264\tbest: 0.8950080 (535)\ttotal: 2m 49s\tremaining: 2m 20s\n",
      "548:\ttest: 0.8949522\tbest: 0.8950080 (535)\ttotal: 2m 50s\tremaining: 2m 19s\n",
      "549:\ttest: 0.8950487\tbest: 0.8950487 (549)\ttotal: 2m 50s\tremaining: 2m 19s\n",
      "550:\ttest: 0.8949797\tbest: 0.8950487 (549)\ttotal: 2m 50s\tremaining: 2m 19s\n",
      "551:\ttest: 0.8949690\tbest: 0.8950487 (549)\ttotal: 2m 51s\tremaining: 2m 18s\n",
      "552:\ttest: 0.8950472\tbest: 0.8950487 (549)\ttotal: 2m 51s\tremaining: 2m 18s\n",
      "553:\ttest: 0.8949828\tbest: 0.8950487 (549)\ttotal: 2m 51s\tremaining: 2m 18s\n",
      "554:\ttest: 0.8949782\tbest: 0.8950487 (549)\ttotal: 2m 52s\tremaining: 2m 18s\n",
      "555:\ttest: 0.8950473\tbest: 0.8950487 (549)\ttotal: 2m 52s\tremaining: 2m 17s\n",
      "556:\ttest: 0.8952440\tbest: 0.8952440 (556)\ttotal: 2m 52s\tremaining: 2m 17s\n",
      "557:\ttest: 0.8953293\tbest: 0.8953293 (557)\ttotal: 2m 53s\tremaining: 2m 17s\n"
     ]
    },
    {
     "name": "stdout",
     "output_type": "stream",
     "text": [
      "558:\ttest: 0.8953215\tbest: 0.8953293 (557)\ttotal: 2m 53s\tremaining: 2m 16s\n",
      "559:\ttest: 0.8953372\tbest: 0.8953372 (559)\ttotal: 2m 53s\tremaining: 2m 16s\n",
      "560:\ttest: 0.8952604\tbest: 0.8953372 (559)\ttotal: 2m 54s\tremaining: 2m 16s\n",
      "561:\ttest: 0.8952454\tbest: 0.8953372 (559)\ttotal: 2m 54s\tremaining: 2m 15s\n",
      "562:\ttest: 0.8952354\tbest: 0.8953372 (559)\ttotal: 2m 54s\tremaining: 2m 15s\n",
      "563:\ttest: 0.8952752\tbest: 0.8953372 (559)\ttotal: 2m 55s\tremaining: 2m 15s\n",
      "564:\ttest: 0.8952555\tbest: 0.8953372 (559)\ttotal: 2m 55s\tremaining: 2m 15s\n",
      "565:\ttest: 0.8952792\tbest: 0.8953372 (559)\ttotal: 2m 55s\tremaining: 2m 14s\n",
      "566:\ttest: 0.8953337\tbest: 0.8953372 (559)\ttotal: 2m 56s\tremaining: 2m 14s\n",
      "567:\ttest: 0.8953087\tbest: 0.8953372 (559)\ttotal: 2m 56s\tremaining: 2m 14s\n",
      "568:\ttest: 0.8953398\tbest: 0.8953398 (568)\ttotal: 2m 56s\tremaining: 2m 13s\n",
      "569:\ttest: 0.8954104\tbest: 0.8954104 (569)\ttotal: 2m 56s\tremaining: 2m 13s\n",
      "570:\ttest: 0.8955168\tbest: 0.8955168 (570)\ttotal: 2m 57s\tremaining: 2m 13s\n",
      "571:\ttest: 0.8955986\tbest: 0.8955986 (571)\ttotal: 2m 57s\tremaining: 2m 12s\n",
      "572:\ttest: 0.8955344\tbest: 0.8955986 (571)\ttotal: 2m 57s\tremaining: 2m 12s\n",
      "573:\ttest: 0.8955687\tbest: 0.8955986 (571)\ttotal: 2m 58s\tremaining: 2m 12s\n",
      "574:\ttest: 0.8955970\tbest: 0.8955986 (571)\ttotal: 2m 58s\tremaining: 2m 11s\n",
      "575:\ttest: 0.8955696\tbest: 0.8955986 (571)\ttotal: 2m 58s\tremaining: 2m 11s\n",
      "576:\ttest: 0.8956939\tbest: 0.8956939 (576)\ttotal: 2m 59s\tremaining: 2m 11s\n",
      "577:\ttest: 0.8956675\tbest: 0.8956939 (576)\ttotal: 2m 59s\tremaining: 2m 10s\n",
      "578:\ttest: 0.8956073\tbest: 0.8956939 (576)\ttotal: 2m 59s\tremaining: 2m 10s\n",
      "579:\ttest: 0.8957351\tbest: 0.8957351 (579)\ttotal: 2m 59s\tremaining: 2m 10s\n",
      "580:\ttest: 0.8957956\tbest: 0.8957956 (580)\ttotal: 3m\tremaining: 2m 9s\n",
      "581:\ttest: 0.8958026\tbest: 0.8958026 (581)\ttotal: 3m\tremaining: 2m 9s\n",
      "582:\ttest: 0.8957165\tbest: 0.8958026 (581)\ttotal: 3m\tremaining: 2m 9s\n",
      "583:\ttest: 0.8957455\tbest: 0.8958026 (581)\ttotal: 3m 1s\tremaining: 2m 9s\n",
      "584:\ttest: 0.8959128\tbest: 0.8959128 (584)\ttotal: 3m 1s\tremaining: 2m 8s\n",
      "585:\ttest: 0.8959030\tbest: 0.8959128 (584)\ttotal: 3m 1s\tremaining: 2m 8s\n",
      "586:\ttest: 0.8958839\tbest: 0.8959128 (584)\ttotal: 3m 2s\tremaining: 2m 8s\n",
      "587:\ttest: 0.8959198\tbest: 0.8959198 (587)\ttotal: 3m 2s\tremaining: 2m 7s\n",
      "588:\ttest: 0.8959508\tbest: 0.8959508 (588)\ttotal: 3m 2s\tremaining: 2m 7s\n",
      "589:\ttest: 0.8959654\tbest: 0.8959654 (589)\ttotal: 3m 3s\tremaining: 2m 7s\n",
      "590:\ttest: 0.8960335\tbest: 0.8960335 (590)\ttotal: 3m 3s\tremaining: 2m 6s\n",
      "591:\ttest: 0.8960867\tbest: 0.8960867 (591)\ttotal: 3m 3s\tremaining: 2m 6s\n",
      "592:\ttest: 0.8961045\tbest: 0.8961045 (592)\ttotal: 3m 4s\tremaining: 2m 6s\n",
      "593:\ttest: 0.8961049\tbest: 0.8961049 (593)\ttotal: 3m 4s\tremaining: 2m 5s\n",
      "594:\ttest: 0.8961671\tbest: 0.8961671 (594)\ttotal: 3m 4s\tremaining: 2m 5s\n",
      "595:\ttest: 0.8961952\tbest: 0.8961952 (595)\ttotal: 3m 4s\tremaining: 2m 5s\n",
      "596:\ttest: 0.8961652\tbest: 0.8961952 (595)\ttotal: 3m 5s\tremaining: 2m 5s\n",
      "597:\ttest: 0.8961934\tbest: 0.8961952 (595)\ttotal: 3m 5s\tremaining: 2m 4s\n",
      "598:\ttest: 0.8962967\tbest: 0.8962967 (598)\ttotal: 3m 5s\tremaining: 2m 4s\n",
      "599:\ttest: 0.8963168\tbest: 0.8963168 (599)\ttotal: 3m 6s\tremaining: 2m 4s\n",
      "600:\ttest: 0.8963018\tbest: 0.8963168 (599)\ttotal: 3m 6s\tremaining: 2m 3s\n",
      "601:\ttest: 0.8963294\tbest: 0.8963294 (601)\ttotal: 3m 6s\tremaining: 2m 3s\n",
      "602:\ttest: 0.8963103\tbest: 0.8963294 (601)\ttotal: 3m 6s\tremaining: 2m 3s\n",
      "603:\ttest: 0.8963604\tbest: 0.8963604 (603)\ttotal: 3m 7s\tremaining: 2m 2s\n",
      "604:\ttest: 0.8964100\tbest: 0.8964100 (604)\ttotal: 3m 7s\tremaining: 2m 2s\n",
      "605:\ttest: 0.8964400\tbest: 0.8964400 (605)\ttotal: 3m 7s\tremaining: 2m 2s\n",
      "606:\ttest: 0.8965213\tbest: 0.8965213 (606)\ttotal: 3m 8s\tremaining: 2m 1s\n",
      "607:\ttest: 0.8965173\tbest: 0.8965213 (606)\ttotal: 3m 8s\tremaining: 2m 1s\n",
      "608:\ttest: 0.8965125\tbest: 0.8965213 (606)\ttotal: 3m 8s\tremaining: 2m 1s\n",
      "609:\ttest: 0.8965395\tbest: 0.8965395 (609)\ttotal: 3m 9s\tremaining: 2m\n",
      "610:\ttest: 0.8965271\tbest: 0.8965395 (609)\ttotal: 3m 9s\tremaining: 2m\n",
      "611:\ttest: 0.8965241\tbest: 0.8965395 (609)\ttotal: 3m 9s\tremaining: 2m\n",
      "612:\ttest: 0.8964322\tbest: 0.8965395 (609)\ttotal: 3m 9s\tremaining: 1m 59s\n",
      "613:\ttest: 0.8964021\tbest: 0.8965395 (609)\ttotal: 3m 10s\tremaining: 1m 59s\n",
      "614:\ttest: 0.8964487\tbest: 0.8965395 (609)\ttotal: 3m 10s\tremaining: 1m 59s\n",
      "615:\ttest: 0.8964865\tbest: 0.8965395 (609)\ttotal: 3m 10s\tremaining: 1m 58s\n",
      "616:\ttest: 0.8964971\tbest: 0.8965395 (609)\ttotal: 3m 10s\tremaining: 1m 58s\n",
      "617:\ttest: 0.8964558\tbest: 0.8965395 (609)\ttotal: 3m 11s\tremaining: 1m 58s\n",
      "618:\ttest: 0.8964185\tbest: 0.8965395 (609)\ttotal: 3m 11s\tremaining: 1m 57s\n",
      "619:\ttest: 0.8964256\tbest: 0.8965395 (609)\ttotal: 3m 11s\tremaining: 1m 57s\n",
      "620:\ttest: 0.8964160\tbest: 0.8965395 (609)\ttotal: 3m 12s\tremaining: 1m 57s\n",
      "621:\ttest: 0.8964010\tbest: 0.8965395 (609)\ttotal: 3m 12s\tremaining: 1m 56s\n",
      "622:\ttest: 0.8964125\tbest: 0.8965395 (609)\ttotal: 3m 12s\tremaining: 1m 56s\n",
      "623:\ttest: 0.8964258\tbest: 0.8965395 (609)\ttotal: 3m 13s\tremaining: 1m 56s\n",
      "624:\ttest: 0.8964407\tbest: 0.8965395 (609)\ttotal: 3m 13s\tremaining: 1m 56s\n",
      "625:\ttest: 0.8964699\tbest: 0.8965395 (609)\ttotal: 3m 13s\tremaining: 1m 55s\n",
      "626:\ttest: 0.8965883\tbest: 0.8965883 (626)\ttotal: 3m 14s\tremaining: 1m 55s\n",
      "627:\ttest: 0.8966295\tbest: 0.8966295 (627)\ttotal: 3m 14s\tremaining: 1m 55s\n",
      "628:\ttest: 0.8966364\tbest: 0.8966364 (628)\ttotal: 3m 14s\tremaining: 1m 54s\n",
      "629:\ttest: 0.8966126\tbest: 0.8966364 (628)\ttotal: 3m 14s\tremaining: 1m 54s\n",
      "630:\ttest: 0.8966617\tbest: 0.8966617 (630)\ttotal: 3m 15s\tremaining: 1m 54s\n",
      "631:\ttest: 0.8965757\tbest: 0.8966617 (630)\ttotal: 3m 15s\tremaining: 1m 53s\n",
      "632:\ttest: 0.8965760\tbest: 0.8966617 (630)\ttotal: 3m 15s\tremaining: 1m 53s\n",
      "633:\ttest: 0.8965792\tbest: 0.8966617 (630)\ttotal: 3m 16s\tremaining: 1m 53s\n",
      "634:\ttest: 0.8965461\tbest: 0.8966617 (630)\ttotal: 3m 16s\tremaining: 1m 52s\n",
      "635:\ttest: 0.8966092\tbest: 0.8966617 (630)\ttotal: 3m 16s\tremaining: 1m 52s\n",
      "636:\ttest: 0.8967024\tbest: 0.8967024 (636)\ttotal: 3m 16s\tremaining: 1m 52s\n",
      "637:\ttest: 0.8967052\tbest: 0.8967052 (637)\ttotal: 3m 17s\tremaining: 1m 51s\n",
      "638:\ttest: 0.8966529\tbest: 0.8967052 (637)\ttotal: 3m 17s\tremaining: 1m 51s\n",
      "639:\ttest: 0.8967191\tbest: 0.8967191 (639)\ttotal: 3m 17s\tremaining: 1m 51s\n",
      "640:\ttest: 0.8967235\tbest: 0.8967235 (640)\ttotal: 3m 18s\tremaining: 1m 50s\n",
      "641:\ttest: 0.8967376\tbest: 0.8967376 (641)\ttotal: 3m 18s\tremaining: 1m 50s\n",
      "642:\ttest: 0.8967558\tbest: 0.8967558 (642)\ttotal: 3m 18s\tremaining: 1m 50s\n",
      "643:\ttest: 0.8967594\tbest: 0.8967594 (643)\ttotal: 3m 18s\tremaining: 1m 49s\n",
      "644:\ttest: 0.8967225\tbest: 0.8967594 (643)\ttotal: 3m 19s\tremaining: 1m 49s\n",
      "645:\ttest: 0.8966942\tbest: 0.8967594 (643)\ttotal: 3m 19s\tremaining: 1m 49s\n",
      "646:\ttest: 0.8966675\tbest: 0.8967594 (643)\ttotal: 3m 19s\tremaining: 1m 49s\n",
      "647:\ttest: 0.8966382\tbest: 0.8967594 (643)\ttotal: 3m 20s\tremaining: 1m 48s\n",
      "648:\ttest: 0.8967195\tbest: 0.8967594 (643)\ttotal: 3m 20s\tremaining: 1m 48s\n",
      "649:\ttest: 0.8967318\tbest: 0.8967594 (643)\ttotal: 3m 20s\tremaining: 1m 48s\n",
      "650:\ttest: 0.8967331\tbest: 0.8967594 (643)\ttotal: 3m 21s\tremaining: 1m 47s\n",
      "651:\ttest: 0.8967626\tbest: 0.8967626 (651)\ttotal: 3m 21s\tremaining: 1m 47s\n",
      "652:\ttest: 0.8967454\tbest: 0.8967626 (651)\ttotal: 3m 21s\tremaining: 1m 47s\n",
      "653:\ttest: 0.8967590\tbest: 0.8967626 (651)\ttotal: 3m 21s\tremaining: 1m 46s\n",
      "654:\ttest: 0.8967308\tbest: 0.8967626 (651)\ttotal: 3m 22s\tremaining: 1m 46s\n",
      "655:\ttest: 0.8967322\tbest: 0.8967626 (651)\ttotal: 3m 22s\tremaining: 1m 46s\n",
      "656:\ttest: 0.8967935\tbest: 0.8967935 (656)\ttotal: 3m 22s\tremaining: 1m 45s\n",
      "657:\ttest: 0.8968283\tbest: 0.8968283 (657)\ttotal: 3m 23s\tremaining: 1m 45s\n",
      "658:\ttest: 0.8968958\tbest: 0.8968958 (658)\ttotal: 3m 23s\tremaining: 1m 45s\n",
      "659:\ttest: 0.8969325\tbest: 0.8969325 (659)\ttotal: 3m 23s\tremaining: 1m 44s\n",
      "660:\ttest: 0.8969399\tbest: 0.8969399 (660)\ttotal: 3m 23s\tremaining: 1m 44s\n",
      "661:\ttest: 0.8970121\tbest: 0.8970121 (661)\ttotal: 3m 24s\tremaining: 1m 44s\n",
      "662:\ttest: 0.8970052\tbest: 0.8970121 (661)\ttotal: 3m 24s\tremaining: 1m 43s\n",
      "663:\ttest: 0.8970234\tbest: 0.8970234 (663)\ttotal: 3m 24s\tremaining: 1m 43s\n",
      "664:\ttest: 0.8970088\tbest: 0.8970234 (663)\ttotal: 3m 25s\tremaining: 1m 43s\n",
      "665:\ttest: 0.8970427\tbest: 0.8970427 (665)\ttotal: 3m 25s\tremaining: 1m 43s\n",
      "666:\ttest: 0.8971427\tbest: 0.8971427 (666)\ttotal: 3m 25s\tremaining: 1m 42s\n",
      "667:\ttest: 0.8971247\tbest: 0.8971427 (666)\ttotal: 3m 26s\tremaining: 1m 42s\n",
      "668:\ttest: 0.8970967\tbest: 0.8971427 (666)\ttotal: 3m 26s\tremaining: 1m 42s\n"
     ]
    },
    {
     "name": "stdout",
     "output_type": "stream",
     "text": [
      "669:\ttest: 0.8971357\tbest: 0.8971427 (666)\ttotal: 3m 26s\tremaining: 1m 41s\n",
      "670:\ttest: 0.8970879\tbest: 0.8971427 (666)\ttotal: 3m 26s\tremaining: 1m 41s\n",
      "671:\ttest: 0.8970920\tbest: 0.8971427 (666)\ttotal: 3m 27s\tremaining: 1m 41s\n",
      "672:\ttest: 0.8971594\tbest: 0.8971594 (672)\ttotal: 3m 27s\tremaining: 1m 40s\n",
      "673:\ttest: 0.8971107\tbest: 0.8971594 (672)\ttotal: 3m 27s\tremaining: 1m 40s\n",
      "674:\ttest: 0.8971297\tbest: 0.8971594 (672)\ttotal: 3m 28s\tremaining: 1m 40s\n",
      "675:\ttest: 0.8971818\tbest: 0.8971818 (675)\ttotal: 3m 28s\tremaining: 1m 39s\n",
      "676:\ttest: 0.8971827\tbest: 0.8971827 (676)\ttotal: 3m 28s\tremaining: 1m 39s\n",
      "677:\ttest: 0.8972079\tbest: 0.8972079 (677)\ttotal: 3m 28s\tremaining: 1m 39s\n",
      "678:\ttest: 0.8972868\tbest: 0.8972868 (678)\ttotal: 3m 29s\tremaining: 1m 38s\n",
      "679:\ttest: 0.8972681\tbest: 0.8972868 (678)\ttotal: 3m 29s\tremaining: 1m 38s\n",
      "680:\ttest: 0.8972132\tbest: 0.8972868 (678)\ttotal: 3m 30s\tremaining: 1m 38s\n",
      "681:\ttest: 0.8972239\tbest: 0.8972868 (678)\ttotal: 3m 30s\tremaining: 1m 38s\n",
      "682:\ttest: 0.8971695\tbest: 0.8972868 (678)\ttotal: 3m 30s\tremaining: 1m 37s\n",
      "683:\ttest: 0.8971573\tbest: 0.8972868 (678)\ttotal: 3m 31s\tremaining: 1m 37s\n",
      "684:\ttest: 0.8971790\tbest: 0.8972868 (678)\ttotal: 3m 31s\tremaining: 1m 37s\n",
      "685:\ttest: 0.8971191\tbest: 0.8972868 (678)\ttotal: 3m 31s\tremaining: 1m 36s\n",
      "686:\ttest: 0.8970643\tbest: 0.8972868 (678)\ttotal: 3m 31s\tremaining: 1m 36s\n",
      "687:\ttest: 0.8969984\tbest: 0.8972868 (678)\ttotal: 3m 32s\tremaining: 1m 36s\n",
      "688:\ttest: 0.8969471\tbest: 0.8972868 (678)\ttotal: 3m 32s\tremaining: 1m 35s\n",
      "689:\ttest: 0.8969818\tbest: 0.8972868 (678)\ttotal: 3m 32s\tremaining: 1m 35s\n",
      "690:\ttest: 0.8970153\tbest: 0.8972868 (678)\ttotal: 3m 33s\tremaining: 1m 35s\n",
      "691:\ttest: 0.8970495\tbest: 0.8972868 (678)\ttotal: 3m 33s\tremaining: 1m 34s\n",
      "692:\ttest: 0.8970093\tbest: 0.8972868 (678)\ttotal: 3m 33s\tremaining: 1m 34s\n",
      "693:\ttest: 0.8970784\tbest: 0.8972868 (678)\ttotal: 3m 33s\tremaining: 1m 34s\n",
      "694:\ttest: 0.8970768\tbest: 0.8972868 (678)\ttotal: 3m 34s\tremaining: 1m 34s\n",
      "695:\ttest: 0.8970894\tbest: 0.8972868 (678)\ttotal: 3m 34s\tremaining: 1m 33s\n",
      "696:\ttest: 0.8971230\tbest: 0.8972868 (678)\ttotal: 3m 34s\tremaining: 1m 33s\n",
      "697:\ttest: 0.8971082\tbest: 0.8972868 (678)\ttotal: 3m 35s\tremaining: 1m 33s\n",
      "698:\ttest: 0.8971445\tbest: 0.8972868 (678)\ttotal: 3m 35s\tremaining: 1m 32s\n",
      "699:\ttest: 0.8971571\tbest: 0.8972868 (678)\ttotal: 3m 35s\tremaining: 1m 32s\n",
      "700:\ttest: 0.8971828\tbest: 0.8972868 (678)\ttotal: 3m 36s\tremaining: 1m 32s\n",
      "701:\ttest: 0.8972355\tbest: 0.8972868 (678)\ttotal: 3m 36s\tremaining: 1m 31s\n",
      "702:\ttest: 0.8972575\tbest: 0.8972868 (678)\ttotal: 3m 36s\tremaining: 1m 31s\n",
      "703:\ttest: 0.8972885\tbest: 0.8972885 (703)\ttotal: 3m 36s\tremaining: 1m 31s\n",
      "704:\ttest: 0.8972835\tbest: 0.8972885 (703)\ttotal: 3m 37s\tremaining: 1m 30s\n",
      "705:\ttest: 0.8972905\tbest: 0.8972905 (705)\ttotal: 3m 37s\tremaining: 1m 30s\n",
      "706:\ttest: 0.8972807\tbest: 0.8972905 (705)\ttotal: 3m 37s\tremaining: 1m 30s\n",
      "707:\ttest: 0.8972776\tbest: 0.8972905 (705)\ttotal: 3m 38s\tremaining: 1m 29s\n",
      "708:\ttest: 0.8972999\tbest: 0.8972999 (708)\ttotal: 3m 38s\tremaining: 1m 29s\n",
      "709:\ttest: 0.8974065\tbest: 0.8974065 (709)\ttotal: 3m 38s\tremaining: 1m 29s\n",
      "710:\ttest: 0.8974932\tbest: 0.8974932 (710)\ttotal: 3m 38s\tremaining: 1m 29s\n",
      "711:\ttest: 0.8974545\tbest: 0.8974932 (710)\ttotal: 3m 39s\tremaining: 1m 28s\n",
      "712:\ttest: 0.8975431\tbest: 0.8975431 (712)\ttotal: 3m 39s\tremaining: 1m 28s\n",
      "713:\ttest: 0.8975202\tbest: 0.8975431 (712)\ttotal: 3m 39s\tremaining: 1m 28s\n",
      "714:\ttest: 0.8975697\tbest: 0.8975697 (714)\ttotal: 3m 40s\tremaining: 1m 27s\n",
      "715:\ttest: 0.8974719\tbest: 0.8975697 (714)\ttotal: 3m 40s\tremaining: 1m 27s\n",
      "716:\ttest: 0.8974819\tbest: 0.8975697 (714)\ttotal: 3m 40s\tremaining: 1m 27s\n",
      "717:\ttest: 0.8975689\tbest: 0.8975697 (714)\ttotal: 3m 41s\tremaining: 1m 26s\n",
      "718:\ttest: 0.8975648\tbest: 0.8975697 (714)\ttotal: 3m 41s\tremaining: 1m 26s\n",
      "719:\ttest: 0.8975576\tbest: 0.8975697 (714)\ttotal: 3m 41s\tremaining: 1m 26s\n",
      "720:\ttest: 0.8975312\tbest: 0.8975697 (714)\ttotal: 3m 41s\tremaining: 1m 25s\n",
      "721:\ttest: 0.8975172\tbest: 0.8975697 (714)\ttotal: 3m 42s\tremaining: 1m 25s\n",
      "722:\ttest: 0.8974520\tbest: 0.8975697 (714)\ttotal: 3m 42s\tremaining: 1m 25s\n",
      "723:\ttest: 0.8974839\tbest: 0.8975697 (714)\ttotal: 3m 42s\tremaining: 1m 24s\n",
      "724:\ttest: 0.8974793\tbest: 0.8975697 (714)\ttotal: 3m 43s\tremaining: 1m 24s\n",
      "725:\ttest: 0.8974365\tbest: 0.8975697 (714)\ttotal: 3m 43s\tremaining: 1m 24s\n",
      "726:\ttest: 0.8973751\tbest: 0.8975697 (714)\ttotal: 3m 43s\tremaining: 1m 24s\n",
      "727:\ttest: 0.8974021\tbest: 0.8975697 (714)\ttotal: 3m 44s\tremaining: 1m 23s\n",
      "728:\ttest: 0.8974004\tbest: 0.8975697 (714)\ttotal: 3m 44s\tremaining: 1m 23s\n",
      "729:\ttest: 0.8974179\tbest: 0.8975697 (714)\ttotal: 3m 44s\tremaining: 1m 23s\n",
      "730:\ttest: 0.8973132\tbest: 0.8975697 (714)\ttotal: 3m 44s\tremaining: 1m 22s\n",
      "731:\ttest: 0.8973529\tbest: 0.8975697 (714)\ttotal: 3m 45s\tremaining: 1m 22s\n",
      "732:\ttest: 0.8973709\tbest: 0.8975697 (714)\ttotal: 3m 45s\tremaining: 1m 22s\n",
      "733:\ttest: 0.8973797\tbest: 0.8975697 (714)\ttotal: 3m 45s\tremaining: 1m 21s\n",
      "734:\ttest: 0.8974341\tbest: 0.8975697 (714)\ttotal: 3m 46s\tremaining: 1m 21s\n",
      "735:\ttest: 0.8974519\tbest: 0.8975697 (714)\ttotal: 3m 46s\tremaining: 1m 21s\n",
      "736:\ttest: 0.8974119\tbest: 0.8975697 (714)\ttotal: 3m 46s\tremaining: 1m 20s\n",
      "737:\ttest: 0.8973978\tbest: 0.8975697 (714)\ttotal: 3m 47s\tremaining: 1m 20s\n",
      "738:\ttest: 0.8974125\tbest: 0.8975697 (714)\ttotal: 3m 47s\tremaining: 1m 20s\n",
      "739:\ttest: 0.8974292\tbest: 0.8975697 (714)\ttotal: 3m 47s\tremaining: 1m 19s\n",
      "740:\ttest: 0.8975044\tbest: 0.8975697 (714)\ttotal: 3m 47s\tremaining: 1m 19s\n",
      "741:\ttest: 0.8974828\tbest: 0.8975697 (714)\ttotal: 3m 48s\tremaining: 1m 19s\n",
      "742:\ttest: 0.8975197\tbest: 0.8975697 (714)\ttotal: 3m 48s\tremaining: 1m 19s\n",
      "743:\ttest: 0.8975457\tbest: 0.8975697 (714)\ttotal: 3m 48s\tremaining: 1m 18s\n",
      "744:\ttest: 0.8975391\tbest: 0.8975697 (714)\ttotal: 3m 49s\tremaining: 1m 18s\n",
      "745:\ttest: 0.8975069\tbest: 0.8975697 (714)\ttotal: 3m 49s\tremaining: 1m 18s\n",
      "746:\ttest: 0.8975307\tbest: 0.8975697 (714)\ttotal: 3m 49s\tremaining: 1m 17s\n",
      "747:\ttest: 0.8976297\tbest: 0.8976297 (747)\ttotal: 3m 50s\tremaining: 1m 17s\n",
      "748:\ttest: 0.8976392\tbest: 0.8976392 (748)\ttotal: 3m 50s\tremaining: 1m 17s\n",
      "749:\ttest: 0.8975944\tbest: 0.8976392 (748)\ttotal: 3m 50s\tremaining: 1m 16s\n",
      "750:\ttest: 0.8976998\tbest: 0.8976998 (750)\ttotal: 3m 51s\tremaining: 1m 16s\n",
      "751:\ttest: 0.8977439\tbest: 0.8977439 (751)\ttotal: 3m 51s\tremaining: 1m 16s\n",
      "752:\ttest: 0.8977860\tbest: 0.8977860 (752)\ttotal: 3m 51s\tremaining: 1m 16s\n",
      "753:\ttest: 0.8977247\tbest: 0.8977860 (752)\ttotal: 3m 52s\tremaining: 1m 15s\n",
      "754:\ttest: 0.8976844\tbest: 0.8977860 (752)\ttotal: 3m 52s\tremaining: 1m 15s\n",
      "755:\ttest: 0.8977291\tbest: 0.8977860 (752)\ttotal: 3m 52s\tremaining: 1m 15s\n",
      "756:\ttest: 0.8977420\tbest: 0.8977860 (752)\ttotal: 3m 53s\tremaining: 1m 14s\n",
      "757:\ttest: 0.8977926\tbest: 0.8977926 (757)\ttotal: 3m 53s\tremaining: 1m 14s\n",
      "758:\ttest: 0.8978740\tbest: 0.8978740 (758)\ttotal: 3m 53s\tremaining: 1m 14s\n",
      "759:\ttest: 0.8979786\tbest: 0.8979786 (759)\ttotal: 3m 53s\tremaining: 1m 13s\n",
      "760:\ttest: 0.8980332\tbest: 0.8980332 (760)\ttotal: 3m 54s\tremaining: 1m 13s\n",
      "761:\ttest: 0.8980190\tbest: 0.8980332 (760)\ttotal: 3m 54s\tremaining: 1m 13s\n",
      "762:\ttest: 0.8980373\tbest: 0.8980373 (762)\ttotal: 3m 54s\tremaining: 1m 12s\n",
      "763:\ttest: 0.8980210\tbest: 0.8980373 (762)\ttotal: 3m 55s\tremaining: 1m 12s\n",
      "764:\ttest: 0.8980884\tbest: 0.8980884 (764)\ttotal: 3m 55s\tremaining: 1m 12s\n",
      "765:\ttest: 0.8981510\tbest: 0.8981510 (765)\ttotal: 3m 55s\tremaining: 1m 12s\n",
      "766:\ttest: 0.8981992\tbest: 0.8981992 (766)\ttotal: 3m 56s\tremaining: 1m 11s\n",
      "767:\ttest: 0.8982132\tbest: 0.8982132 (767)\ttotal: 3m 56s\tremaining: 1m 11s\n",
      "768:\ttest: 0.8982283\tbest: 0.8982283 (768)\ttotal: 3m 56s\tremaining: 1m 11s\n",
      "769:\ttest: 0.8982573\tbest: 0.8982573 (769)\ttotal: 3m 57s\tremaining: 1m 10s\n",
      "770:\ttest: 0.8982131\tbest: 0.8982573 (769)\ttotal: 3m 57s\tremaining: 1m 10s\n",
      "771:\ttest: 0.8982163\tbest: 0.8982573 (769)\ttotal: 3m 57s\tremaining: 1m 10s\n",
      "772:\ttest: 0.8983085\tbest: 0.8983085 (772)\ttotal: 3m 57s\tremaining: 1m 9s\n",
      "773:\ttest: 0.8983139\tbest: 0.8983139 (773)\ttotal: 3m 58s\tremaining: 1m 9s\n",
      "774:\ttest: 0.8982628\tbest: 0.8983139 (773)\ttotal: 3m 58s\tremaining: 1m 9s\n",
      "775:\ttest: 0.8982543\tbest: 0.8983139 (773)\ttotal: 3m 59s\tremaining: 1m 8s\n",
      "776:\ttest: 0.8982737\tbest: 0.8983139 (773)\ttotal: 3m 59s\tremaining: 1m 8s\n",
      "777:\ttest: 0.8983070\tbest: 0.8983139 (773)\ttotal: 3m 59s\tremaining: 1m 8s\n",
      "778:\ttest: 0.8983454\tbest: 0.8983454 (778)\ttotal: 4m\tremaining: 1m 8s\n"
     ]
    },
    {
     "name": "stdout",
     "output_type": "stream",
     "text": [
      "779:\ttest: 0.8983427\tbest: 0.8983454 (778)\ttotal: 4m\tremaining: 1m 7s\n",
      "780:\ttest: 0.8983372\tbest: 0.8983454 (778)\ttotal: 4m\tremaining: 1m 7s\n",
      "781:\ttest: 0.8983421\tbest: 0.8983454 (778)\ttotal: 4m\tremaining: 1m 7s\n",
      "782:\ttest: 0.8984586\tbest: 0.8984586 (782)\ttotal: 4m 1s\tremaining: 1m 6s\n",
      "783:\ttest: 0.8985880\tbest: 0.8985880 (783)\ttotal: 4m 1s\tremaining: 1m 6s\n",
      "784:\ttest: 0.8985834\tbest: 0.8985880 (783)\ttotal: 4m 1s\tremaining: 1m 6s\n",
      "785:\ttest: 0.8985366\tbest: 0.8985880 (783)\ttotal: 4m 2s\tremaining: 1m 5s\n",
      "786:\ttest: 0.8985784\tbest: 0.8985880 (783)\ttotal: 4m 2s\tremaining: 1m 5s\n",
      "787:\ttest: 0.8985530\tbest: 0.8985880 (783)\ttotal: 4m 2s\tremaining: 1m 5s\n",
      "788:\ttest: 0.8985164\tbest: 0.8985880 (783)\ttotal: 4m 3s\tremaining: 1m 5s\n",
      "789:\ttest: 0.8985382\tbest: 0.8985880 (783)\ttotal: 4m 3s\tremaining: 1m 4s\n",
      "790:\ttest: 0.8986548\tbest: 0.8986548 (790)\ttotal: 4m 3s\tremaining: 1m 4s\n",
      "791:\ttest: 0.8987048\tbest: 0.8987048 (791)\ttotal: 4m 4s\tremaining: 1m 4s\n",
      "792:\ttest: 0.8987512\tbest: 0.8987512 (792)\ttotal: 4m 4s\tremaining: 1m 3s\n",
      "793:\ttest: 0.8987402\tbest: 0.8987512 (792)\ttotal: 4m 4s\tremaining: 1m 3s\n",
      "794:\ttest: 0.8987991\tbest: 0.8987991 (794)\ttotal: 4m 5s\tremaining: 1m 3s\n",
      "795:\ttest: 0.8988571\tbest: 0.8988571 (795)\ttotal: 4m 5s\tremaining: 1m 2s\n",
      "796:\ttest: 0.8988434\tbest: 0.8988571 (795)\ttotal: 4m 5s\tremaining: 1m 2s\n",
      "797:\ttest: 0.8988526\tbest: 0.8988571 (795)\ttotal: 4m 6s\tremaining: 1m 2s\n",
      "798:\ttest: 0.8989115\tbest: 0.8989115 (798)\ttotal: 4m 6s\tremaining: 1m 2s\n",
      "799:\ttest: 0.8988931\tbest: 0.8989115 (798)\ttotal: 4m 6s\tremaining: 1m 1s\n",
      "800:\ttest: 0.8988977\tbest: 0.8989115 (798)\ttotal: 4m 7s\tremaining: 1m 1s\n",
      "801:\ttest: 0.8989419\tbest: 0.8989419 (801)\ttotal: 4m 7s\tremaining: 1m 1s\n",
      "802:\ttest: 0.8990103\tbest: 0.8990103 (802)\ttotal: 4m 7s\tremaining: 1m\n",
      "803:\ttest: 0.8990683\tbest: 0.8990683 (803)\ttotal: 4m 7s\tremaining: 1m\n",
      "804:\ttest: 0.8990395\tbest: 0.8990683 (803)\ttotal: 4m 8s\tremaining: 1m\n",
      "805:\ttest: 0.8991413\tbest: 0.8991413 (805)\ttotal: 4m 8s\tremaining: 59.8s\n",
      "806:\ttest: 0.8991284\tbest: 0.8991413 (805)\ttotal: 4m 8s\tremaining: 59.5s\n",
      "807:\ttest: 0.8990852\tbest: 0.8991413 (805)\ttotal: 4m 9s\tremaining: 59.2s\n",
      "808:\ttest: 0.8990852\tbest: 0.8991413 (805)\ttotal: 4m 9s\tremaining: 58.9s\n",
      "809:\ttest: 0.8991076\tbest: 0.8991413 (805)\ttotal: 4m 9s\tremaining: 58.6s\n",
      "810:\ttest: 0.8990925\tbest: 0.8991413 (805)\ttotal: 4m 10s\tremaining: 58.3s\n",
      "811:\ttest: 0.8990634\tbest: 0.8991413 (805)\ttotal: 4m 10s\tremaining: 58s\n",
      "812:\ttest: 0.8990747\tbest: 0.8991413 (805)\ttotal: 4m 10s\tremaining: 57.7s\n",
      "813:\ttest: 0.8990942\tbest: 0.8991413 (805)\ttotal: 4m 11s\tremaining: 57.4s\n",
      "814:\ttest: 0.8991708\tbest: 0.8991708 (814)\ttotal: 4m 11s\tremaining: 57.1s\n",
      "815:\ttest: 0.8992242\tbest: 0.8992242 (815)\ttotal: 4m 11s\tremaining: 56.8s\n",
      "816:\ttest: 0.8993000\tbest: 0.8993000 (816)\ttotal: 4m 12s\tremaining: 56.5s\n",
      "817:\ttest: 0.8993207\tbest: 0.8993207 (817)\ttotal: 4m 12s\tremaining: 56.2s\n",
      "818:\ttest: 0.8992797\tbest: 0.8993207 (817)\ttotal: 4m 12s\tremaining: 55.9s\n",
      "819:\ttest: 0.8992788\tbest: 0.8993207 (817)\ttotal: 4m 13s\tremaining: 55.6s\n",
      "820:\ttest: 0.8992958\tbest: 0.8993207 (817)\ttotal: 4m 13s\tremaining: 55.3s\n",
      "821:\ttest: 0.8992609\tbest: 0.8993207 (817)\ttotal: 4m 13s\tremaining: 55s\n",
      "822:\ttest: 0.8992335\tbest: 0.8993207 (817)\ttotal: 4m 14s\tremaining: 54.7s\n",
      "823:\ttest: 0.8993048\tbest: 0.8993207 (817)\ttotal: 4m 14s\tremaining: 54.4s\n",
      "824:\ttest: 0.8993156\tbest: 0.8993207 (817)\ttotal: 4m 14s\tremaining: 54s\n",
      "825:\ttest: 0.8993418\tbest: 0.8993418 (825)\ttotal: 4m 15s\tremaining: 53.7s\n",
      "826:\ttest: 0.8993976\tbest: 0.8993976 (826)\ttotal: 4m 15s\tremaining: 53.4s\n",
      "827:\ttest: 0.8994776\tbest: 0.8994776 (827)\ttotal: 4m 15s\tremaining: 53.1s\n",
      "828:\ttest: 0.8993473\tbest: 0.8994776 (827)\ttotal: 4m 16s\tremaining: 52.8s\n",
      "829:\ttest: 0.8993254\tbest: 0.8994776 (827)\ttotal: 4m 16s\tremaining: 52.5s\n",
      "830:\ttest: 0.8993645\tbest: 0.8994776 (827)\ttotal: 4m 16s\tremaining: 52.2s\n",
      "831:\ttest: 0.8994450\tbest: 0.8994776 (827)\ttotal: 4m 16s\tremaining: 51.9s\n",
      "832:\ttest: 0.8994491\tbest: 0.8994776 (827)\ttotal: 4m 17s\tremaining: 51.6s\n",
      "833:\ttest: 0.8994395\tbest: 0.8994776 (827)\ttotal: 4m 17s\tremaining: 51.3s\n",
      "834:\ttest: 0.8994894\tbest: 0.8994894 (834)\ttotal: 4m 17s\tremaining: 50.9s\n",
      "835:\ttest: 0.8995294\tbest: 0.8995294 (835)\ttotal: 4m 18s\tremaining: 50.6s\n",
      "836:\ttest: 0.8995805\tbest: 0.8995805 (836)\ttotal: 4m 18s\tremaining: 50.3s\n",
      "837:\ttest: 0.8996299\tbest: 0.8996299 (837)\ttotal: 4m 18s\tremaining: 50s\n",
      "838:\ttest: 0.8997035\tbest: 0.8997035 (838)\ttotal: 4m 19s\tremaining: 49.7s\n",
      "839:\ttest: 0.8997467\tbest: 0.8997467 (839)\ttotal: 4m 19s\tremaining: 49.4s\n",
      "840:\ttest: 0.8997483\tbest: 0.8997483 (840)\ttotal: 4m 19s\tremaining: 49.1s\n",
      "841:\ttest: 0.8997152\tbest: 0.8997483 (840)\ttotal: 4m 19s\tremaining: 48.8s\n",
      "842:\ttest: 0.8997083\tbest: 0.8997483 (840)\ttotal: 4m 20s\tremaining: 48.5s\n",
      "843:\ttest: 0.8996835\tbest: 0.8997483 (840)\ttotal: 4m 20s\tremaining: 48.2s\n",
      "844:\ttest: 0.8997155\tbest: 0.8997483 (840)\ttotal: 4m 20s\tremaining: 47.8s\n",
      "845:\ttest: 0.8996971\tbest: 0.8997483 (840)\ttotal: 4m 21s\tremaining: 47.5s\n",
      "846:\ttest: 0.8997291\tbest: 0.8997483 (840)\ttotal: 4m 21s\tremaining: 47.2s\n",
      "847:\ttest: 0.8997224\tbest: 0.8997483 (840)\ttotal: 4m 21s\tremaining: 46.9s\n",
      "848:\ttest: 0.8996414\tbest: 0.8997483 (840)\ttotal: 4m 21s\tremaining: 46.6s\n",
      "849:\ttest: 0.8996701\tbest: 0.8997483 (840)\ttotal: 4m 22s\tremaining: 46.3s\n",
      "850:\ttest: 0.8996092\tbest: 0.8997483 (840)\ttotal: 4m 22s\tremaining: 46s\n",
      "851:\ttest: 0.8996603\tbest: 0.8997483 (840)\ttotal: 4m 22s\tremaining: 45.7s\n",
      "852:\ttest: 0.8996614\tbest: 0.8997483 (840)\ttotal: 4m 23s\tremaining: 45.4s\n",
      "853:\ttest: 0.8996741\tbest: 0.8997483 (840)\ttotal: 4m 23s\tremaining: 45.1s\n",
      "854:\ttest: 0.8996783\tbest: 0.8997483 (840)\ttotal: 4m 23s\tremaining: 44.8s\n",
      "855:\ttest: 0.8997163\tbest: 0.8997483 (840)\ttotal: 4m 24s\tremaining: 44.5s\n",
      "856:\ttest: 0.8997932\tbest: 0.8997932 (856)\ttotal: 4m 24s\tremaining: 44.2s\n",
      "857:\ttest: 0.8998115\tbest: 0.8998115 (857)\ttotal: 4m 24s\tremaining: 43.8s\n",
      "858:\ttest: 0.8998323\tbest: 0.8998323 (858)\ttotal: 4m 25s\tremaining: 43.5s\n",
      "859:\ttest: 0.8998455\tbest: 0.8998455 (859)\ttotal: 4m 25s\tremaining: 43.2s\n",
      "860:\ttest: 0.8998670\tbest: 0.8998670 (860)\ttotal: 4m 26s\tremaining: 43s\n",
      "861:\ttest: 0.8997984\tbest: 0.8998670 (860)\ttotal: 4m 26s\tremaining: 42.7s\n",
      "862:\ttest: 0.8999500\tbest: 0.8999500 (862)\ttotal: 4m 26s\tremaining: 42.3s\n",
      "863:\ttest: 0.8999537\tbest: 0.8999537 (863)\ttotal: 4m 27s\tremaining: 42s\n",
      "864:\ttest: 0.8999109\tbest: 0.8999537 (863)\ttotal: 4m 27s\tremaining: 41.7s\n",
      "865:\ttest: 0.8999520\tbest: 0.8999537 (863)\ttotal: 4m 27s\tremaining: 41.4s\n",
      "866:\ttest: 0.8999348\tbest: 0.8999537 (863)\ttotal: 4m 28s\tremaining: 41.1s\n",
      "867:\ttest: 0.8999506\tbest: 0.8999537 (863)\ttotal: 4m 28s\tremaining: 40.8s\n",
      "868:\ttest: 0.8999701\tbest: 0.8999701 (868)\ttotal: 4m 28s\tremaining: 40.5s\n",
      "869:\ttest: 0.8999999\tbest: 0.8999999 (869)\ttotal: 4m 28s\tremaining: 40.2s\n",
      "870:\ttest: 0.9000879\tbest: 0.9000879 (870)\ttotal: 4m 29s\tremaining: 39.9s\n",
      "871:\ttest: 0.9000395\tbest: 0.9000879 (870)\ttotal: 4m 29s\tremaining: 39.6s\n",
      "872:\ttest: 0.9000536\tbest: 0.9000879 (870)\ttotal: 4m 29s\tremaining: 39.3s\n",
      "873:\ttest: 0.9000981\tbest: 0.9000981 (873)\ttotal: 4m 30s\tremaining: 39s\n",
      "874:\ttest: 0.9001112\tbest: 0.9001112 (874)\ttotal: 4m 30s\tremaining: 38.7s\n",
      "875:\ttest: 0.9001202\tbest: 0.9001202 (875)\ttotal: 4m 30s\tremaining: 38.3s\n",
      "876:\ttest: 0.9000536\tbest: 0.9001202 (875)\ttotal: 4m 31s\tremaining: 38s\n",
      "877:\ttest: 0.9000869\tbest: 0.9001202 (875)\ttotal: 4m 31s\tremaining: 37.7s\n",
      "878:\ttest: 0.9000482\tbest: 0.9001202 (875)\ttotal: 4m 31s\tremaining: 37.4s\n",
      "879:\ttest: 0.9000407\tbest: 0.9001202 (875)\ttotal: 4m 32s\tremaining: 37.1s\n",
      "880:\ttest: 0.9000892\tbest: 0.9001202 (875)\ttotal: 4m 32s\tremaining: 36.8s\n",
      "881:\ttest: 0.9001012\tbest: 0.9001202 (875)\ttotal: 4m 32s\tremaining: 36.5s\n",
      "882:\ttest: 0.9001275\tbest: 0.9001275 (882)\ttotal: 4m 33s\tremaining: 36.2s\n",
      "883:\ttest: 0.9000957\tbest: 0.9001275 (882)\ttotal: 4m 33s\tremaining: 35.9s\n",
      "884:\ttest: 0.9001352\tbest: 0.9001352 (884)\ttotal: 4m 33s\tremaining: 35.6s\n",
      "885:\ttest: 0.9001332\tbest: 0.9001352 (884)\ttotal: 4m 33s\tremaining: 35.3s\n",
      "886:\ttest: 0.9001558\tbest: 0.9001558 (886)\ttotal: 4m 34s\tremaining: 34.9s\n",
      "887:\ttest: 0.9001570\tbest: 0.9001570 (887)\ttotal: 4m 34s\tremaining: 34.6s\n",
      "888:\ttest: 0.9001651\tbest: 0.9001651 (888)\ttotal: 4m 34s\tremaining: 34.3s\n",
      "889:\ttest: 0.9001548\tbest: 0.9001651 (888)\ttotal: 4m 35s\tremaining: 34s\n",
      "890:\ttest: 0.9003019\tbest: 0.9003019 (890)\ttotal: 4m 35s\tremaining: 33.7s\n"
     ]
    },
    {
     "name": "stdout",
     "output_type": "stream",
     "text": [
      "891:\ttest: 0.9002883\tbest: 0.9003019 (890)\ttotal: 4m 35s\tremaining: 33.4s\n",
      "892:\ttest: 0.9001780\tbest: 0.9003019 (890)\ttotal: 4m 36s\tremaining: 33.1s\n",
      "893:\ttest: 0.9001556\tbest: 0.9003019 (890)\ttotal: 4m 36s\tremaining: 32.8s\n",
      "894:\ttest: 0.9001796\tbest: 0.9003019 (890)\ttotal: 4m 36s\tremaining: 32.4s\n",
      "895:\ttest: 0.9002019\tbest: 0.9003019 (890)\ttotal: 4m 36s\tremaining: 32.1s\n",
      "896:\ttest: 0.9002410\tbest: 0.9003019 (890)\ttotal: 4m 37s\tremaining: 31.8s\n",
      "897:\ttest: 0.9002703\tbest: 0.9003019 (890)\ttotal: 4m 37s\tremaining: 31.5s\n",
      "898:\ttest: 0.9002252\tbest: 0.9003019 (890)\ttotal: 4m 37s\tremaining: 31.2s\n",
      "899:\ttest: 0.9002386\tbest: 0.9003019 (890)\ttotal: 4m 38s\tremaining: 30.9s\n",
      "900:\ttest: 0.9002102\tbest: 0.9003019 (890)\ttotal: 4m 38s\tremaining: 30.6s\n",
      "901:\ttest: 0.9002174\tbest: 0.9003019 (890)\ttotal: 4m 38s\tremaining: 30.3s\n",
      "902:\ttest: 0.9002281\tbest: 0.9003019 (890)\ttotal: 4m 38s\tremaining: 30s\n",
      "903:\ttest: 0.9002908\tbest: 0.9003019 (890)\ttotal: 4m 39s\tremaining: 29.6s\n",
      "904:\ttest: 0.9003117\tbest: 0.9003117 (904)\ttotal: 4m 39s\tremaining: 29.3s\n",
      "905:\ttest: 0.9002553\tbest: 0.9003117 (904)\ttotal: 4m 39s\tremaining: 29s\n",
      "906:\ttest: 0.9002971\tbest: 0.9003117 (904)\ttotal: 4m 40s\tremaining: 28.7s\n",
      "907:\ttest: 0.9003216\tbest: 0.9003216 (907)\ttotal: 4m 40s\tremaining: 28.4s\n",
      "908:\ttest: 0.9003371\tbest: 0.9003371 (908)\ttotal: 4m 40s\tremaining: 28.1s\n",
      "909:\ttest: 0.9003641\tbest: 0.9003641 (909)\ttotal: 4m 40s\tremaining: 27.8s\n",
      "910:\ttest: 0.9003422\tbest: 0.9003641 (909)\ttotal: 4m 41s\tremaining: 27.5s\n",
      "911:\ttest: 0.9003667\tbest: 0.9003667 (911)\ttotal: 4m 41s\tremaining: 27.2s\n",
      "912:\ttest: 0.9004135\tbest: 0.9004135 (912)\ttotal: 4m 41s\tremaining: 26.8s\n",
      "913:\ttest: 0.9004441\tbest: 0.9004441 (913)\ttotal: 4m 42s\tremaining: 26.5s\n",
      "914:\ttest: 0.9004622\tbest: 0.9004622 (914)\ttotal: 4m 42s\tremaining: 26.2s\n",
      "915:\ttest: 0.9004530\tbest: 0.9004622 (914)\ttotal: 4m 42s\tremaining: 25.9s\n",
      "916:\ttest: 0.9005113\tbest: 0.9005113 (916)\ttotal: 4m 43s\tremaining: 25.6s\n",
      "917:\ttest: 0.9005066\tbest: 0.9005113 (916)\ttotal: 4m 43s\tremaining: 25.3s\n",
      "918:\ttest: 0.9004761\tbest: 0.9005113 (916)\ttotal: 4m 43s\tremaining: 25s\n",
      "919:\ttest: 0.9004501\tbest: 0.9005113 (916)\ttotal: 4m 44s\tremaining: 24.7s\n",
      "920:\ttest: 0.9004246\tbest: 0.9005113 (916)\ttotal: 4m 44s\tremaining: 24.4s\n",
      "921:\ttest: 0.9004546\tbest: 0.9005113 (916)\ttotal: 4m 44s\tremaining: 24.1s\n",
      "922:\ttest: 0.9004398\tbest: 0.9005113 (916)\ttotal: 4m 44s\tremaining: 23.8s\n",
      "923:\ttest: 0.9004523\tbest: 0.9005113 (916)\ttotal: 4m 45s\tremaining: 23.5s\n",
      "924:\ttest: 0.9005464\tbest: 0.9005464 (924)\ttotal: 4m 45s\tremaining: 23.2s\n",
      "925:\ttest: 0.9005695\tbest: 0.9005695 (925)\ttotal: 4m 45s\tremaining: 22.9s\n",
      "926:\ttest: 0.9005968\tbest: 0.9005968 (926)\ttotal: 4m 46s\tremaining: 22.5s\n",
      "927:\ttest: 0.9006444\tbest: 0.9006444 (927)\ttotal: 4m 46s\tremaining: 22.2s\n",
      "928:\ttest: 0.9006651\tbest: 0.9006651 (928)\ttotal: 4m 46s\tremaining: 21.9s\n",
      "929:\ttest: 0.9007357\tbest: 0.9007357 (929)\ttotal: 4m 47s\tremaining: 21.6s\n",
      "930:\ttest: 0.9007913\tbest: 0.9007913 (930)\ttotal: 4m 47s\tremaining: 21.3s\n",
      "931:\ttest: 0.9008548\tbest: 0.9008548 (931)\ttotal: 4m 47s\tremaining: 21s\n",
      "932:\ttest: 0.9009073\tbest: 0.9009073 (932)\ttotal: 4m 48s\tremaining: 20.7s\n",
      "933:\ttest: 0.9008859\tbest: 0.9009073 (932)\ttotal: 4m 48s\tremaining: 20.4s\n",
      "934:\ttest: 0.9008950\tbest: 0.9009073 (932)\ttotal: 4m 48s\tremaining: 20.1s\n",
      "935:\ttest: 0.9009675\tbest: 0.9009675 (935)\ttotal: 4m 49s\tremaining: 19.8s\n",
      "936:\ttest: 0.9009326\tbest: 0.9009675 (935)\ttotal: 4m 49s\tremaining: 19.5s\n",
      "937:\ttest: 0.9009689\tbest: 0.9009689 (937)\ttotal: 4m 49s\tremaining: 19.2s\n",
      "938:\ttest: 0.9009849\tbest: 0.9009849 (938)\ttotal: 4m 50s\tremaining: 18.8s\n",
      "939:\ttest: 0.9009794\tbest: 0.9009849 (938)\ttotal: 4m 50s\tremaining: 18.5s\n",
      "940:\ttest: 0.9010790\tbest: 0.9010790 (940)\ttotal: 4m 50s\tremaining: 18.2s\n",
      "941:\ttest: 0.9010790\tbest: 0.9010790 (940)\ttotal: 4m 51s\tremaining: 17.9s\n",
      "942:\ttest: 0.9010592\tbest: 0.9010790 (940)\ttotal: 4m 51s\tremaining: 17.6s\n",
      "943:\ttest: 0.9011814\tbest: 0.9011814 (943)\ttotal: 4m 51s\tremaining: 17.3s\n",
      "944:\ttest: 0.9012348\tbest: 0.9012348 (944)\ttotal: 4m 52s\tremaining: 17s\n",
      "945:\ttest: 0.9012551\tbest: 0.9012551 (945)\ttotal: 4m 52s\tremaining: 16.7s\n",
      "946:\ttest: 0.9012613\tbest: 0.9012613 (946)\ttotal: 4m 52s\tremaining: 16.4s\n",
      "947:\ttest: 0.9012772\tbest: 0.9012772 (947)\ttotal: 4m 52s\tremaining: 16.1s\n",
      "948:\ttest: 0.9012713\tbest: 0.9012772 (947)\ttotal: 4m 53s\tremaining: 15.8s\n",
      "949:\ttest: 0.9013019\tbest: 0.9013019 (949)\ttotal: 4m 53s\tremaining: 15.5s\n",
      "950:\ttest: 0.9012777\tbest: 0.9013019 (949)\ttotal: 4m 53s\tremaining: 15.1s\n",
      "951:\ttest: 0.9012579\tbest: 0.9013019 (949)\ttotal: 4m 54s\tremaining: 14.8s\n",
      "952:\ttest: 0.9013832\tbest: 0.9013832 (952)\ttotal: 4m 54s\tremaining: 14.5s\n",
      "953:\ttest: 0.9013722\tbest: 0.9013832 (952)\ttotal: 4m 54s\tremaining: 14.2s\n",
      "954:\ttest: 0.9014019\tbest: 0.9014019 (954)\ttotal: 4m 55s\tremaining: 13.9s\n",
      "955:\ttest: 0.9014482\tbest: 0.9014482 (955)\ttotal: 4m 55s\tremaining: 13.6s\n",
      "956:\ttest: 0.9014494\tbest: 0.9014494 (956)\ttotal: 4m 55s\tremaining: 13.3s\n",
      "957:\ttest: 0.9014911\tbest: 0.9014911 (957)\ttotal: 4m 56s\tremaining: 13s\n",
      "958:\ttest: 0.9014774\tbest: 0.9014911 (957)\ttotal: 4m 56s\tremaining: 12.7s\n",
      "959:\ttest: 0.9014842\tbest: 0.9014911 (957)\ttotal: 4m 56s\tremaining: 12.4s\n",
      "960:\ttest: 0.9014922\tbest: 0.9014922 (960)\ttotal: 4m 56s\tremaining: 12.1s\n",
      "961:\ttest: 0.9015045\tbest: 0.9015045 (961)\ttotal: 4m 57s\tremaining: 11.7s\n",
      "962:\ttest: 0.9015016\tbest: 0.9015045 (961)\ttotal: 4m 57s\tremaining: 11.4s\n",
      "963:\ttest: 0.9015595\tbest: 0.9015595 (963)\ttotal: 4m 57s\tremaining: 11.1s\n",
      "964:\ttest: 0.9015771\tbest: 0.9015771 (964)\ttotal: 4m 58s\tremaining: 10.8s\n",
      "965:\ttest: 0.9015648\tbest: 0.9015771 (964)\ttotal: 4m 58s\tremaining: 10.5s\n",
      "966:\ttest: 0.9016209\tbest: 0.9016209 (966)\ttotal: 4m 58s\tremaining: 10.2s\n",
      "967:\ttest: 0.9016010\tbest: 0.9016209 (966)\ttotal: 4m 59s\tremaining: 9.89s\n",
      "968:\ttest: 0.9016291\tbest: 0.9016291 (968)\ttotal: 4m 59s\tremaining: 9.58s\n",
      "969:\ttest: 0.9016767\tbest: 0.9016767 (969)\ttotal: 4m 59s\tremaining: 9.27s\n",
      "970:\ttest: 0.9016892\tbest: 0.9016892 (970)\ttotal: 5m\tremaining: 8.96s\n",
      "971:\ttest: 0.9017206\tbest: 0.9017206 (971)\ttotal: 5m\tremaining: 8.65s\n",
      "972:\ttest: 0.9016837\tbest: 0.9017206 (971)\ttotal: 5m\tremaining: 8.34s\n",
      "973:\ttest: 0.9016723\tbest: 0.9017206 (971)\ttotal: 5m 1s\tremaining: 8.04s\n",
      "974:\ttest: 0.9016343\tbest: 0.9017206 (971)\ttotal: 5m 1s\tremaining: 7.73s\n",
      "975:\ttest: 0.9016638\tbest: 0.9017206 (971)\ttotal: 5m 1s\tremaining: 7.42s\n",
      "976:\ttest: 0.9016473\tbest: 0.9017206 (971)\ttotal: 5m 2s\tremaining: 7.11s\n",
      "977:\ttest: 0.9016872\tbest: 0.9017206 (971)\ttotal: 5m 2s\tremaining: 6.8s\n",
      "978:\ttest: 0.9017544\tbest: 0.9017544 (978)\ttotal: 5m 2s\tremaining: 6.49s\n",
      "979:\ttest: 0.9017651\tbest: 0.9017651 (979)\ttotal: 5m 3s\tremaining: 6.18s\n",
      "980:\ttest: 0.9017995\tbest: 0.9017995 (980)\ttotal: 5m 3s\tremaining: 5.88s\n",
      "981:\ttest: 0.9017804\tbest: 0.9017995 (980)\ttotal: 5m 3s\tremaining: 5.57s\n",
      "982:\ttest: 0.9018302\tbest: 0.9018302 (982)\ttotal: 5m 3s\tremaining: 5.26s\n",
      "983:\ttest: 0.9017736\tbest: 0.9018302 (982)\ttotal: 5m 4s\tremaining: 4.95s\n",
      "984:\ttest: 0.9017793\tbest: 0.9018302 (982)\ttotal: 5m 4s\tremaining: 4.64s\n",
      "985:\ttest: 0.9017882\tbest: 0.9018302 (982)\ttotal: 5m 4s\tremaining: 4.33s\n",
      "986:\ttest: 0.9017834\tbest: 0.9018302 (982)\ttotal: 5m 5s\tremaining: 4.02s\n",
      "987:\ttest: 0.9018459\tbest: 0.9018459 (987)\ttotal: 5m 5s\tremaining: 3.71s\n",
      "988:\ttest: 0.9018541\tbest: 0.9018541 (988)\ttotal: 5m 5s\tremaining: 3.4s\n",
      "989:\ttest: 0.9017991\tbest: 0.9018541 (988)\ttotal: 5m 6s\tremaining: 3.09s\n",
      "990:\ttest: 0.9018545\tbest: 0.9018545 (990)\ttotal: 5m 6s\tremaining: 2.78s\n",
      "991:\ttest: 0.9019276\tbest: 0.9019276 (991)\ttotal: 5m 6s\tremaining: 2.47s\n",
      "992:\ttest: 0.9018823\tbest: 0.9019276 (991)\ttotal: 5m 7s\tremaining: 2.17s\n",
      "993:\ttest: 0.9019098\tbest: 0.9019276 (991)\ttotal: 5m 7s\tremaining: 1.86s\n",
      "994:\ttest: 0.9018888\tbest: 0.9019276 (991)\ttotal: 5m 7s\tremaining: 1.55s\n",
      "995:\ttest: 0.9019658\tbest: 0.9019658 (995)\ttotal: 5m 8s\tremaining: 1.24s\n",
      "996:\ttest: 0.9020193\tbest: 0.9020193 (996)\ttotal: 5m 8s\tremaining: 928ms\n",
      "997:\ttest: 0.9020297\tbest: 0.9020297 (997)\ttotal: 5m 8s\tremaining: 619ms\n",
      "998:\ttest: 0.9020513\tbest: 0.9020513 (998)\ttotal: 5m 9s\tremaining: 309ms\n",
      "999:\ttest: 0.9020420\tbest: 0.9020513 (998)\ttotal: 5m 9s\tremaining: 0us\n",
      "\n",
      "bestTest = 0.9020513274\n",
      "bestIteration = 998\n",
      "\n",
      "Shrink model to first 999 iterations.\n"
     ]
    },
    {
     "data": {
      "text/plain": [
       "<catboost.core.CatBoostClassifier at 0x7f5fdd714780>"
      ]
     },
     "execution_count": 72,
     "metadata": {},
     "output_type": "execute_result"
    }
   ],
   "source": [
    "clf = CatBoostClassifier(eval_metric='AUC', learning_rate=0.5, depth=8)\n",
    "clf.fit(X_train_wv, y_train.astype(int), eval_set=(X_test_wv, y_test.astype(int)))"
   ]
  },
  {
   "cell_type": "code",
   "execution_count": null,
   "metadata": {},
   "outputs": [],
   "source": []
  }
 ],
 "metadata": {
  "kernelspec": {
   "display_name": "Python 3",
   "language": "python",
   "name": "python3"
  },
  "language_info": {
   "codemirror_mode": {
    "name": "ipython",
    "version": 3
   },
   "file_extension": ".py",
   "mimetype": "text/x-python",
   "name": "python",
   "nbconvert_exporter": "python",
   "pygments_lexer": "ipython3",
   "version": "3.6.8"
  }
 },
 "nbformat": 4,
 "nbformat_minor": 2
}
